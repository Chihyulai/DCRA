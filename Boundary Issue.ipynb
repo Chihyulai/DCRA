{
 "cells": [
  {
   "cell_type": "code",
   "execution_count": 27,
   "metadata": {},
   "outputs": [],
   "source": [
    "import arcgis\n",
    "from arcgis.gis import GIS\n",
    "from arcgis.mapping import WebMap\n",
    "from arcgis.features import FeatureLayer\n",
    "from arcgis.geometry import Geometry, Envelope, Polygon\n",
    "import arcpy"
   ]
  },
  {
   "cell_type": "code",
   "execution_count": 28,
   "metadata": {},
   "outputs": [
    {
     "name": "stdout",
     "output_type": "stream",
     "text": [
      "Enter password: ········\n"
     ]
    }
   ],
   "source": [
    "prtl = GIS(username=\"mtorrey_DCCED\")"
   ]
  },
  {
   "cell_type": "code",
   "execution_count": 42,
   "metadata": {},
   "outputs": [],
   "source": [
    "bndry_layer_url = 'https://maps.commerce.alaska.gov/server/rest/services/Community_Related/DCRA_Communities/FeatureServer/0'\n",
    "bndry_features = FeatureLayer(bndry_layer.url).query(where=\"NAME = 'North Slope Borough'\", out_fields=\"*\")"
   ]
  },
  {
   "cell_type": "code",
   "execution_count": 43,
   "metadata": {},
   "outputs": [],
   "source": [
    "bndry_ext = Polygon(bndry_features.features[0].geometry).extent\n",
    "bndry_ext_prj = Geometry({\n",
    "    'xmin':bndry_ext[0],\n",
    "    'ymin':bndry_ext[1],\n",
    "    'xmax':bndry_ext[2],\n",
    "    'ymax':bndry_ext[3],\n",
    "    'spatialReference': {\n",
    "        'wkid':102006\n",
    "    }\n",
    "}).project_as({'wkid':4326})"
   ]
  },
  {
   "cell_type": "code",
   "execution_count": 44,
   "metadata": {},
   "outputs": [
    {
     "data": {
      "text/plain": [
       "{'xmin': -168.48621262257078,\n",
       " 'ymin': 67.54005312838699,\n",
       " 'xmax': -139.58381476425848,\n",
       " 'ymax': 71.45542039062514,\n",
       " 'spatialReference': {'wkid': 4326, 'latestWkid': 4326}}"
      ]
     },
     "execution_count": 44,
     "metadata": {},
     "output_type": "execute_result"
    }
   ],
   "source": [
    "bndry_ext_prj"
   ]
  },
  {
   "cell_type": "code",
   "execution_count": 49,
   "metadata": {},
   "outputs": [],
   "source": [
    "map1 = prtl.map()\n",
    "map1.extent = {\n",
    "    'xmin':bndry_ext_prj.xmin,\n",
    "    'ymin':bndry_ext_prj.ymin,\n",
    "    'xmax':bndry_ext_prj.xmax,\n",
    "    'ymax':bndry_ext_prj.ymax\n",
    "}\n"
   ]
  },
  {
   "cell_type": "code",
   "execution_count": 50,
   "metadata": {},
   "outputs": [
    {
     "data": {
      "application/vnd.jupyter.widget-view+json": {
       "model_id": "ec59d1f3a3a04754bf237fabae7d2b25",
       "version_major": 2,
       "version_minor": 0
      },
      "text/plain": [
       "MapView(layout=Layout(height='400px', width='100%'))"
      ]
     },
     "metadata": {},
     "output_type": "display_data"
    }
   ],
   "source": [
    "map1"
   ]
  },
  {
   "cell_type": "code",
   "execution_count": null,
   "metadata": {},
   "outputs": [],
   "source": []
  }
 ],
 "metadata": {
  "kernelspec": {
   "display_name": "Python 3",
   "language": "python",
   "name": "python3"
  },
  "language_info": {
   "codemirror_mode": {
    "name": "ipython",
    "version": 3
   },
   "file_extension": ".py",
   "mimetype": "text/x-python",
   "name": "python",
   "nbconvert_exporter": "python",
   "pygments_lexer": "ipython3",
   "version": "3.6.5"
  }
 },
 "nbformat": 4,
 "nbformat_minor": 2
}
