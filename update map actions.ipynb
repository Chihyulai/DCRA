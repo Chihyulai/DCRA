{
 "cells": [
  {
   "cell_type": "markdown",
   "metadata": {},
   "source": [
    "### Imports"
   ]
  },
  {
   "cell_type": "code",
   "execution_count": 2,
   "metadata": {},
   "outputs": [],
   "source": [
    "import pandas as pd\n",
    "from arcgis.gis import GIS\n",
    "from arcgis.apps.storymap import JournalStoryMap\n",
    "from arcgis.mapping import WebMap\n",
    "from arcgis.features import FeatureLayer, Feature\n",
    "from arcgis.geometry import Geometry, SpatialReference, Point"
   ]
  },
  {
   "cell_type": "markdown",
   "metadata": {},
   "source": [
    "### Utility Methods"
   ]
  },
  {
   "cell_type": "code",
   "execution_count": 101,
   "metadata": {},
   "outputs": [],
   "source": [
    "import uuid,json,arcpy\n",
    "\n",
    "def getExtent(fromFeature):\n",
    "    g = Geometry(fromFeature.geometry)\n",
    "    if g.type.lower() == 'point':\n",
    "        bg = Point({\"x\": g.x, \"y\": g.y, \"spatialReference\": {\"wkid\": 102100}})\n",
    "        gbuf = bg.buffer(1609.344) # assume meters, 1609.344 ~ 1 mile\n",
    "        return gbuf.extent\n",
    "    \n",
    "    return g.extent\n",
    "\n",
    "def getMapAction(fromFeature, forWebmap, lyrNdx=0, label_field=\"OBJECTID\", label_prefix=\"Feature Extent\", add_popup=False):\n",
    "    # TODO - make sure input parameters are valid, since we are just inserting them into the mapaction schema\n",
    "    \n",
    "    # pull out a value from the feature to display in our anchor tag\n",
    "    lbl_val = fromFeature.attributes[fromFeature.fields[0]]\n",
    "    if label_field in fromFeature.fields:\n",
    "        lbl_val = fromFeature.attributes[label_field]\n",
    "    \n",
    "    # format the label\n",
    "    lbl_frmtd = '{0}{1}'.format(label_prefix, lbl_val)\n",
    "    \n",
    "    # get the geometry extent\n",
    "    # TODO - Need to validate this or default to a valid extent\n",
    "    ext = getExtent(fromFeature)\n",
    "    \n",
    "    # find the oid field\n",
    "    oid_field = [f for f in fromFeature.fields if f.lower() == 'objectid'][0]\n",
    "    if len(oid_field) <= 0 or oid_field is None:\n",
    "        print('objectid not in field list, will disable showing popup')\n",
    "        add_popup = False\n",
    "    \n",
    "    wm = WebMap(forWebmap)\n",
    "    layer = wm.layers[lyrNdx]\n",
    "    \n",
    "    popup_def = None\n",
    "    if add_popup:\n",
    "        popup_def = {\n",
    "            \"layerId\": layer.id,\n",
    "            \"fieldName\": oid_field, # we should probably get this dynamically and not hard code\n",
    "            \"fieldValue\": fromFeature.attributes[oid_field], # same with this one\n",
    "            \"anchorPoint\": {\n",
    "                \"x\": Geometry(fromFeature.geometry).centroid[0],\n",
    "                \"y\": Geometry(fromFeature.geometry).centroid[1],\n",
    "                \"spatialReference\": {\n",
    "                    \"wkid\": 102100\n",
    "                }\n",
    "            }\n",
    "        }\n",
    "    \n",
    "    # create a unique id\n",
    "    # ts = int(round(time.time() * 1000)) this isn't precise enough, gets duplicated in loop\n",
    "    ts = str(uuid.uuid4())\n",
    "    #print('id : {0}'.format(ts))\n",
    "    \n",
    "    # insert values into our map action schema\n",
    "    ma = {\n",
    "        \"id\":\"MJ-ACTION-{0}\".format(ts),\n",
    "        \"type\": \"media\",\n",
    "        \"media\": {\n",
    "            \"type\":\"webmap\",\n",
    "            \"webmap\": {\n",
    "                \"id\":forWebmap.id,\n",
    "                \"extent\": {\n",
    "                    \"xmin\": ext[0],\n",
    "                    \"ymin\": ext[1],\n",
    "                    \"xmax\": ext[2],\n",
    "                    \"ymax\": ext[3],\n",
    "                    \"spatialReference\":{\n",
    "                        \"wkid\": 102100\n",
    "                    }\n",
    "                },\n",
    "                \"layers\": None,\n",
    "                \"popup\": popup_def,\n",
    "                \"overview\":{\n",
    "                    \"enable\": False,\n",
    "                    \"openByDefault\": False\n",
    "                },\n",
    "                \"legend\": {\n",
    "                    \"enable\": False,\n",
    "                    \"openByDefault\": False\n",
    "                },\n",
    "                \"geocoder\":{\n",
    "                    \"enable\": False\n",
    "                },\n",
    "                \"altText\": \"\"\n",
    "            }\n",
    "        }\n",
    "    }\n",
    "    \n",
    "    # create the html string\n",
    "    content_anchor = '<a data-storymaps=\"{0}\" data-storymaps-type=\"media\">{1}</a>'.format(ma['id'], lbl_frmtd)\n",
    "    \n",
    "    # hand back our results to whoever called this function\n",
    "    return {\"content_link\": content_anchor, \"map_action\": ma}"
   ]
  },
  {
   "cell_type": "markdown",
   "metadata": {},
   "source": [
    "### Connect to Portal"
   ]
  },
  {
   "cell_type": "code",
   "execution_count": 7,
   "metadata": {},
   "outputs": [
    {
     "name": "stdout",
     "output_type": "stream",
     "text": [
      "Enter password: ········\n"
     ]
    }
   ],
   "source": [
    "prtl = GIS(username='marktorrey')"
   ]
  },
  {
   "cell_type": "markdown",
   "metadata": {},
   "source": [
    "### Get a webmap that has some data we want to query"
   ]
  },
  {
   "cell_type": "code",
   "execution_count": 94,
   "metadata": {},
   "outputs": [
    {
     "data": {
      "text/plain": [
       "{\n",
       "  \"id\": \"hosted_point_layer_8467\",\n",
       "  \"layerType\": \"ArcGISFeatureLayer\",\n",
       "  \"url\": \"https://services.arcgis.com/dfRzIozUOVYoi65F/arcgis/rest/services/hosted_point_layer/FeatureServer/0\",\n",
       "  \"visibility\": true,\n",
       "  \"opacity\": 1,\n",
       "  \"title\": \"hosted_point_layer\",\n",
       "  \"itemId\": \"e20b714c7f8640c3a50a3636270741c7\",\n",
       "  \"popupInfo\": {\n",
       "    \"title\": \"hosted_point_layer\",\n",
       "    \"fieldInfos\": [\n",
       "      {\n",
       "        \"fieldName\": \"OBJECTID\",\n",
       "        \"label\": \"OBJECTID\",\n",
       "        \"isEditable\": false,\n",
       "        \"tooltip\": \"\",\n",
       "        \"visible\": false,\n",
       "        \"stringFieldOption\": \"textbox\"\n",
       "      },\n",
       "      {\n",
       "        \"fieldName\": \"textfield\",\n",
       "        \"label\": \"Text Field\",\n",
       "        \"isEditable\": true,\n",
       "        \"tooltip\": \"\",\n",
       "        \"visible\": true,\n",
       "        \"stringFieldOption\": \"textbox\"\n",
       "      },\n",
       "      {\n",
       "        \"fieldName\": \"integerfield\",\n",
       "        \"label\": \"Integer Field\",\n",
       "        \"isEditable\": true,\n",
       "        \"tooltip\": \"\",\n",
       "        \"visible\": true,\n",
       "        \"stringFieldOption\": \"textbox\",\n",
       "        \"format\": {\n",
       "          \"places\": 0,\n",
       "          \"digitSeparator\": true\n",
       "        }\n",
       "      },\n",
       "      {\n",
       "        \"fieldName\": \"doublefield\",\n",
       "        \"label\": \"DoubleField\",\n",
       "        \"isEditable\": true,\n",
       "        \"tooltip\": \"\",\n",
       "        \"visible\": true,\n",
       "        \"stringFieldOption\": \"textbox\",\n",
       "        \"format\": {\n",
       "          \"places\": 2,\n",
       "          \"digitSeparator\": true\n",
       "        }\n",
       "      },\n",
       "      {\n",
       "        \"fieldName\": \"datefield\",\n",
       "        \"label\": \"Date Field\",\n",
       "        \"isEditable\": true,\n",
       "        \"tooltip\": \"\",\n",
       "        \"visible\": true,\n",
       "        \"stringFieldOption\": \"textbox\",\n",
       "        \"format\": {\n",
       "          \"dateFormat\": \"shortDateShortTime\"\n",
       "        }\n",
       "      },\n",
       "      {\n",
       "        \"fieldName\": \"codeddomain\",\n",
       "        \"label\": \"CodedDomain\",\n",
       "        \"isEditable\": true,\n",
       "        \"tooltip\": \"\",\n",
       "        \"visible\": true,\n",
       "        \"stringFieldOption\": \"textbox\"\n",
       "      },\n",
       "      {\n",
       "        \"fieldName\": \"rangedomain\",\n",
       "        \"label\": \"RangeDomain\",\n",
       "        \"isEditable\": true,\n",
       "        \"tooltip\": \"\",\n",
       "        \"visible\": true,\n",
       "        \"stringFieldOption\": \"textbox\",\n",
       "        \"format\": {\n",
       "          \"places\": 2,\n",
       "          \"digitSeparator\": true\n",
       "        }\n",
       "      },\n",
       "      {\n",
       "        \"fieldName\": \"GlobalID\",\n",
       "        \"label\": \"GlobalID\",\n",
       "        \"isEditable\": false,\n",
       "        \"tooltip\": \"\",\n",
       "        \"visible\": false,\n",
       "        \"stringFieldOption\": \"textbox\"\n",
       "      },\n",
       "      {\n",
       "        \"fieldName\": \"CreationDate\",\n",
       "        \"label\": \"CreationDate\",\n",
       "        \"isEditable\": false,\n",
       "        \"tooltip\": \"\",\n",
       "        \"visible\": false,\n",
       "        \"stringFieldOption\": \"textbox\",\n",
       "        \"format\": {\n",
       "          \"dateFormat\": \"shortDateShortTime\"\n",
       "        }\n",
       "      },\n",
       "      {\n",
       "        \"fieldName\": \"Creator\",\n",
       "        \"label\": \"Creator\",\n",
       "        \"isEditable\": false,\n",
       "        \"tooltip\": \"\",\n",
       "        \"visible\": false,\n",
       "        \"stringFieldOption\": \"textbox\"\n",
       "      },\n",
       "      {\n",
       "        \"fieldName\": \"EditDate\",\n",
       "        \"label\": \"EditDate\",\n",
       "        \"isEditable\": false,\n",
       "        \"tooltip\": \"\",\n",
       "        \"visible\": false,\n",
       "        \"stringFieldOption\": \"textbox\",\n",
       "        \"format\": {\n",
       "          \"dateFormat\": \"shortDateShortTime\"\n",
       "        }\n",
       "      },\n",
       "      {\n",
       "        \"fieldName\": \"Editor\",\n",
       "        \"label\": \"Editor\",\n",
       "        \"isEditable\": false,\n",
       "        \"tooltip\": \"\",\n",
       "        \"visible\": false,\n",
       "        \"stringFieldOption\": \"textbox\"\n",
       "      }\n",
       "    ],\n",
       "    \"description\": null,\n",
       "    \"showAttachments\": true,\n",
       "    \"mediaInfos\": []\n",
       "  }\n",
       "}"
      ]
     },
     "execution_count": 94,
     "metadata": {},
     "output_type": "execute_result"
    }
   ],
   "source": [
    "wm_itm = prtl.content.get('1ad33784a4824ef38f2ce1c60b2963e0')\n",
    "wm = WebMap(wm_itm)\n",
    "wm.layers[0]\n",
    "\n",
    "\n"
   ]
  },
  {
   "cell_type": "markdown",
   "metadata": {},
   "source": [
    "### Get layer out of the webmap as a FeatureLayer"
   ]
  },
  {
   "cell_type": "code",
   "execution_count": 95,
   "metadata": {},
   "outputs": [],
   "source": [
    "point_layer = FeatureLayer(wm.layers[0].url)\n",
    "poly_layer = FeatureLayer(wm.layers[2].url)"
   ]
  },
  {
   "cell_type": "markdown",
   "metadata": {},
   "source": [
    "### Get the story map"
   ]
  },
  {
   "cell_type": "code",
   "execution_count": 37,
   "metadata": {},
   "outputs": [],
   "source": [
    "itm = prtl.content.get('876f3dc003184f2ea1d2785e294fd983')\n",
    "sm = JournalStoryMap(itm)\n",
    "sections = sm.properties['values']['story']['sections']"
   ]
  },
  {
   "cell_type": "markdown",
   "metadata": {},
   "source": [
    "### Clear out our test section"
   ]
  },
  {
   "cell_type": "code",
   "execution_count": 122,
   "metadata": {},
   "outputs": [
    {
     "data": {
      "text/plain": [
       "True"
      ]
     },
     "execution_count": 122,
     "metadata": {},
     "output_type": "execute_result"
    }
   ],
   "source": [
    "# clear out any stuff we tried previously\n",
    "sections[1]['content'] = ' ' \n",
    "sections[1]['contentActions'] = []\n",
    "sm.save()"
   ]
  },
  {
   "cell_type": "markdown",
   "metadata": {},
   "source": [
    "### Iterate over our features and generate the map actions"
   ]
  },
  {
   "cell_type": "code",
   "execution_count": 123,
   "metadata": {},
   "outputs": [
    {
     "name": "stdout",
     "output_type": "stream",
     "text": [
      "<table><tbody><tr><th>key</th><th>value</th></tr><tr><td>0</td><td><a data-storymaps=\"MJ-ACTION-620f661c-88de-4fbc-b137-eba5544300a9\" data-storymaps-type=\"media\">Charlotte</a></td></tr><tr><td>1</td><td><a data-storymaps=\"MJ-ACTION-3f1ee38d-8ecf-45d0-8551-a727185e22d5\" data-storymaps-type=\"media\">Springfield</a></td></tr><tr><td>2</td><td><a data-storymaps=\"MJ-ACTION-5070cc56-b1be-4ded-acde-933f33840d97\" data-storymaps-type=\"media\">Indianapolis</a></td></tr><tr><td>3</td><td><a data-storymaps=\"MJ-ACTION-f92a7de9-b6d1-4acc-ae21-10a0cce001df\" data-storymaps-type=\"media\">Norfolk</a></td></tr><tr><td>4</td><td><a data-storymaps=\"MJ-ACTION-fc6bf78e-456e-4d8b-a612-4c6cb9b59a5e\" data-storymaps-type=\"media\">Anchorage</a></td></tr><tr><td>5</td><td><a data-storymaps=\"MJ-ACTION-ba327b5b-90e7-4c37-9fb6-c651a854642a\" data-storymaps-type=\"media\">Redlands</a></td></tr><tr><td>6</td><td><a data-storymaps=\"MJ-ACTION-9ccf0fef-e213-4358-b138-6a4f794d5375\" data-storymaps-type=\"media\">Pierre</a></td></tr></tbody></table>\n"
     ]
    },
    {
     "data": {
      "text/plain": [
       "True"
      ]
     },
     "execution_count": 123,
     "metadata": {},
     "output_type": "execute_result"
    }
   ],
   "source": [
    "poly_features = poly_layer.query(out_fields='*')\n",
    "point_features = point_layer.query(out_fields='*')\n",
    "html_tbl = \"<table><tbody><tr><th>key</th><th>value</th></tr>{0}</tbody></table>\"\n",
    "tbl_rows = \"\"\n",
    "rcount = 0\n",
    "for f in point_features.features:\n",
    "    # Changed up the parameters a little, pass in a webmap now and a layer index\n",
    "    ma = getMapAction(f, wm_itm, 0, label_field='textfield',label_prefix='',add_popup=True)\n",
    "    sections[1]['contentActions'].append(ma['map_action'])\n",
    "    tbl_rows += '<tr><td>{0}</td><td>{1}</td></tr>'.format(rcount, ma['content_link'])\n",
    "    rcount+=1\n",
    "\n",
    "content_tbl = html_tbl.format(tbl_rows)\n",
    "print(content_tbl)\n",
    "sections[1]['content'] += content_tbl\n",
    "sm.save()\n"
   ]
  },
  {
   "cell_type": "code",
   "execution_count": null,
   "metadata": {},
   "outputs": [],
   "source": []
  }
 ],
 "metadata": {
  "kernelspec": {
   "display_name": "Python 3",
   "language": "python",
   "name": "python3"
  },
  "language_info": {
   "codemirror_mode": {
    "name": "ipython",
    "version": 3
   },
   "file_extension": ".py",
   "mimetype": "text/x-python",
   "name": "python",
   "nbconvert_exporter": "python",
   "pygments_lexer": "ipython3",
   "version": "3.6.5"
  }
 },
 "nbformat": 4,
 "nbformat_minor": 2
}
