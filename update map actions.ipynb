{
 "cells": [
  {
   "cell_type": "markdown",
   "metadata": {},
   "source": [
    "# Imports"
   ]
  },
  {
   "cell_type": "code",
   "execution_count": 14,
   "metadata": {},
   "outputs": [],
   "source": [
    "import pandas as pd\n",
    "from arcgis.gis import GIS\n",
    "from arcgis.apps.storymap import JournalStoryMap\n",
    "from arcgis.mapping import WebMap\n",
    "from arcgis.features import FeatureLayer, Feature\n",
    "from arcgis.geometry import Geometry, SpatialReference"
   ]
  },
  {
   "cell_type": "markdown",
   "metadata": {},
   "source": [
    "### Utility Methods"
   ]
  },
  {
   "cell_type": "code",
   "execution_count": 55,
   "metadata": {},
   "outputs": [],
   "source": [
    "import uuid,json\n",
    "def getMapAction(fromFeature, forWebmapId, label_field=\"OBJECTID\", label_prefix=\"Feature Extent\"):\n",
    "    # TODO - make sure input parameters are valid, since we are just inserting them into the mapaction schema\n",
    "    \n",
    "    # pull out a value from the feature to display in our anchor tag\n",
    "    lbl_val = fromFeature.attributes[fromFeature.fields[0]]\n",
    "    if label_field in fromFeature.fields:\n",
    "        lbl_val = fromFeature.attributes[label_field]\n",
    "    \n",
    "    # format the label\n",
    "    lbl_frmtd = '{0}: {1}'.format(label_prefix, lbl_val)\n",
    "    \n",
    "    # get the geometry extent\n",
    "    # TODO - Need to validate this or default to a valid extent\n",
    "    ext = Geometry(fromFeature.geometry).extent\n",
    "    \n",
    "    # create a unique id\n",
    "    # ts = int(round(time.time() * 1000)) this isn't precise enough, gets duplicated in loop\n",
    "    ts = str(uuid.uuid4())\n",
    "    #print('id : {0}'.format(ts))\n",
    "    \n",
    "    # insert values into our map action schema\n",
    "    ma = {\n",
    "        \"id\":\"MJ-ACTION-{0}\".format(ts),\n",
    "        \"type\": \"media\",\n",
    "        \"media\": {\n",
    "            \"type\":\"webmap\",\n",
    "            \"webmap\": {\n",
    "                \"id\":forWebmapId,\n",
    "                \"extent\": {\n",
    "                    \"xmin\": ext[0],\n",
    "                    \"ymin\": ext[1],\n",
    "                    \"xmax\": ext[2],\n",
    "                    \"ymax\": ext[3],\n",
    "                    \"spatialReference\":{\n",
    "                        \"wkid\": 102100\n",
    "                    }\n",
    "                },\n",
    "                \"layers\": None,\n",
    "                \"popup\": None,\n",
    "                \"overview\":{\n",
    "                    \"enable\": False,\n",
    "                    \"openByDefault\": False\n",
    "                },\n",
    "                \"legend\": {\n",
    "                    \"enable\": False,\n",
    "                    \"openByDefault\": False\n",
    "                },\n",
    "                \"geocoder\":{\n",
    "                    \"enable\": False\n",
    "                },\n",
    "                \"altText\": \"\"\n",
    "            }\n",
    "        }\n",
    "    }\n",
    "    \n",
    "    # create the html string\n",
    "    content_anchor = '<p><a data-storymaps=\"{0}\" data-storymaps-type=\"media\">{1}</a></p>\\n'.format(ma['id'], lbl_frmtd)\n",
    "    \n",
    "    # hand back our results to whoever called this function\n",
    "    return {\"content_link\": content_anchor, \"map_action\": ma}"
   ]
  },
  {
   "cell_type": "markdown",
   "metadata": {},
   "source": [
    "### Connect to Portal"
   ]
  },
  {
   "cell_type": "code",
   "execution_count": 10,
   "metadata": {},
   "outputs": [
    {
     "name": "stdout",
     "output_type": "stream",
     "text": [
      "Enter password: ········\n"
     ]
    }
   ],
   "source": [
    "prtl = GIS(url='https://clt-mtorrey10l.esri.com/webmaps', username='siteadmin')"
   ]
  },
  {
   "cell_type": "markdown",
   "metadata": {},
   "source": [
    "### Get a webmap that has some data we want to query"
   ]
  },
  {
   "cell_type": "code",
   "execution_count": 16,
   "metadata": {},
   "outputs": [],
   "source": [
    "wm = WebMap(prtl.content.get('a01d38d299b741b3ab06d0d50afcc312'))\n",
    "poly_layer = FeatureLayer(wm.layers[2].url)"
   ]
  },
  {
   "cell_type": "markdown",
   "metadata": {},
   "source": [
    "### Get the story map"
   ]
  },
  {
   "cell_type": "code",
   "execution_count": 37,
   "metadata": {},
   "outputs": [
    {
     "name": "stdout",
     "output_type": "stream",
     "text": [
      "\n"
     ]
    },
    {
     "data": {
      "text/plain": [
       "True"
      ]
     },
     "execution_count": 37,
     "metadata": {},
     "output_type": "execute_result"
    }
   ],
   "source": [
    "itm = prtl.content.get('bd225ef715c841e1bbd84b6b80426681')\n",
    "sm = JournalStoryMap(itm)\n",
    "sections = sm.properties['values']['story']['sections']"
   ]
  },
  {
   "cell_type": "markdown",
   "metadata": {},
   "source": [
    "### Clear out our test section"
   ]
  },
  {
   "cell_type": "code",
   "execution_count": 65,
   "metadata": {},
   "outputs": [
    {
     "data": {
      "text/plain": [
       "True"
      ]
     },
     "execution_count": 65,
     "metadata": {},
     "output_type": "execute_result"
    }
   ],
   "source": [
    "# clear out any stuff we tried previously\n",
    "sections[1]['content'] = '' \n",
    "sections[1]['contentActions'] = []\n",
    "sm.save()"
   ]
  },
  {
   "cell_type": "markdown",
   "metadata": {},
   "source": [
    "### Iterate over our features and generate the map actions"
   ]
  },
  {
   "cell_type": "code",
   "execution_count": 66,
   "metadata": {},
   "outputs": [
    {
     "name": "stdout",
     "output_type": "stream",
     "text": [
      "New Section Content :\n",
      "<p><a data-storymaps=\"MJ-ACTION-773d5418-4343-4fc9-b9b8-150405ef0260\" data-storymaps-type=\"media\">Feature Extent: 1</a></p>\n",
      "<p><a data-storymaps=\"MJ-ACTION-80551c7e-4e62-432e-a609-ff5fb2014c05\" data-storymaps-type=\"media\">Feature Extent: 3</a></p>\n",
      "<p><a data-storymaps=\"MJ-ACTION-5b30d936-4cb0-4eac-908f-5190f5634773\" data-storymaps-type=\"media\">Feature Extent: 4</a></p>\n",
      "<p><a data-storymaps=\"MJ-ACTION-910bdd62-2410-467b-b063-f1d73e4c6424\" data-storymaps-type=\"media\">Feature Extent: 2</a></p>\n",
      "\n"
     ]
    },
    {
     "data": {
      "text/plain": [
       "True"
      ]
     },
     "execution_count": 66,
     "metadata": {},
     "output_type": "execute_result"
    }
   ],
   "source": [
    "poly_features = poly_layer.query()\n",
    "for f in poly_features.features:\n",
    "    ma = getMapAction(f, 'a01d38d299b741b3ab06d0d50afcc312')\n",
    "    sections[1]['content'] += ma['content_link']\n",
    "    sections[1]['contentActions'].append(ma['map_action'])\n",
    "   \n",
    "print('New Section Content :\\n{0}'.format(sections[1]['content']))  \n",
    "sm.save()\n"
   ]
  },
  {
   "cell_type": "code",
   "execution_count": null,
   "metadata": {},
   "outputs": [],
   "source": []
  }
 ],
 "metadata": {
  "kernelspec": {
   "display_name": "Python 3",
   "language": "python",
   "name": "python3"
  },
  "language_info": {
   "codemirror_mode": {
    "name": "ipython",
    "version": 3
   },
   "file_extension": ".py",
   "mimetype": "text/x-python",
   "name": "python",
   "nbconvert_exporter": "python",
   "pygments_lexer": "ipython3",
   "version": "3.6.6"
  }
 },
 "nbformat": 4,
 "nbformat_minor": 2
}
