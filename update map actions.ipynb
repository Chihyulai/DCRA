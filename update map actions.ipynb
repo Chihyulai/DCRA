{
 "cells": [
  {
   "cell_type": "markdown",
   "metadata": {},
   "source": [
    "# Imports"
   ]
  },
  {
   "cell_type": "code",
   "execution_count": 1,
   "metadata": {},
   "outputs": [],
   "source": [
    "import pandas as pd\n",
    "from arcgis.gis import GIS\n",
    "from arcgis.apps.storymap import JournalStoryMap\n",
    "from arcgis.mapping import WebMap\n",
    "from arcgis.features import FeatureLayer, Feature\n",
    "from arcgis.geometry import Geometry, SpatialReference"
   ]
  },
  {
   "cell_type": "markdown",
   "metadata": {},
   "source": [
    "### Utility Methods"
   ]
  },
  {
   "cell_type": "code",
   "execution_count": 2,
   "metadata": {},
   "outputs": [],
   "source": [
    "import uuid,json\n",
    "def getMapAction(fromFeature, forWebmapId, label_field=\"OBJECTID\", label_prefix=\"Feature Extent\"):\n",
    "    # TODO - make sure input parameters are valid, since we are just inserting them into the mapaction schema\n",
    "    \n",
    "    # pull out a value from the feature to display in our anchor tag\n",
    "    lbl_val = fromFeature.attributes[fromFeature.fields[0]]\n",
    "    if label_field in fromFeature.fields:\n",
    "        lbl_val = fromFeature.attributes[label_field]\n",
    "    \n",
    "    # format the label\n",
    "    lbl_frmtd = '{0}: {1}'.format(label_prefix, lbl_val)\n",
    "    \n",
    "    # get the geometry extent\n",
    "    # TODO - Need to validate this or default to a valid extent\n",
    "    ext = Geometry(fromFeature.geometry).extent\n",
    "    \n",
    "    # create a unique id\n",
    "    # ts = int(round(time.time() * 1000)) this isn't precise enough, gets duplicated in loop\n",
    "    ts = str(uuid.uuid4())\n",
    "    #print('id : {0}'.format(ts))\n",
    "    \n",
    "    # insert values into our map action schema\n",
    "    ma = {\n",
    "        \"id\":\"MJ-ACTION-{0}\".format(ts),\n",
    "        \"type\": \"media\",\n",
    "        \"media\": {\n",
    "            \"type\":\"webmap\",\n",
    "            \"webmap\": {\n",
    "                \"id\":forWebmapId,\n",
    "                \"extent\": {\n",
    "                    \"xmin\": ext[0],\n",
    "                    \"ymin\": ext[1],\n",
    "                    \"xmax\": ext[2],\n",
    "                    \"ymax\": ext[3],\n",
    "                    \"spatialReference\":{\n",
    "                        \"wkid\": 102100\n",
    "                    }\n",
    "                },\n",
    "                \"layers\": None,\n",
    "                \"popup\": None,\n",
    "                \"overview\":{\n",
    "                    \"enable\": False,\n",
    "                    \"openByDefault\": False\n",
    "                },\n",
    "                \"legend\": {\n",
    "                    \"enable\": False,\n",
    "                    \"openByDefault\": False\n",
    "                },\n",
    "                \"geocoder\":{\n",
    "                    \"enable\": False\n",
    "                },\n",
    "                \"altText\": \"\"\n",
    "            }\n",
    "        }\n",
    "    }\n",
    "    \n",
    "    # create the html string\n",
    "    content_anchor = '<p><a data-storymaps=\"{0}\" data-storymaps-type=\"media\">{1}</a></p>\\n'.format(ma['id'], lbl_frmtd)\n",
    "    \n",
    "    # hand back our results to whoever called this function\n",
    "    return {\"content_link\": content_anchor, \"map_action\": ma}"
   ]
  },
  {
   "cell_type": "markdown",
   "metadata": {},
   "source": [
    "### Connect to Portal"
   ]
  },
  {
   "cell_type": "code",
   "execution_count": 3,
   "metadata": {},
   "outputs": [
    {
     "name": "stdout",
     "output_type": "stream",
     "text": [
      "Enter password: ········\n"
     ]
    }
   ],
   "source": [
    "prtl = GIS(username='marktorrey')"
   ]
  },
  {
   "cell_type": "markdown",
   "metadata": {},
   "source": [
    "### Get a webmap that has some data we want to query"
   ]
  },
  {
   "cell_type": "code",
   "execution_count": 26,
   "metadata": {},
   "outputs": [],
   "source": [
    "wm_itm = prtl.content.get('1ad33784a4824ef38f2ce1c60b2963e0')\n",
    "wm = WebMap(wm_itm)\n",
    "poly_layer = FeatureLayer(wm.layers[2].url)"
   ]
  },
  {
   "cell_type": "markdown",
   "metadata": {},
   "source": [
    "### Get the story map"
   ]
  },
  {
   "cell_type": "code",
   "execution_count": 28,
   "metadata": {},
   "outputs": [],
   "source": [
    "itm = prtl.content.get('876f3dc003184f2ea1d2785e294fd983')\n",
    "sm = JournalStoryMap(itm)\n",
    "sections = sm.properties['values']['story']['sections']"
   ]
  },
  {
   "cell_type": "markdown",
   "metadata": {},
   "source": [
    "### Clear out our test section"
   ]
  },
  {
   "cell_type": "code",
   "execution_count": 29,
   "metadata": {},
   "outputs": [
    {
     "data": {
      "text/plain": [
       "True"
      ]
     },
     "execution_count": 29,
     "metadata": {},
     "output_type": "execute_result"
    }
   ],
   "source": [
    "# clear out any stuff we tried previously\n",
    "sections[1]['content'] = '' \n",
    "sections[1]['contentActions'] = []\n",
    "sm.save()"
   ]
  },
  {
   "cell_type": "markdown",
   "metadata": {},
   "source": [
    "### Iterate over our features and generate the map actions"
   ]
  },
  {
   "cell_type": "code",
   "execution_count": 30,
   "metadata": {},
   "outputs": [
    {
     "name": "stdout",
     "output_type": "stream",
     "text": [
      "New Section Content :\n",
      "<p><a data-storymaps=\"MJ-ACTION-b9e4f821-dbe8-4eee-ab0d-b6c8d4d05fec\" data-storymaps-type=\"media\">Feature Extent: 1</a></p>\n",
      "<p><a data-storymaps=\"MJ-ACTION-21b1c3fd-374a-4b82-b94f-5ff340c24e9d\" data-storymaps-type=\"media\">Feature Extent: 2</a></p>\n",
      "<p><a data-storymaps=\"MJ-ACTION-e50a2a69-1aaa-4434-9c1f-c6d598c80eb2\" data-storymaps-type=\"media\">Feature Extent: 3</a></p>\n",
      "<p><a data-storymaps=\"MJ-ACTION-a41a290f-dd50-4136-93c0-d498eddf550b\" data-storymaps-type=\"media\">Feature Extent: 4</a></p>\n",
      "<p><a data-storymaps=\"MJ-ACTION-57cc0bb0-c147-4c60-a427-25d1dba808bb\" data-storymaps-type=\"media\">Feature Extent: 5</a></p>\n",
      "\n"
     ]
    },
    {
     "data": {
      "text/plain": [
       "True"
      ]
     },
     "execution_count": 30,
     "metadata": {},
     "output_type": "execute_result"
    }
   ],
   "source": [
    "poly_features = poly_layer.query()\n",
    "for f in poly_features.features:\n",
    "    ma = getMapAction(f, wm_itm['id'])\n",
    "    sections[1]['content'] += ma['content_link']\n",
    "    sections[1]['contentActions'].append(ma['map_action'])\n",
    "   \n",
    "print('New Section Content :\\n{0}'.format(sections[1]['content']))  \n",
    "sm.save()\n"
   ]
  },
  {
   "cell_type": "code",
   "execution_count": null,
   "metadata": {},
   "outputs": [],
   "source": []
  }
 ],
 "metadata": {
  "kernelspec": {
   "display_name": "Python 3",
   "language": "python",
   "name": "python3"
  },
  "language_info": {
   "codemirror_mode": {
    "name": "ipython",
    "version": 3
   },
   "file_extension": ".py",
   "mimetype": "text/x-python",
   "name": "python",
   "nbconvert_exporter": "python",
   "pygments_lexer": "ipython3",
   "version": "3.6.6"
  }
 },
 "nbformat": 4,
 "nbformat_minor": 2
}
