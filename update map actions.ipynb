{
 "cells": [
  {
   "cell_type": "markdown",
   "metadata": {},
   "source": [
    "### Imports"
   ]
  },
  {
   "cell_type": "code",
   "execution_count": 2,
   "metadata": {},
   "outputs": [],
   "source": [
    "import pandas as pd\n",
    "from arcgis.gis import GIS\n",
    "from arcgis.apps.storymap import JournalStoryMap\n",
    "from arcgis.mapping import WebMap\n",
    "from arcgis.features import FeatureLayer, Feature\n",
    "from arcgis.geometry import Geometry, SpatialReference, Point"
   ]
  },
  {
   "cell_type": "markdown",
   "metadata": {},
   "source": [
    "### Utility Methods"
   ]
  },
  {
   "cell_type": "code",
   "execution_count": 59,
   "metadata": {},
   "outputs": [],
   "source": [
    "import uuid,json,arcpy\n",
    "    \n",
    "def getExtent(fromFeature):\n",
    "    g = Geometry(fromFeature.geometry)\n",
    "    if g.type.lower() == 'point':\n",
    "        bg = Point({\"x\": g.x, \"y\": g.y, \"spatialReference\": {\"wkid\": 102100}})\n",
    "        gbuf = bg.buffer(1609.344) # assume meters, 1609.344 ~ 1 mile\n",
    "        return gbuf.extent\n",
    "    \n",
    "    return g.extent\n",
    "\n",
    "def getMapAction(fromFeature, forWebmap, layer, label_field=\"objectid\", label_prefix=\"Feature Extent\", add_popup=False):\n",
    "    # TODO - make sure input parameters are valid, since we are just inserting them into the mapaction schema\n",
    "    \n",
    "    # pull out a value from the feature to display in our anchor tag\n",
    "    lbl_val = fromFeature.attributes[fromFeature.fields[0]]\n",
    "    if label_field in fromFeature.fields:\n",
    "        lbl_val = fromFeature.attributes[label_field]\n",
    "    \n",
    "    # format the label\n",
    "    lbl_frmtd = '{0}{1}'.format(label_prefix, lbl_val)\n",
    "    \n",
    "    # get the geometry extent\n",
    "    # TODO - Need to validate this or default to a valid extent\n",
    "    \n",
    "    ext = getExtent(fromFeature)\n",
    "\n",
    "    \n",
    "    popup_def = None\n",
    "    if add_popup:\n",
    "        popup_def = {\n",
    "            \"layerId\": layer.id,\n",
    "            \"fieldName\": \"OBJECTID\", # we should probably get this dynamically and not hard code\n",
    "            \"fieldValue\": fromFeature.attributes['OBJECTID'], # same with this one\n",
    "            \"anchorPoint\": {\n",
    "                \"x\": Geometry(fromFeature.geometry).centroid[0],\n",
    "                \"y\": Geometry(fromFeature.geometry).centroid[1],\n",
    "                \"spatialReference\": {\n",
    "                    \"wkid\": 102100\n",
    "                }\n",
    "            }\n",
    "        }\n",
    "    \n",
    "    # print('Popup: {0}'.format(popup_def))\n",
    "    \n",
    "    # create a unique id\n",
    "    # ts = int(round(time.time() * 1000)) this isn't precise enough, gets duplicated in loop\n",
    "    ts = str(uuid.uuid4())\n",
    "    #print('id : {0}'.format(ts))\n",
    "    \n",
    "    # insert values into our map action schema\n",
    "    ma = {\n",
    "        \"id\":\"MJ-ACTION-{0}\".format(ts),\n",
    "        \"type\": \"media\",\n",
    "        \"media\": {\n",
    "            \"type\":\"webmap\",\n",
    "            \"webmap\": {\n",
    "                \"id\":forWebmap.id,\n",
    "                \"extent\": {\n",
    "                    \"xmin\": ext[0],\n",
    "                    \"ymin\": ext[1],\n",
    "                    \"xmax\": ext[2],\n",
    "                    \"ymax\": ext[3],\n",
    "                    \"spatialReference\":{\n",
    "                        \"wkid\": 102100\n",
    "                    }\n",
    "                },\n",
    "                \"layers\": None,\n",
    "                \"popup\": popup_def,\n",
    "                \"overview\":{\n",
    "                    \"enable\": False,\n",
    "                    \"openByDefault\": False\n",
    "                },\n",
    "                \"legend\": {\n",
    "                    \"enable\": False,\n",
    "                    \"openByDefault\": False\n",
    "                },\n",
    "                \"geocoder\":{\n",
    "                    \"enable\": False\n",
    "                },\n",
    "                \"altText\": \"\"\n",
    "            }\n",
    "        }\n",
    "    }\n",
    "    \n",
    "    # create the html string\n",
    "    content_anchor = '<p><a data-storymaps=\"{0}\" data-storymaps-type=\"media\">{1}</a></p><p>&nbsp;</p>'.format(ma['id'], lbl_frmtd)\n",
    "    \n",
    "    # hand back our results to whoever called this function\n",
    "    return {\"content_link\": content_anchor, \"map_action\": ma}"
   ]
  },
  {
   "cell_type": "markdown",
   "metadata": {},
   "source": [
    "### Connect to Portal"
   ]
  },
  {
   "cell_type": "code",
   "execution_count": 7,
   "metadata": {},
   "outputs": [
    {
     "name": "stdout",
     "output_type": "stream",
     "text": [
      "Enter password: ········\n"
     ]
    }
   ],
   "source": [
    "prtl = GIS(username='marktorrey')"
   ]
  },
  {
   "cell_type": "markdown",
   "metadata": {},
   "source": [
    "### Get a webmap that has some data we want to query"
   ]
  },
  {
   "cell_type": "code",
   "execution_count": 61,
   "metadata": {},
   "outputs": [],
   "source": [
    "wm_itm = prtl.content.get('1ad33784a4824ef38f2ce1c60b2963e0')\n",
    "wm = WebMap(wm_itm)\n",
    "point_layer = FeatureLayer(wm.layers[0].url)\n",
    "poly_layer = FeatureLayer(wm.layers[2].url)"
   ]
  },
  {
   "cell_type": "markdown",
   "metadata": {},
   "source": [
    "### Get the story map"
   ]
  },
  {
   "cell_type": "code",
   "execution_count": 37,
   "metadata": {},
   "outputs": [],
   "source": [
    "itm = prtl.content.get('876f3dc003184f2ea1d2785e294fd983')\n",
    "sm = JournalStoryMap(itm)\n",
    "sections = sm.properties['values']['story']['sections']"
   ]
  },
  {
   "cell_type": "markdown",
   "metadata": {},
   "source": [
    "### Clear out our test section"
   ]
  },
  {
   "cell_type": "code",
   "execution_count": 55,
   "metadata": {},
   "outputs": [
    {
     "data": {
      "text/plain": [
       "True"
      ]
     },
     "execution_count": 55,
     "metadata": {},
     "output_type": "execute_result"
    }
   ],
   "source": [
    "# clear out any stuff we tried previously\n",
    "sections[1]['content'] = ' ' \n",
    "sections[1]['contentActions'] = []\n",
    "sm.save()"
   ]
  },
  {
   "cell_type": "markdown",
   "metadata": {},
   "source": [
    "### Iterate over our features and generate the map actions"
   ]
  },
  {
   "cell_type": "code",
   "execution_count": 60,
   "metadata": {},
   "outputs": [
    {
     "name": "stdout",
     "output_type": "stream",
     "text": [
      "Popup: {'layerId': 'hosted_point_layer_8467', 'fieldName': 'OBJECTID', 'fieldValue': 1, 'anchorPoint': {'x': -8959336.823473882, 'y': 4226616.209377475, 'spatialReference': {'wkid': 102100}}}\n",
      "Popup: {'layerId': 'hosted_point_layer_8467', 'fieldName': 'OBJECTID', 'fieldValue': 2, 'anchorPoint': {'x': -9978089.536458423, 'y': 4833253.777132536, 'spatialReference': {'wkid': 102100}}}\n",
      "Popup: {'layerId': 'hosted_point_layer_8467', 'fieldName': 'OBJECTID', 'fieldValue': 3, 'anchorPoint': {'x': -9589177.93654355, 'y': 4828361.807322287, 'spatialReference': {'wkid': 102100}}}\n",
      "Popup: {'layerId': 'hosted_point_layer_8467', 'fieldName': 'OBJECTID', 'fieldValue': 4, 'anchorPoint': {'x': -8490930.71414243, 'y': 4422328.313071539, 'spatialReference': {'wkid': 102100}}}\n",
      "Popup: {'layerId': 'hosted_point_layer_8467', 'fieldName': 'OBJECTID', 'fieldValue': 5, 'anchorPoint': {'x': -16680419.645823965, 'y': 8683234.01779927, 'spatialReference': {'wkid': 102100}}}\n",
      "Popup: {'layerId': 'hosted_point_layer_8467', 'fieldName': 'OBJECTID', 'fieldValue': 6, 'anchorPoint': {'x': -13044923.530530017, 'y': 4035569.8636254473, 'spatialReference': {'wkid': 102100}}}\n",
      "Popup: {'layerId': 'hosted_point_layer_8467', 'fieldName': 'OBJECTID', 'fieldValue': 7, 'anchorPoint': {'x': -11171962.03971598, 'y': 5523615.354492896, 'spatialReference': {'wkid': 102100}}}\n"
     ]
    },
    {
     "data": {
      "text/plain": [
       "True"
      ]
     },
     "execution_count": 60,
     "metadata": {},
     "output_type": "execute_result"
    }
   ],
   "source": [
    "poly_features = poly_layer.query(out_fields='*')\n",
    "point_features = point_layer.query(out_fields='*')\n",
    "for f in point_features.features:\n",
    "    # Changed up the parameters, pass in a webmap now and a layer\n",
    "    ma = getMapAction(f, wm_itm, wm.layers[0], label_field='textfield',add_popup=True)\n",
    "    sections[1]['content'] += ma['content_link']\n",
    "    sections[1]['contentActions'].append(ma['map_action'])\n",
    "    \n",
    "sm.save()\n"
   ]
  },
  {
   "cell_type": "code",
   "execution_count": null,
   "metadata": {},
   "outputs": [],
   "source": []
  }
 ],
 "metadata": {
  "kernelspec": {
   "display_name": "Python 3",
   "language": "python",
   "name": "python3"
  },
  "language_info": {
   "codemirror_mode": {
    "name": "ipython",
    "version": 3
   },
   "file_extension": ".py",
   "mimetype": "text/x-python",
   "name": "python",
   "nbconvert_exporter": "python",
   "pygments_lexer": "ipython3",
   "version": "3.6.5"
  }
 },
 "nbformat": 4,
 "nbformat_minor": 2
}
