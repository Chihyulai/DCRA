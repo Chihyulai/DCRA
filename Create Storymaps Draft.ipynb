{
 "cells": [
  {
   "cell_type": "code",
   "execution_count": 126,
   "metadata": {},
   "outputs": [],
   "source": [
    "import arcgis\n",
    "from arcgis.apps import storymap\n",
    "from arcgis.features import FeatureLayerCollection"
   ]
  },
  {
   "cell_type": "code",
   "execution_count": 129,
   "metadata": {},
   "outputs": [
    {
     "name": "stdout",
     "output_type": "stream",
     "text": [
      "········\n"
     ]
    }
   ],
   "source": [
    "import arcgis\n",
    "from arcgis.gis import GIS\n",
    "from arcgis.apps import storymap\n",
    "from getpass import getpass\n",
    "from arcgis.features import FeatureLayer\n",
    "\n",
    "# Create a connection to your portal for publishing\n",
    "gis = GIS(\"https://www.arcgis.com\", \"ezhatcher\", getpass())"
   ]
  },
  {
   "cell_type": "code",
   "execution_count": 130,
   "metadata": {},
   "outputs": [],
   "source": [
    "seedappItem = gis.content.get(\"2a51cb9cc9d54b57a52c67d8efdb5eba\") #Hoonah Alaska Template App"
   ]
  },
  {
   "cell_type": "code",
   "execution_count": 131,
   "metadata": {},
   "outputs": [],
   "source": [
    "contentManager = arcgis.gis.ContentManager(gis)\n",
    "clones = contentManager.clone_items(items=[seedappItem],search_existing_items=False)\n",
    "clones\n",
    "clonedStorymap = storymap.JournalStoryMap(clones[0])"
   ]
  },
  {
   "cell_type": "code",
   "execution_count": 132,
   "metadata": {},
   "outputs": [],
   "source": [
    "clonedStorymap.save(title=\"Nome Storymap Test\", description=\"Test cloning script result\", tags=\"Test,Storymap\")\n",
    "sections = clonedStorymap.properties[\"values\"][\"story\"][\"sections\"]\n",
    "community = 'Nome'"
   ]
  },
  {
   "cell_type": "code",
   "execution_count": 147,
   "metadata": {
    "scrolled": true
   },
   "outputs": [],
   "source": [
    "#Access the URL for the main photo from the Photo Link feature class\n",
    "photo_base = gis.content.get(\"6d9d437bbe2d48bfa87b4d9fca41f80d\")\n",
    "photos = photo_base.layers\n",
    "photo_lyr = photos[0]\n",
    "find_url = photo_lyr.query(where=\"CommunityName = '\" + str(community) + \"'\",out_fields='PhotoLink')\n",
    "url_attributes = find_url.df\n",
    "main_pic = url_attributes.PhotoLink[0]"
   ]
  },
  {
   "cell_type": "code",
   "execution_count": 134,
   "metadata": {},
   "outputs": [
    {
     "data": {
      "text/plain": [
       "True"
      ]
     },
     "execution_count": 134,
     "metadata": {},
     "output_type": "execute_result"
    }
   ],
   "source": [
    "#Modify the main title and photo in the main Table of Contents panel\n",
    "panel_toc = sections[0]\n",
    "panel_toc[\"title\"] = '<span style=\"font-size:40px\">' + str(community) + ', Alaska</span>'\n",
    "panel_toc[\"media\"][\"image\"][\"url\"] = main_pic\n",
    "clonedStorymap.save()"
   ]
  },
  {
   "cell_type": "code",
   "execution_count": 135,
   "metadata": {},
   "outputs": [],
   "source": [
    "def access_lyr(content,out_fld):\n",
    "    base = content.layers\n",
    "    lyr = base[0]\n",
    "    topic_data = lyr.query(where=\"CommunityName = '\" + str(community) + \"'\",out_fields=out_fld)\n",
    "    return topic_data"
   ]
  },
  {
   "cell_type": "code",
   "execution_count": 136,
   "metadata": {},
   "outputs": [],
   "source": [
    "#Access the culture and history from the culture/history feature class (IF THE PANEL ORDER CHANGES, MAKE SURE INDEX STILL APPLIES)\n",
    "panel_ch = sections[1]\n",
    "ch_ft = gis.content.get(\"3f99cf21a0da42c4bf8b15632e958df9\")\n",
    "culture_lookup = access_lyr(ch_ft,'CommunityCulture')\n",
    "culture = culture_lookup.df.CommunityCulture[0]\n",
    "history_lookup = access_lyr(ch_ft,'CommunityHistory')\n",
    "history = history_lookup.df.CommunityHistory[0]"
   ]
  },
  {
   "cell_type": "code",
   "execution_count": 137,
   "metadata": {},
   "outputs": [
    {
     "data": {
      "text/plain": [
       "True"
      ]
     },
     "execution_count": 137,
     "metadata": {},
     "output_type": "execute_result"
    }
   ],
   "source": [
    "#Populate the panel with the new culture history info\n",
    "panel_ch[\"content\"] = '<style type=\"text/css\">.dcra-blue {\\n     display: inline-block;\\n     background-color: #005e95;\\n     border-color: #005e95 !important;\\n     color: #fff !important;\\n     padding: 0px 4px;\\n     border-radius: 0px;\\n}\\n</style>\\n<p><a class=\"dcra-blue\" data-storymaps=\"MJ-ACTION-1524783785796\" data-storymaps-type=\"navigate\">Back to Table of Contents</a></p>\\n\\n<p>&nbsp;<p>'+ history + '&nbsp;</p>\\n\\n<p>\\n\\n<p>&nbsp;<p>'+ culture + '&nbsp;</p>\\n'\n",
    "clonedStorymap.save()"
   ]
  },
  {
   "cell_type": "code",
   "execution_count": 138,
   "metadata": {
    "scrolled": true
   },
   "outputs": [
    {
     "data": {
      "text/html": [
       "<div class=\"item_container\" style=\"height: auto; overflow: hidden; border: 1px solid #cfcfcf; border-radius: 2px; background: #f6fafa; line-height: 1.21429em; padding: 10px;\">\n",
       "                    <div class=\"item_left\" style=\"width: 210px; float: left;\">\n",
       "                       <a href='https://DCCED.maps.arcgis.com/home/item.html?id=0a2b2acfb9bf4fd3b509eb590c8ccc8e' target='_blank'>\n",
       "                        <img src='http://static.arcgis.com/images/desktopapp.png' class=\"itemThumbnail\">\n",
       "                       </a>\n",
       "                    </div>\n",
       "\n",
       "                    <div class=\"item_right\"     style=\"float: none; width: auto; overflow: hidden;\">\n",
       "                        <a href='https://DCCED.maps.arcgis.com/home/item.html?id=0a2b2acfb9bf4fd3b509eb590c8ccc8e' target='_blank'><b>OpenData_Storymap_Nome</b>\n",
       "                        </a>\n",
       "                        <br/>Test webmap clone<img src='https://DCCED.maps.arcgis.com/home/js/jsapi/esri/css/images/item_type_icons/maps16.png' style=\"vertical-align:middle;\">Web Map by ezhatcher\n",
       "                        <br/>Last Modified: August 08, 2018\n",
       "                        <br/>0 comments, 0 views\n",
       "                    </div>\n",
       "                </div>\n",
       "                "
      ],
      "text/plain": [
       "<Item title:\"OpenData_Storymap_Nome\" type:Web Map owner:ezhatcher>"
      ]
     },
     "execution_count": 138,
     "metadata": {},
     "output_type": "execute_result"
    }
   ],
   "source": [
    "#Access the demographics panel and clone the webmap/update map filters\n",
    "panel_demog = sections[2]\n",
    "current_webmap = gis.content.get(panel_demog[\"contentActions\"][1][\"media\"][\"webmap\"][\"id\"])\n",
    "wm = arcgis.mapping.WebMap(webmapitem=current_webmap)\n",
    "wm_properties = {'title':'OpenData_Storymap_' + str(community),'snippet':'Test webmap clone','tags':['dcra','test']}\n",
    "wm.save(wm_properties,folder='Storymap Webmaps') "
   ]
  },
  {
   "cell_type": "code",
   "execution_count": 139,
   "metadata": {},
   "outputs": [],
   "source": [
    "#Change the webmap in the demographics panel\n",
    "new_map_search = gis.content.search('OpenData_Storymap_' + str(community), item_type=\"Web Map\")\n",
    "webmap = new_map_search[0]\n",
    "new_webmap = webmap.id\n",
    "panel_demog[\"contentActions\"][1][\"media\"][\"webmap\"][\"id\"] = new_webmap"
   ]
  },
  {
   "cell_type": "code",
   "execution_count": 140,
   "metadata": {},
   "outputs": [],
   "source": [
    "upd_webmap = gis.content.get(new_webmap)\n",
    "panel_wm = arcgis.mapping.WebMap(webmapitem=upd_webmap)"
   ]
  },
  {
   "cell_type": "code",
   "execution_count": 141,
   "metadata": {},
   "outputs": [
    {
     "data": {
      "text/plain": [
       "True"
      ]
     },
     "execution_count": 141,
     "metadata": {},
     "output_type": "execute_result"
    }
   ],
   "source": [
    "#Set up filters in the web map to fit the community (IF LAYERS ARE ADDED OR REMOVED, UPDATE THIS CELL)\n",
    "def_expr = \"CommunityName = '\" + str(community) + \"'\"\n",
    "def_expr2 = \"City = '\" + str(community) + \"'\"\n",
    "conv2_lyrs = [9, 10, 12]\n",
    "for i in range(7):\n",
    "    wm_lyrs = panel_wm.layers[i]\n",
    "    wm_lyrs[\"layerDefinition\"][\"definitionExpression\"] = def_expr\n",
    "panel_wm.layers[8]['layerDefinition']['definitionExpression'] = def_expr2\n",
    "for n in conv2_lyrs:\n",
    "    wm_lyrs = panel_wm.layers[n]\n",
    "    wm_lyrs[\"layers\"][0][\"layerDefinition\"][\"definitionExpression\"] = def_expr\n",
    "panel_wm.update()"
   ]
  },
  {
   "cell_type": "code",
   "execution_count": 142,
   "metadata": {},
   "outputs": [
    {
     "data": {
      "text/plain": [
       "True"
      ]
     },
     "execution_count": 142,
     "metadata": {},
     "output_type": "execute_result"
    }
   ],
   "source": [
    "#Adjust Culture History layer y-offset\n",
    "panel_wm.layers[6][\"layerDefinition\"][\"drawingInfo\"][\"renderer\"][\"symbol\"][\"yoffset\"] = 16\n",
    "panel_wm.update()"
   ]
  },
  {
   "cell_type": "code",
   "execution_count": 143,
   "metadata": {},
   "outputs": [],
   "source": [
    "#Set up zoom scale (x max and min, y max and min) for map actions\n",
    "bound_expr = \"NAME = '\" + str(community) + \"'\"\n",
    "bounds_ft = gis.content.get(\"8499c3bc4ff141588f5c9ab1db99b0fb\").layers[0]\n",
    "x_min = bounds_ft.query(where=bound_expr,out_fields='EXT_MIN_X').df.EXT_MIN_X[0]\n",
    "x_max = bounds_ft.query(where=bound_expr,out_fields='EXT_MAX_X').df.EXT_MAX_X[0]\n",
    "y_min = bounds_ft.query(where=bound_expr,out_fields='EXT_MIN_Y').df.EXT_MIN_Y[0]\n",
    "y_max = bounds_ft.query(where=bound_expr,out_fields='EXT_MAX_Y').df.EXT_MAX_Y[0]\n",
    "\n",
    "geometry = url_attributes.SHAPE[0]\n",
    "anchor_x = geometry[\"x\"]\n",
    "anchor_y = geometry[\"y\"]\n",
    "\n",
    "#Function to define the primary zoom scale of each panel based on the minimum bounding envelope feature service\n",
    "# item id = \"8499c3bc4ff141588f5c9ab1db99b0fb\" using previously defined zoom scale\n",
    "def main_extent(p):\n",
    "    ext1 = p['contentActions'][1][\"media\"][\"webmap\"][\"extent\"]\n",
    "    ext1[\"xmin\"] = x_min\n",
    "    ext1[\"xmax\"] = x_max\n",
    "    ext1[\"ymin\"] = y_min\n",
    "    ext1[\"ymax\"] = y_max\n",
    "    anch_pt = p[\"contentActions\"][1][\"media\"][\"webmap\"][\"popup\"][\"anchorPoint\"]\n",
    "    anch_pt[\"x\"] = anchor_x\n",
    "    anch_pt[\"y\"] = anchor_y\n",
    "    clonedStorymap.save()"
   ]
  },
  {
   "cell_type": "code",
   "execution_count": 144,
   "metadata": {},
   "outputs": [
    {
     "data": {
      "text/plain": [
       "True"
      ]
     },
     "execution_count": 144,
     "metadata": {},
     "output_type": "execute_result"
    }
   ],
   "source": [
    "#Demographics Panel Updates\n",
    "#Update the zoom extent using established zoom scale from 255\n",
    "main_extent(panel_demog)\n",
    "\n",
    "demog_ext2 = panel_demog[\"media\"][\"webmap\"][\"extent\"]\n",
    "demog_ext2[\"xmin\"] = x_min\n",
    "demog_ext2[\"xmax\"] = x_max\n",
    "demog_ext2[\"ymin\"] = y_min\n",
    "demog_ext2[\"ymax\"] = y_max\n",
    "\n",
    "panel_demog[\"media\"][\"webmap\"][\"popup\"][\"anchorPoint\"][\"x\"] = anchor_x\n",
    "panel_demog[\"media\"][\"webmap\"][\"popup\"][\"anchorPoint\"][\"y\"] = anchor_y\n",
    "\n",
    "clonedStorymap.save()"
   ]
  },
  {
   "cell_type": "code",
   "execution_count": 145,
   "metadata": {},
   "outputs": [
    {
     "data": {
      "text/plain": [
       "-545131.2928999998"
      ]
     },
     "execution_count": 145,
     "metadata": {},
     "output_type": "execute_result"
    }
   ],
   "source": [
    "url_attributes.SHAPE[0][\"x\"]"
   ]
  },
  {
   "cell_type": "code",
   "execution_count": 146,
   "metadata": {
    "scrolled": true
   },
   "outputs": [
    {
     "data": {
      "text/plain": [
       "{'title': '<span style=\"font-size:26px\">Education</span>',\n",
       " 'content': '<p>&nbsp;</p>\\n\\n<p>\\n<style type=\"text/css\">.blue {\\n     display: inline-block;\\n     background-color: #3182bd;\\n     border-color: #3182bd !important;\\n     color: #fff !important;\\n     padding: 1px 3px;\\n     border-radius: 12px;\\n</style>\\n<style type=\"text/css\">.dcra-blue {\\n     display: inline-block;\\n     background-color: #005e95;\\n     border-color: #005e95 !important;\\n     color: #fff !important;\\n     padding: 3px 8px;\\n     border-radius: 5px;\\n</style>\\n</p>\\n<style type=\"text/css\">.btn-orange {\\n    display: inline-block;\\n    background-color: #f0ad4e;\\n    border-color: #f0ad4e !important;\\n    color: #fff !important;\\n    padding: 0px 2px;\\n    border-radius: 12px;\\n}\\n</style>\\n<p><a class=\"dcra-blue\" data-storymaps=\"MJ-ACTION-1524785467480\" data-storymaps-type=\"navigate\">Back to Table of Contents</a><br>\\n<style type=\"text/css\">\\n</style>\\n</p>\\n\\n<p>&nbsp;</p>\\n\\n<p>&nbsp;</p>\\n\\n<p>&nbsp;</p>\\n\\n<p>Hoonah schools are part of the Hoonah City School District.</p>\\n\\n<ul>\\n\\t<li><a class=\"blue\" data-storymaps=\"MJ-ACTION-1524786738656-31271\" data-storymaps-type=\"media\" xmlns=\"http://www.w3.org/1999/xhtml\"><span style=\"color:#FAEBD7\">Hoonah Elementary School</span></a>\\n\\n\\t<ul>\\n\\t\\t<li><a class=\"btn-orange\" data-storymaps=\"MJ-ACTION-1524868509700-14785\" data-storymaps-type=\"media\" xmlns=\"http://www.w3.org/1999/xhtml\"><span style=\"color:#FAEBD7\">Enr</span><span style=\"color:#FFFFE0\">ollment Data</span></a></li>\\n\\t</ul>\\n\\t</li>\\n\\t<li><a class=\"blue\" data-storymaps=\"MJ-ACTION-1524848607760-86244\" data-storymaps-type=\"media\" xmlns=\"http://www.w3.org/1999/xhtml\"><span style=\"color:#FFFFE0\">Hoonah Junior/Senior High School</span></a>\\n\\t<ul>\\n\\t\\t<li><a class=\"btn-orange\" data-storymaps=\"MJ-ACTION-1524870356252-87399\" data-storymaps-type=\"media\" xmlns=\"http://www.w3.org/1999/xhtml\">Enrollment Data</a></li>\\n\\t</ul>\\n\\t</li>\\n</ul>\\n',\n",
       " 'contentActions': [{'id': 'MJ-ACTION-1524785467480',\n",
       "   'type': 'navigate',\n",
       "   'index': 0},\n",
       "  {'id': 'MJ-ACTION-1524786719742',\n",
       "   'type': 'media',\n",
       "   'media': {'type': 'webmap',\n",
       "    'webmap': {'id': 'aeac02b9b4164740b6c1f69449f2eacc',\n",
       "     'extent': {'xmin': -19676181.4960578,\n",
       "      'ymin': 6763039.28512779,\n",
       "      'xmax': -19636709.3852858,\n",
       "      'ymax': 6798988.87286838,\n",
       "      'spatialReference': {'wkid': 102100}},\n",
       "     'layers': [{'id': 'Transportation_Airport_HubRole_5243',\n",
       "       'visibility': False},\n",
       "      {'id': 'CDO_Demographics_Census_Population_Layer_7532',\n",
       "       'visibility': False},\n",
       "      {'id': 'CDO_Transportation_Roads_7584', 'visibility': False},\n",
       "      {'id': 'Transportation_Ferries_7266', 'visibility': False},\n",
       "      {'id': 'Alaska_School_Districts_7120', 'visibility': False},\n",
       "      {'id': 'Transportation_Airports_3035', 'visibility': False}],\n",
       "     'popup': {'layerId': 'Alaska_Schools_6136_0',\n",
       "      'fieldName': 'objectId',\n",
       "      'fieldValue': 317,\n",
       "      'anchorPoint': {'x': -545131.2928999998,\n",
       "       'y': 1662011.8493000008,\n",
       "       'spatialReference': {'wkid': 102100}}},\n",
       "     'overview': {'enable': False, 'openByDefault': True},\n",
       "     'legend': {'enable': False, 'openByDefault': False},\n",
       "     'geocoder': {'enable': False},\n",
       "     'altText': ''}}},\n",
       "  {'id': 'MJ-ACTION-1524786738656-31271',\n",
       "   'type': 'media',\n",
       "   'media': {'type': 'webmap',\n",
       "    'webmap': {'id': 'aeac02b9b4164740b6c1f69449f2eacc',\n",
       "     'extent': {'xmin': -15077924.062315127,\n",
       "      'ymin': 7989708.202922991,\n",
       "      'xmax': -15076678.377619898,\n",
       "      'ymax': 7990652.916819373,\n",
       "      'spatialReference': {'wkid': 102100}},\n",
       "     'layers': [{'id': 'VectorTile_7984', 'visibility': False},\n",
       "      {'id': 'Alaska_School_Districts_7120', 'visibility': False},\n",
       "      {'id': 'Population_Census_CityCDPBorough_5921', 'visibility': False},\n",
       "      {'id': 'ANCSA_Status_4468', 'visibility': False},\n",
       "      {'id': 'CDO_Contacts_Federally_Recognized_Tribes_3312',\n",
       "       'visibility': False},\n",
       "      {'id': 'Boro_REAAs_4826', 'visibility': False},\n",
       "      {'id': 'General_CultureHistory_3094', 'visibility': False},\n",
       "      {'id': 'Transportation_Ferries_360', 'visibility': False},\n",
       "      {'id': 'Population_DCCED_View_821', 'visibility': False},\n",
       "      {'id': 'Contacts_Municipality_2178', 'visibility': False},\n",
       "      {'id': 'Economics_IncomePoverty_3930', 'visibility': False},\n",
       "      {'id': 'Economics_Employment_Wages_4882', 'visibility': False}],\n",
       "     'popup': {'layerId': 'Alaska_Schools_3993_0',\n",
       "      'fieldName': 'OBJECTID',\n",
       "      'fieldValue': 316,\n",
       "      'anchorPoint': {'x': -15077337.646988802,\n",
       "       'y': 7990152.493149861,\n",
       "       'spatialReference': {'wkid': 102100}}},\n",
       "     'overview': {'enable': False, 'openByDefault': True},\n",
       "     'legend': {'enable': False, 'openByDefault': False},\n",
       "     'geocoder': {'enable': False},\n",
       "     'altText': ''}}},\n",
       "  {'id': 'MJ-ACTION-1524848582480',\n",
       "   'type': 'media',\n",
       "   'media': {'type': 'webmap',\n",
       "    'webmap': {'id': 'aeac02b9b4164740b6c1f69449f2eacc',\n",
       "     'extent': {'xmin': -15077872.34812142,\n",
       "      'ymin': 7989852.119515323,\n",
       "      'xmax': -15076892.9986966,\n",
       "      'ymax': 7990540.052769831,\n",
       "      'spatialReference': {'wkid': 102100}},\n",
       "     'layers': [{'id': 'Transportation_Airport_HubRole_5243',\n",
       "       'visibility': False},\n",
       "      {'id': 'CDO_Demographics_Census_Population_Layer_7532',\n",
       "       'visibility': False},\n",
       "      {'id': 'CDO_Transportation_Roads_7584', 'visibility': False},\n",
       "      {'id': 'Transportation_Ferries_7266', 'visibility': False},\n",
       "      {'id': 'Transportation_Airports_3035', 'visibility': False}],\n",
       "     'popup': {'layerId': 'Alaska_Schools_6136_0',\n",
       "      'fieldName': 'objectId',\n",
       "      'fieldValue': 318,\n",
       "      'anchorPoint': {'x': -15077409.426398065,\n",
       "       'y': 7990168.61658554,\n",
       "       'spatialReference': {'wkid': 102100}}},\n",
       "     'overview': {'enable': False, 'openByDefault': True},\n",
       "     'legend': {'enable': False, 'openByDefault': False},\n",
       "     'geocoder': {'enable': False},\n",
       "     'altText': ''}}},\n",
       "  {'id': 'MJ-ACTION-1524848607760-86244',\n",
       "   'type': 'media',\n",
       "   'media': {'type': 'webmap',\n",
       "    'webmap': {'id': 'aeac02b9b4164740b6c1f69449f2eacc',\n",
       "     'extent': {'xmin': -15077872.34812142,\n",
       "      'ymin': 7989852.119515323,\n",
       "      'xmax': -15076892.9986966,\n",
       "      'ymax': 7990540.052769831,\n",
       "      'spatialReference': {'wkid': 102100}},\n",
       "     'layers': [{'id': 'Alaska_School_Districts_7120', 'visibility': False},\n",
       "      {'id': 'Population_Census_CityCDPBorough_5921', 'visibility': False},\n",
       "      {'id': 'ANCSA_Status_4468', 'visibility': False},\n",
       "      {'id': 'CDO_Contacts_Federally_Recognized_Tribes_3312',\n",
       "       'visibility': False},\n",
       "      {'id': 'Boro_REAAs_4826', 'visibility': False},\n",
       "      {'id': 'General_CultureHistory_3094', 'visibility': False},\n",
       "      {'id': 'Transportation_Ferries_360', 'visibility': False},\n",
       "      {'id': 'Population_DCCED_View_821', 'visibility': False},\n",
       "      {'id': 'Education_EnrollmentSchools_751', 'visibility': False},\n",
       "      {'id': 'Contacts_Municipality_2178', 'visibility': False},\n",
       "      {'id': 'Economics_IncomePoverty_3930', 'visibility': False}],\n",
       "     'popup': {'layerId': 'Alaska_Schools_3993_0',\n",
       "      'fieldName': 'OBJECTID',\n",
       "      'fieldValue': 317,\n",
       "      'anchorPoint': {'x': -15077412.889688514,\n",
       "       'y': 7990177.574049764,\n",
       "       'spatialReference': {'wkid': 102100}}},\n",
       "     'overview': {'enable': False, 'openByDefault': True},\n",
       "     'legend': {'enable': False, 'openByDefault': False},\n",
       "     'geocoder': {'enable': False},\n",
       "     'altText': ''}}},\n",
       "  {'id': 'MJ-ACTION-1524868496506',\n",
       "   'type': 'media',\n",
       "   'media': {'type': 'webmap',\n",
       "    'webmap': {'id': 'aeac02b9b4164740b6c1f69449f2eacc',\n",
       "     'extent': {'xmin': -15091854.113555813,\n",
       "      'ymin': 7980106.3984089475,\n",
       "      'xmax': -15060514.931958934,\n",
       "      'ymax': 8002120.262555048,\n",
       "      'spatialReference': {'wkid': 102100}},\n",
       "     'layers': [{'id': 'Transportation_Airport_HubRole_5243',\n",
       "       'visibility': False},\n",
       "      {'id': 'CDO_Transportation_Roads_7584', 'visibility': False},\n",
       "      {'id': 'Alaska_School_Districts_7120', 'visibility': False},\n",
       "      {'id': 'Transportation_Airports_3035', 'visibility': False},\n",
       "      {'id': 'Education_EnrollmentSchools_7491', 'visibility': False},\n",
       "      {'id': 'Transportation_Ferries_360', 'visibility': False},\n",
       "      {'id': 'CDO_Demographics_Census_Population_Layer_1436',\n",
       "       'visibility': False},\n",
       "      {'id': 'Alaska_Schools_8850', 'visibility': False},\n",
       "      {'id': 'Alaska_Schools_2739', 'visibility': False}],\n",
       "     'popup': None,\n",
       "     'overview': {'enable': False, 'openByDefault': True},\n",
       "     'legend': {'enable': False, 'openByDefault': False},\n",
       "     'geocoder': {'enable': False},\n",
       "     'altText': ''}}},\n",
       "  {'id': 'MJ-ACTION-1524868509700-14785',\n",
       "   'type': 'media',\n",
       "   'media': {'type': 'webmap',\n",
       "    'webmap': {'id': 'aeac02b9b4164740b6c1f69449f2eacc',\n",
       "     'extent': {'xmin': -15077608.162409194,\n",
       "      'ymin': 7989887.949372264,\n",
       "      'xmax': -15076985.320061442,\n",
       "      'ymax': 7990360.306320559,\n",
       "      'spatialReference': {'wkid': 102100}},\n",
       "     'layers': [{'id': 'VectorTile_7984', 'visibility': False},\n",
       "      {'id': 'Alaska_School_Districts_7120', 'visibility': False},\n",
       "      {'id': 'Population_Census_CityCDPBorough_5921', 'visibility': False},\n",
       "      {'id': 'ANCSA_Status_4468', 'visibility': False},\n",
       "      {'id': 'CDO_Contacts_Federally_Recognized_Tribes_3312',\n",
       "       'visibility': False},\n",
       "      {'id': 'Boro_REAAs_4826', 'visibility': False},\n",
       "      {'id': 'General_CultureHistory_3094', 'visibility': False},\n",
       "      {'id': 'Transportation_Ferries_360', 'visibility': False},\n",
       "      {'id': 'Population_DCCED_View_821', 'visibility': False},\n",
       "      {'id': 'Contacts_Municipality_2178', 'visibility': False},\n",
       "      {'id': 'Economics_IncomePoverty_3930', 'visibility': False},\n",
       "      {'id': 'Economics_Employment_Wages_4882', 'visibility': False}],\n",
       "     'popup': {'layerId': 'Education_EnrollmentSchools_751',\n",
       "      'fieldName': 'OBJECTID',\n",
       "      'fieldValue': 1212,\n",
       "      'anchorPoint': {'x': -15077337.646988738,\n",
       "       'y': 7990163.2421069695,\n",
       "       'spatialReference': {'wkid': 102100}}},\n",
       "     'overview': {'enable': False, 'openByDefault': True},\n",
       "     'legend': {'enable': False, 'openByDefault': False},\n",
       "     'geocoder': {'enable': False},\n",
       "     'altText': ''}}},\n",
       "  {'id': 'MJ-ACTION-1524870346592',\n",
       "   'type': 'media',\n",
       "   'media': {'type': 'webmap',\n",
       "    'webmap': {'id': 'aeac02b9b4164740b6c1f69449f2eacc',\n",
       "     'extent': {'xmin': -15077872.109022468,\n",
       "      'ymin': 7989852.119515297,\n",
       "      'xmax': -15076892.759597648,\n",
       "      'ymax': 7990540.052769805,\n",
       "      'spatialReference': {'wkid': 102100}},\n",
       "     'layers': [{'id': 'Transportation_Airport_HubRole_5243',\n",
       "       'visibility': False},\n",
       "      {'id': 'CDO_Transportation_Roads_7584', 'visibility': False},\n",
       "      {'id': 'Transportation_Airports_3035', 'visibility': False},\n",
       "      {'id': 'Transportation_Ferries_360', 'visibility': False},\n",
       "      {'id': 'CDO_Demographics_Census_Population_Layer_1436',\n",
       "       'visibility': False}],\n",
       "     'popup': {'layerId': 'Education_EnrollmentSchools_7491',\n",
       "      'fieldName': 'OBJECTID',\n",
       "      'fieldValue': 1213,\n",
       "      'anchorPoint': {'x': -15077412.770284815,\n",
       "       'y': 7990176.976885482,\n",
       "       'spatialReference': {'wkid': 102100}}},\n",
       "     'overview': {'enable': False, 'openByDefault': True},\n",
       "     'legend': {'enable': False, 'openByDefault': False},\n",
       "     'geocoder': {'enable': False},\n",
       "     'altText': ''}}},\n",
       "  {'id': 'MJ-ACTION-1524870356252-87399',\n",
       "   'type': 'media',\n",
       "   'media': {'type': 'webmap',\n",
       "    'webmap': {'id': 'aeac02b9b4164740b6c1f69449f2eacc',\n",
       "     'extent': {'xmin': -15077676.836301804,\n",
       "      'ymin': 7989903.475643636,\n",
       "      'xmax': -15077053.993954051,\n",
       "      'ymax': 7990375.832591931,\n",
       "      'spatialReference': {'wkid': 102100}},\n",
       "     'layers': [{'id': 'Alaska_School_Districts_7120', 'visibility': False},\n",
       "      {'id': 'Population_Census_CityCDPBorough_5921', 'visibility': False},\n",
       "      {'id': 'ANCSA_Status_4468', 'visibility': False},\n",
       "      {'id': 'CDO_Contacts_Federally_Recognized_Tribes_3312',\n",
       "       'visibility': False},\n",
       "      {'id': 'Boro_REAAs_4826', 'visibility': False},\n",
       "      {'id': 'General_CultureHistory_3094', 'visibility': False},\n",
       "      {'id': 'Transportation_Ferries_360', 'visibility': False},\n",
       "      {'id': 'Population_DCCED_View_821', 'visibility': False},\n",
       "      {'id': 'Education_EnrollmentSchools_751', 'visibility': False},\n",
       "      {'id': 'Contacts_Municipality_2178', 'visibility': False},\n",
       "      {'id': 'Economics_IncomePoverty_3930', 'visibility': False}],\n",
       "     'popup': {'layerId': 'Education_EnrollmentSchools_751',\n",
       "      'fieldName': 'OBJECTID',\n",
       "      'fieldValue': 1213,\n",
       "      'anchorPoint': {'x': -15077414.084017038,\n",
       "       'y': 7990176.379721222,\n",
       "       'spatialReference': {'wkid': 102100}}},\n",
       "     'overview': {'enable': False, 'openByDefault': True},\n",
       "     'legend': {'enable': False, 'openByDefault': False},\n",
       "     'geocoder': {'enable': False},\n",
       "     'altText': ''}}}],\n",
       " 'creaDate': 1533673271527,\n",
       " 'pubDate': 1533673271527,\n",
       " 'status': 'PUBLISHED',\n",
       " 'media': {'type': 'webmap',\n",
       "  'webmap': {'id': 'aeac02b9b4164740b6c1f69449f2eacc',\n",
       "   'extent': {'xmin': -15078330.49226467,\n",
       "    'ymin': 7989207.611708765,\n",
       "    'xmax': -15075839.122873932,\n",
       "    'ymax': 7991097.039501739,\n",
       "    'spatialReference': {'wkid': 102100}},\n",
       "   'layers': [{'id': 'VectorTile_7984', 'visibility': False},\n",
       "    {'id': 'Alaska_School_Districts_7120', 'visibility': False},\n",
       "    {'id': 'Population_Census_CityCDPBorough_5921', 'visibility': False},\n",
       "    {'id': 'ANCSA_Status_4468', 'visibility': False},\n",
       "    {'id': 'CDO_Contacts_Federally_Recognized_Tribes_3312',\n",
       "     'visibility': False},\n",
       "    {'id': 'Boro_REAAs_4826', 'visibility': False},\n",
       "    {'id': 'General_CultureHistory_3094', 'visibility': False},\n",
       "    {'id': 'Transportation_Ferries_360', 'visibility': False},\n",
       "    {'id': 'Population_DCCED_View_821', 'visibility': False},\n",
       "    {'id': 'Contacts_Municipality_2178', 'visibility': False},\n",
       "    {'id': 'Economics_IncomePoverty_3930', 'visibility': False},\n",
       "    {'id': 'Economics_Employment_Wages_4882', 'visibility': False}],\n",
       "   'popup': None,\n",
       "   'overview': {'enable': False, 'openByDefault': True},\n",
       "   'legend': {'enable': True, 'openByDefault': True},\n",
       "   'geocoder': {'enable': False},\n",
       "   'altText': ''}}}"
      ]
     },
     "execution_count": 146,
     "metadata": {},
     "output_type": "execute_result"
    }
   ],
   "source": [
    "#Education Panel Updates\n",
    "panel_edu = sections[4]\n",
    "main_extent(panel_edu)\n",
    "school_ft = gis.content.get(\"1f8928a4bae646ef884be3b6a0b8bae8\")\n",
    "panel_edu"
   ]
  },
  {
   "cell_type": "code",
   "execution_count": null,
   "metadata": {},
   "outputs": [],
   "source": []
  }
 ],
 "metadata": {
  "kernelspec": {
   "display_name": "Python 3",
   "language": "python",
   "name": "python3"
  },
  "language_info": {
   "codemirror_mode": {
    "name": "ipython",
    "version": 3
   },
   "file_extension": ".py",
   "mimetype": "text/x-python",
   "name": "python",
   "nbconvert_exporter": "python",
   "pygments_lexer": "ipython3",
   "version": "3.6.5"
  }
 },
 "nbformat": 4,
 "nbformat_minor": 2
}
