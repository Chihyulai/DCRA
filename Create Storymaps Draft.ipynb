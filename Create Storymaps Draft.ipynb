{
 "cells": [
  {
   "cell_type": "code",
   "execution_count": 1,
   "metadata": {},
   "outputs": [
    {
     "name": "stdout",
     "output_type": "stream",
     "text": [
      "········\n"
     ]
    }
   ],
   "source": [
    "import arcgis\n",
    "from arcgis.gis import GIS\n",
    "from arcgis.apps import storymap\n",
    "from arcgis.mapping import WebMap\n",
    "from arcgis.geometry import Geometry, SpatialReference, Point, Polygon\n",
    "from getpass import getpass\n",
    "from arcgis.features import FeatureLayer, Feature, FeatureLayerCollection\n",
    "import pandas as pd\n",
    "import matplotlib.pyplot as plot\n",
    "from matplotlib.pyplot import figure\n",
    "import matplotlib.image as img\n",
    "\n",
    "# Create a connection to your portal for publishing (enter your ArcGIS Online \n",
    "#  password in the textbox that appears, then hit 'Enter' on your keyboard)\n",
    "gis = GIS(\"https://www.arcgis.com\", \"ezhatcher\", getpass())"
   ]
  },
  {
   "cell_type": "code",
   "execution_count": 2,
   "metadata": {},
   "outputs": [
    {
     "data": {
      "text/plain": [
       "'3.1.1'"
      ]
     },
     "execution_count": 2,
     "metadata": {},
     "output_type": "execute_result"
    }
   ],
   "source": [
    "import plotly\n",
    "import plotly.plotly as py\n",
    "import plotly.offline as py_off\n",
    "import plotly.tools as tls\n",
    "plotly.__version__"
   ]
  },
  {
   "cell_type": "code",
   "execution_count": 3,
   "metadata": {},
   "outputs": [],
   "source": [
    "#Define the function to access a field within a layer\n",
    "def access_lyr(content,out_fld):\n",
    "    base = content.layers\n",
    "    lyr = base[0]\n",
    "    topic_data = lyr.query(where=\"CommunityName = '\" + str(community) + \"'\",out_fields=out_fld)\n",
    "    return topic_data.df"
   ]
  },
  {
   "cell_type": "code",
   "execution_count": 4,
   "metadata": {},
   "outputs": [],
   "source": [
    "import uuid,json,arcpy\n",
    "\n",
    "def getExtent(fromFeature, sp_ext_ref=102100):\n",
    "    g = Geometry(fromFeature.geometry)\n",
    "    if g.type.lower() == 'point':\n",
    "        bg = Point({\"x\": g.x, \"y\": g.y, \"spatialReference\": {\"wkid\": sp_ext_ref}}).project_as(102100)\n",
    "        gbuf = bg.buffer(2800) # assume meters, 1609.344 ~ 1 mile\n",
    "        return gbuf.extent\n",
    "    \n",
    "    return g.extent\n",
    "\n",
    "def getMapAction(fromFeature, forWebmap, sp_ref=102100, lyrNdx=0, label_field=\"OBJECTID\", label_prefix=\"Feature Extent\", add_popup=False):\n",
    "    # TODO - make sure input parameters are valid, since we are just inserting them into the mapaction schema\n",
    "    \n",
    "    # pull out a value from the feature to display in our anchor tag\n",
    "    lbl_val = fromFeature.attributes[fromFeature.fields[0]]\n",
    "    if label_field in fromFeature.fields:\n",
    "        lbl_val = fromFeature.attributes[label_field]\n",
    "    \n",
    "    # format the label\n",
    "    lbl_frmtd = '{0}{1}'.format(label_prefix, lbl_val)\n",
    "    \n",
    "    # get the geometry extent\n",
    "    # TODO - Need to validate this or default to a valid extent\n",
    "    ext = getExtent(fromFeature, sp_ext_ref=sp_ref)\n",
    "    \n",
    "    # find the oid field\n",
    "    oid_field = [f for f in fromFeature.fields if 'objectid' in str(f.lower())][0]\n",
    "    if len(oid_field) <= 0 or oid_field is None:\n",
    "        print('objectid not in field list, disabling popup')\n",
    "        add_popup = False\n",
    "        \n",
    "    wm = WebMap(forWebmap)\n",
    "    layer = wm.layers[lyrNdx]\n",
    "    \n",
    "    lyr_lst = []\n",
    "    main_lyr = wm.layers[lyrNdx].id\n",
    "    main_lyr\n",
    "    for lyr in wm.layers:\n",
    "        if lyr.id != main_lyr:\n",
    "            lyr_lst.append(\n",
    "            {\n",
    "                \"id\": lyr.id,\n",
    "                \"visibility\":'false'\n",
    "            })\n",
    "    \n",
    "    #spatialRef = FeatureLayer(layer.url).properties.sourceSpatialReference.wkid ## Updated 9/4 EZH\n",
    "    if add_popup and layer is None:\n",
    "        print('layer not found, disabling popup')\n",
    "        add_popup = False\n",
    "    \n",
    "    point_ft = Geometry(fromFeature.geometry)\n",
    "    project = Point({\"x\":point_ft.x, \"y\": point_ft.y, \"spatialReference\": {\"wkid\":sp_ref}}).project_as(102100)\n",
    "    \n",
    "    popup_def = None\n",
    "    if add_popup:\n",
    "        popup_def = {\n",
    "            \"layerId\": layer.id,\n",
    "            \"fieldName\": oid_field, # we should probably get this dynamically and not hard code\n",
    "            \"fieldValue\": fromFeature.attributes[oid_field], # same with this one\n",
    "            \"anchorPoint\": {\n",
    "                \"x\": project.x,\n",
    "                \"y\": project.y,\n",
    "                \"spatialReference\": {\n",
    "                    \"wkid\": sp_ref\n",
    "                }\n",
    "            }\n",
    "        }\n",
    "    \n",
    "    # create a unique id\n",
    "    # ts = int(round(time.time() * 1000)) this isn't precise enough, gets duplicated in loop\n",
    "    ts = str(uuid.uuid4())\n",
    "    #print('id : {0}'.format(ts))\n",
    "    \n",
    "    # insert values into our map action schema\n",
    "    ma = {\n",
    "        \"id\":\"MJ-ACTION-{0}\".format(ts),\n",
    "        \"type\": \"media\",\n",
    "        \"media\": {\n",
    "            \"type\":\"webmap\",\n",
    "            \"webmap\": {\n",
    "                \"id\":forWebmap.id,\n",
    "                \"extent\": {\n",
    "                    \"xmin\": ext[0],\n",
    "                    \"ymin\": ext[1],\n",
    "                    \"xmax\": ext[2],\n",
    "                    \"ymax\": ext[3],\n",
    "                    \"spatialReference\":{\n",
    "                        \"wkid\": sp_ref ## Updated 9/4 EZH\n",
    "                    }\n",
    "                },\n",
    "                \"layers\": lyr_lst,\n",
    "                \"popup\": popup_def,\n",
    "                \"overview\":{\n",
    "                    \"enable\": False,\n",
    "                    \"openByDefault\": False\n",
    "                },\n",
    "                \"legend\": {\n",
    "                    \"enable\": False,\n",
    "                    \"openByDefault\": False\n",
    "                },\n",
    "                \"geocoder\":{\n",
    "                    \"enable\": False\n",
    "                },\n",
    "                \"altText\": \"\"\n",
    "            }\n",
    "        }\n",
    "    }\n",
    "    \n",
    "    # create the html string\n",
    "    content_anchor = '<a data-storymaps=\"{0}\" data-storymaps-type=\"media\">{1}</a>'.format(ma['id'], lbl_frmtd)\n",
    "    \n",
    "    # hand back our results to whoever called this function\n",
    "    return {\"content_link\": content_anchor, \"map_action\": ma}"
   ]
  },
  {
   "cell_type": "code",
   "execution_count": 5,
   "metadata": {},
   "outputs": [],
   "source": [
    "#Define the base template storymap using the item ID -- Hoonah Alaska\n",
    "seedappItem = gis.content.get(\"2a51cb9cc9d54b57a52c67d8efdb5eba\") #\"2a51cb9cc9d54b57a52c67d8efdb5eba\"\n",
    "#Clone the storymap\n",
    "contentManager = arcgis.gis.ContentManager(gis)\n",
    "clones = contentManager.clone_items(items=[seedappItem],search_existing_items=False)\n",
    "clonedStorymap = storymap.JournalStoryMap(clones[0])"
   ]
  },
  {
   "cell_type": "code",
   "execution_count": 6,
   "metadata": {},
   "outputs": [],
   "source": [
    "#Use the base feature class that has the listing of communities for which a storymap will be created-- currently, it's the \n",
    "#boundaries feature service, which also defines the map extent as the user scrolls through the panels\n",
    "community_base = gis.content.get(\"8499c3bc4ff141588f5c9ab1db99b0fb\")\n",
    "find_comm = community_base.layers[0].query(where=\"NAME IS NOT NULL\",out_fields=\"NAME\").df.NAME\n",
    "community_lst = []\n",
    "for c in find_comm:\n",
    "    community_lst.append(c)"
   ]
  },
  {
   "cell_type": "code",
   "execution_count": 7,
   "metadata": {},
   "outputs": [],
   "source": [
    "#Save the storymap clone using the new community name and information\n",
    "community = 'Nome'\n",
    "clonedStorymap.save(title=str(community) +\" Storymap Test\", description=\"Test cloning script result\", tags=\"Test,Storymap\")\n",
    "sections = clonedStorymap.properties[\"values\"][\"story\"][\"sections\"]"
   ]
  },
  {
   "cell_type": "code",
   "execution_count": 8,
   "metadata": {
    "scrolled": true
   },
   "outputs": [
    {
     "name": "stdout",
     "output_type": "stream",
     "text": [
      "Picture found for Nome at https://dcced.maps.arcgis.com/sharing/rest/content/items/3bc15a7b9344496dacfc27f492e4685e/data\n"
     ]
    }
   ],
   "source": [
    "#Access the URL for the main photo from the Photo Link feature class\n",
    "photo_base = gis.content.get(\"6d9d437bbe2d48bfa87b4d9fca41f80d\")\n",
    "find_photo = access_lyr(photo_base,'PhotoLink')\n",
    "main_pic = find_photo.PhotoLink[0]\n",
    "if str(main_pic) == 'None':\n",
    "    print('There is no picture for ' + str(community))\n",
    "else:\n",
    "    print('Picture found for ' + str(community) + ' at ' + str(main_pic))"
   ]
  },
  {
   "cell_type": "code",
   "execution_count": 9,
   "metadata": {},
   "outputs": [
    {
     "data": {
      "text/plain": [
       "True"
      ]
     },
     "execution_count": 9,
     "metadata": {},
     "output_type": "execute_result"
    }
   ],
   "source": [
    "#Identify/define the storymap panels\n",
    "panel_toc = sections[0]\n",
    "panel_ch = sections[1]\n",
    "panel_demog = sections[2]\n",
    "panel_transport = sections[3]\n",
    "panel_edu = sections[4]\n",
    "panel_econ = sections[5]\n",
    "panel_util = sections[6]\n",
    "panel_ANCSA = sections[7]\n",
    "panel_contacts = sections[8]\n",
    "\n",
    "panel_list = []\n",
    "panel_list.append(panel_demog)\n",
    "panel_list.append(panel_transport)\n",
    "panel_list.append(panel_edu)\n",
    "panel_list.append(panel_econ)\n",
    "#panel_list.append(panel_util) #problem with bounding box...\n",
    "#panel_list.append(panel_ANCSA) #problem with bounding box... \n",
    "panel_list.append(panel_contacts)\n",
    "\n",
    "\n",
    "#Modify the main title and photo in the main Table of Contents panel\n",
    "panel_toc[\"title\"] = '<span style=\"font-size:40px\">' + str(community) + ', Alaska</span>'\n",
    "if str(main_pic) == 'None':\n",
    "    panel_toc[\"media\"][\"image\"][\"url\"] = \"http://dcced.maps.arcgis.com/sharing/rest/content/items/34bf2ca84faa4b258712ed7a5422d0d5/data\"\n",
    "else:\n",
    "    panel_toc[\"media\"][\"image\"][\"url\"] = main_pic\n",
    "clonedStorymap.save()"
   ]
  },
  {
   "cell_type": "code",
   "execution_count": 10,
   "metadata": {},
   "outputs": [
    {
     "name": "stdout",
     "output_type": "stream",
     "text": [
      "Population: 3691 Inc. type: 1st Class City 1901\n"
     ]
    },
    {
     "data": {
      "text/plain": [
       "True"
      ]
     },
     "execution_count": 10,
     "metadata": {},
     "output_type": "execute_result"
    }
   ],
   "source": [
    "pop_base = gis.content.get(\"b1c57544c64849f6b626332bd05785cb\")\n",
    "current_pop = pop_base.layers[0].query(where=\"(CommunityName = '\" + str(community) + \"') AND DataYear = 2017\", out_fields = \"*\").df.Population[0]\n",
    "incrp_type = access_lyr(photo_base,'CommunityTypeName').CommunityTypeName[0]\n",
    "incrp_date = community_base.layers[0].query(where = \"NAME = '\" + str(community) + \"'\", out_fields = 'INCRP_DATE').df.INCRP_DATE[0]\n",
    "print(\"Population: \" + str(current_pop) + \" Inc. type: \" + str(incrp_type), incrp_date)\n",
    "\n",
    "panel_toc[\"content\"] = '<style type=\"text/css\">.blue {\\n     display: inline-block;\\n     background-color: #2c7bb6;\\n     border-color: #2c7bb6 !important;\\n     color: #fff !important;\\n     padding: 0px 4px;\\n     border-radius: 0px;\\n}\\n</style>\\n<p><span style=\"font-weight: bold;\">Current Population: ' + str(current_pop) + '</span></p><p>&nbsp;</p><p>Incorporation Date: ' + str(incrp_date) + '</p><p>Incorporation Type: ' + str(incrp_type) + '</p><p>&nbsp;</p>\\n<p><span style=\"font-size:28px\">Table of Contents</span><a data-storymaps=\"MJ-ACTION-1524782969520\" data-storymaps-type=\"navigate\"> </a></p>\\n\\n<p>&nbsp;</p>\\n\\n<p><a data-storymaps=\"MJ-ACTION-1524782969520\" data-storymaps-type=\"navigate\">Culture and History</a></p>\\n\\n<p><span style=\"font-size:20px\"><a class=\"peach\" data-storymaps=\"MJ-ACTION-1524783369112\" data-storymaps-type=\"navigate\">Demographics</a></span></p>\\n\\n<p><span style=\"font-size:20px\"><a data-storymaps=\"MJ-ACTION-1524784937326\" data-storymaps-type=\"navigate\">Transportation</a></span></p>\\n\\n<p><span style=\"font-size:20px\"><a data-storymaps=\"MJ-ACTION-1524786044096\" data-storymaps-type=\"navigate\">Education</a></span></p>\\n\\n<p><span style=\"font-size:20px\"><a data-storymaps=\"MJ-ACTION-1532548226455\" data-storymaps-type=\"navigate\">Economy</a></span></p>\\n\\n<p><span style=\"font-size:20px\"><a data-storymaps=\"MJ-ACTION-1532636740461\" data-storymaps-type=\"navigate\">Utilities</a></span></p>\\n\\n<p><span style=\"font-size:20px\"><a data-storymaps=\"MJ-ACTION-1532636735244\" data-storymaps-type=\"navigate\">ANCSA&nbsp;</a></span></p>\\n\\n<p><span style=\"font-size:20px\"><a data-storymaps=\"MJ-ACTION-1532636729718\" data-storymaps-type=\"navigate\">Community Contacts</a></span></p>\\n\\n<p>&nbsp;</p>\\n\\n<p>&nbsp;</p>\\n\\n<p>&nbsp;</p>\\n'\n",
    "clonedStorymap.save()"
   ]
  },
  {
   "cell_type": "code",
   "execution_count": 11,
   "metadata": {
    "scrolled": true
   },
   "outputs": [],
   "source": [
    "#Access the webmap and clone the webmap/update map filters\n",
    "current_webmap = gis.content.get(\"bdbb441b8b5d4ef2bc1a519c44e49c6b\")\n",
    "wm = arcgis.mapping.WebMap(webmapitem=current_webmap)\n",
    "wm_properties = {'title':'OpenData_Storymap_' + str(community),'snippet':'Test webmap clone','tags':['dcra','test']}\n",
    "wm.save(wm_properties,folder='Storymap Webmaps') \n",
    "#Find the new webmap and rename it\n",
    "new_map_search = gis.content.search('OpenData_Storymap_' + str(community), item_type=\"Web Map\")\n",
    "webmap = new_map_search[0]\n",
    "new_webmap = webmap.id\n",
    "#Define the webmap item to access and filter layers\n",
    "upd_webmap = gis.content.get(new_webmap)\n",
    "wm_instory = arcgis.mapping.WebMap(webmapitem=upd_webmap)\n"
   ]
  },
  {
   "cell_type": "code",
   "execution_count": 13,
   "metadata": {},
   "outputs": [
    {
     "name": "stdout",
     "output_type": "stream",
     "text": [
      "Nome webmap id: 005c8a18aa3c4509b70bf08b3713bc6a\n"
     ]
    }
   ],
   "source": [
    "#UPDATE WEBMAP LAYER FILTERS\n",
    "\n",
    "#Find ANCSA Regional Corporation\n",
    "region_lyr = gis.content.get(\"5522cf5f5e5d4d52abe6e7df47d5d241\").layers[0].query(where=\"Community_Name = '\" + str(community) + \"'\", out_fields = \"*\")\n",
    "ANCSA_rgn = region_lyr.df.ANCSA_Regional_Corporation[0]\n",
    "econ_rgn = region_lyr.df.Economic_Region[0]\n",
    "sch_distr = region_lyr.df.School_District[0]\n",
    "#Taxes\n",
    "wm_instory.layers[0][\"layerDefinition\"][\"definitionExpression\"] = \"(CommunityName = '\" + str(community) +\"') AND (RevenueYear = 2016)\"\n",
    "\n",
    "#Income and Poverty\n",
    "wm_instory.layers[1][\"layerDefinition\"][\"definitionExpression\"] = \"CommunityName = '\" + str(community) + \"'\"\n",
    "\n",
    "#Municipality Contacts\n",
    "wm_instory.layers[2][\"layerDefinition\"][\"definitionExpression\"] = \"CommunityName = '\" + str(community) + \"'\"\n",
    "\n",
    "#School Enrollment\n",
    "wm_instory.layers[3][\"layerDefinition\"][\"definitionExpression\"] = \"CommunityName = '\" + str(community) + \"'\"\n",
    "\n",
    "#DCCED Certified Population\n",
    "wm_instory.layers[4][\"layerDefinition\"][\"definitionExpression\"] = \"CommunityName = '\" + str(community) + \"'\"\n",
    "\n",
    "#Ferries\n",
    "wm_instory.layers[5][\"layerDefinition\"][\"definitionExpression\"] = \"CommunityName = '\" + str(community) + \"'\"\n",
    "\n",
    "#Healthcare facilities\n",
    "wm_instory.layers[6][\"layerDefinition\"][\"definitionExpression\"] = \"CommunityName = '\" + str(community) + \"'\"\n",
    "\n",
    "#Community Regions Overview\n",
    "wm_instory.layers[7][\"layerDefinition\"][\"definitionExpression\"] = \"CommunityName = '\" + str(community) + \"'\"\n",
    "\n",
    "#Alaska Road System\n",
    "#wm_instory.layers[8]\n",
    "\n",
    "#Boro_REAAs\n",
    "#wm_instory.layers[9]\n",
    "\n",
    "#Alaska Airports\n",
    "wm_instory.layers[10][\"layerDefinition\"][\"definitionExpression\"] = \"CommunityName = '\" + str(community) + \"'\"\n",
    "\n",
    "#City Bounding Area\n",
    "wm_instory.layers[11][\"layerDefinition\"][\"definitionExpression\"] = \"NAME = '\" + str(community) + \"'\"\n",
    "\n",
    "#ANCSA Regional Corporation\n",
    "wm_instory.layers[12][\"layerDefinition\"][\"definitionExpression\"] = \"NAT_CORP = '\" + str(ANCSA_rgn) + \"'\"\n",
    "\n",
    "#Economic Region Employment and Wages\n",
    "wm_instory.layers[13][\"layerDefinition\"][\"definitionExpression\"] = \"CommunityName = '\" + str(econ_rgn) + \"'\"\n",
    "\n",
    "#School Disricts\n",
    "wm_instory.layers[14][\"layers\"][0][\"layerDefinition\"][\"definitionExpression\"] = \"School_District = '\" + str(sch_distr) + \"'\"\n",
    "\n",
    "wm_instory.update()\n",
    "print(str(community) + \" webmap id: \" + str(new_webmap))"
   ]
  },
  {
   "cell_type": "code",
   "execution_count": 14,
   "metadata": {},
   "outputs": [
    {
     "name": "stdout",
     "output_type": "stream",
     "text": [
      "Nome extent: {'xmin': -18427977.885244764, 'ymin': 9465769.721408887, 'xmax': -18402327.418988876, 'ymax': 9495095.129160557, 'spatialReference': {'wkid': 102100, 'latestWkid': 3857}}\n",
      "<span style=\"font-size:26px\">Demographics</span> main extent updated.\n",
      "<span style=\"font-size:26px\">Transportation</span> main extent updated.\n",
      "<span style=\"font-size:26px\">Education</span> main extent updated.\n",
      "<span style=\"font-size:26px\">Economy</span> main extent updated.\n",
      "<span style=\"font-size:26px\">Contacts</span> main extent updated.\n"
     ]
    }
   ],
   "source": [
    "### STORYMAP PANELS WITH CITY EXTENT ###\n",
    "#Set up zoom scale (x max and min, y max and min) for map actions \n",
    "bounds_ft = gis.content.get(\"8499c3bc4ff141588f5c9ab1db99b0fb\")\n",
    "ft_lyr = FeatureLayer(bounds_ft)\n",
    "boundary_lyr = ft_lyr.url.layers[0].query(where=\"NAME LIKE '%\" + str(community) + \"%'\", out_fields=\"*\").features[0].geometry\n",
    "bounds_ext = Polygon(boundary_lyr).extent\n",
    "c_ext = Geometry({\n",
    "    'xmin':bounds_ext[0],\n",
    "    'ymin':bounds_ext[1],\n",
    "    'xmax':bounds_ext[2],\n",
    "    'ymax':bounds_ext[3],\n",
    "    'spatialReference':{\n",
    "        'wkid':102006\n",
    "    }\n",
    "}).project_as(3857)\n",
    "\n",
    "print(str(community) + \" extent: \" + str(c_ext))\n",
    "\n",
    "#Update primary zoom scale of each panel based on the minimum bounding envelope feature service\n",
    "# item id = \"8499c3bc4ff141588f5c9ab1db99b0fb\" using previously defined zoom scale\n",
    "for p in panel_list:\n",
    "    p[\"media\"][\"webmap\"][\"id\"] = new_webmap\n",
    "    ext1 = p[\"media\"][\"webmap\"][\"extent\"]\n",
    "    ext1[\"xmin\"] = c_ext.xmin\n",
    "    ext1[\"xmax\"] = c_ext.xmax\n",
    "    ext1[\"ymin\"] = c_ext.ymin\n",
    "    ext1[\"ymax\"] = c_ext.ymax\n",
    "    print(str(p[\"title\"]) + \" main extent updated.\")\n",
    "    clonedStorymap.save()\n"
   ]
  },
  {
   "cell_type": "code",
   "execution_count": 15,
   "metadata": {},
   "outputs": [
    {
     "data": {
      "text/plain": [
       "True"
      ]
     },
     "execution_count": 15,
     "metadata": {},
     "output_type": "execute_result"
    }
   ],
   "source": [
    "### CULTURE HISTORY PANEL ###\n",
    "\n",
    "#Access the culture and history from the culture/history feature class (IF THE PANEL ORDER CHANGES, MAKE SURE INDEX STILL APPLIES)\n",
    "panel_ch[\"media\"][\"webmap\"][\"id\"] = new_webmap\n",
    "ch_ft = gis.content.get(\"3f99cf21a0da42c4bf8b15632e958df9\")\n",
    "culture_lookup = access_lyr(ch_ft,'CommunityCulture')\n",
    "culture = culture_lookup.CommunityCulture[0]\n",
    "history_lookup = access_lyr(ch_ft,'CommunityHistory')\n",
    "history = history_lookup.CommunityHistory[0]\n",
    "\n",
    "#Populate the panel with the new culture history info\n",
    "panel_ch[\"content\"] = '<style type=\"text/css\">.dcra-blue {\\n     display: inline-block;\\n     background-color: #005e95;\\n     border-color: #005e95 !important;\\n     color: #fff !important;\\n     padding: 0px 4px;\\n     border-radius: 0px;\\n}\\n</style>\\n<p><a class=\"dcra-blue\" data-storymaps=\"MJ-ACTION-1524783785796\" data-storymaps-type=\"navigate\">Back to Table of Contents</a></p>\\n\\n<p>&nbsp;<p>'+ history + '&nbsp;</p>\\n\\n<p>\\n\\n<p>&nbsp;<p>'+ culture + '&nbsp;</p>\\n'\n",
    "panel_ch[\"media\"][\"webmap\"][\"altText\"] = 'Map showing the location of ' + str(community) + ', Alaska in the context of the state and borough/REAA boundaries.'\n",
    "clonedStorymap.save()"
   ]
  },
  {
   "cell_type": "code",
   "execution_count": 16,
   "metadata": {},
   "outputs": [
    {
     "name": "stdout",
     "output_type": "stream",
     "text": [
      "Demographics popup updated.\n"
     ]
    },
    {
     "data": {
      "text/plain": [
       "True"
      ]
     },
     "execution_count": 16,
     "metadata": {},
     "output_type": "execute_result"
    }
   ],
   "source": [
    "### DEMOGRAPHICS PANEL ###\n",
    "\n",
    "#Update the zoom extent for the demographics panel map action (tied to 'Historic Census' button)\n",
    "panel_demog[\"contentActions\"][1][\"media\"][\"webmap\"][\"id\"] = new_webmap\n",
    "demog_ext = panel_demog[\"contentActions\"][1][\"media\"][\"webmap\"][\"extent\"]\n",
    "demog_ext[\"xmin\"] = c_ext.xmin\n",
    "demog_ext[\"xmax\"] = c_ext.xmax\n",
    "demog_ext[\"ymin\"] = c_ext.ymin\n",
    "demog_ext[\"ymax\"] = c_ext.ymax\n",
    "\n",
    "#Update the main DCCED popup\n",
    "#demog_popup = panel_demog[\"contentActions\"][1][\"media\"][\"webmap\"][\"popup\"]\n",
    "\n",
    "panel_demog[\"media\"][\"webmap\"][\"altText\"] = 'Map showing aerial imagery of ' + str(community) + ', Alaska and a pop-up box displaying current and historic DCCED certified population counts from 2011 to present.'\n",
    "\n",
    "\n",
    "### DEMOGRAPHICS PANEL ###\n",
    "#Update popup extents\n",
    "dcced_pop = FeatureLayer('https://maps.commerce.alaska.gov/server/rest/services/Demographics/Population_DCCED_View/MapServer/0')\n",
    "pop_lyr = dcced_pop.query(where=\"CommunityName = '\" + str(community) + \"'\", out_fields = \"*\")\n",
    "point_ft = Geometry(pop_lyr.features[0].geometry)\n",
    "project_dcced = Point({\"x\":point_ft.x, \"y\": point_ft.y, \"spatialReference\": {\"wkid\":4326}}).project_as(102100)\n",
    "panel_demog[\"media\"][\"webmap\"][\"popup\"][\"fieldName\"] = 'OBJECTID'\n",
    "panel_demog[\"media\"][\"webmap\"][\"popup\"][\"fieldValue\"] = int(pop_lyr.df.OBJECTID[0])\n",
    "panel_demog[\"media\"][\"webmap\"][\"popup\"][\"anchorPoint\"][\"x\"] = project_dcced.x\n",
    "panel_demog[\"media\"][\"webmap\"][\"popup\"][\"anchorPoint\"][\"y\"] = project_dcced.y\n",
    "\n",
    "print(\"Demographics popup updated.\")\n",
    "\n",
    "clonedStorymap.save()"
   ]
  },
  {
   "cell_type": "code",
   "execution_count": 17,
   "metadata": {},
   "outputs": [
    {
     "name": "stdout",
     "output_type": "stream",
     "text": [
      "Historic census plot posted to panel\n"
     ]
    }
   ],
   "source": [
    "### DEMOGRAPHICS PANEL ###\n",
    "\n",
    "#Embed census plot from plotly\n",
    "py.sign_in('ezhatcher','vCIBrBR5RpQhanTzQBRZ')\n",
    "\n",
    "#Historical census plot for demographics panel\n",
    "census_base = gis.content.get(\"b475ec701f25448aa6e03cb16d94b6f0\") #Census locations all locations\n",
    "pop_df = access_lyr(census_base,'CensusPopulation, CensusYear')\n",
    "\n",
    "graph = plotly.graph_objs.Scatter(\n",
    "    x = pop_df.CensusYear,\n",
    "    y = pop_df.CensusPopulation\n",
    ")\n",
    "\n",
    "layout = plotly.graph_objs.Layout(\n",
    "    title=str(community) + ' Historical Census Population Counts',\n",
    "    )\n",
    "\n",
    "data = [graph]\n",
    "fig = plotly.graph_objs.Figure(data=data, layout=layout)\n",
    "config={'showLink': False}\n",
    "plot_url = py.plot(fig, filename= str(community) + '-census',config=config)\n",
    "embed_plt = tls.get_embed(plot_url)\n",
    "\n",
    "panel_demog[\"content\"] = '<style type=\"text/css\">.dcra-blue {\\n     display: inline-block;\\n background-color: #005e95;\\n     border-color: #005e95 !important;\\n     color: #fff !important;\\n     padding: 0px 4px;\\n     border-radius: 0px;\\n}\\n</style>\\n<p><a class=\"dcra-blue\" data-storymaps=\"MJ-ACTION-1524783883308\" data-storymaps-type=\"navigate\">Back to Table of Contents</a></p>\\n\\n<p>&nbsp;</p>\\n\\n<p>Every June the Commissioner of the Department of Commerce Community Economic Development certifies community population figures. The most recent figures are displayed here.&nbsp;</p>\\n\\n<p>&nbsp;</p>\\n\\n<p> Historic census population counts for the community also provide a century\\'s worth of change in this community.&nbsp;</p>\\n\\n<div>' + str(embed_plt) +'</div>\\n\\n<p>More information about demographics can be found <a href=\"http://DCCED.maps.arcgis.com/apps/webappviewer/index.html?id=577407acfbc6433389006d099cb25971\" target=\"_blank\">here.&nbsp;</a></p>\\n'\n",
    "clonedStorymap.save()\n",
    "print(\"Historic census plot posted to panel\")"
   ]
  },
  {
   "cell_type": "code",
   "execution_count": 18,
   "metadata": {},
   "outputs": [
    {
     "name": "stdout",
     "output_type": "stream",
     "text": [
      "Transportation table posted to panel.\n"
     ]
    }
   ],
   "source": [
    "###TRANSPORTATION PANEL###\n",
    "#Update panel text using transportation overview feature class (item id = \"2076ce8b6744430880e1c8ab923cd720\")\n",
    "find_text = gis.content.get(\"4b1dc0106a7c45dab6bfcdcef18bb84d\")\n",
    "access_text = find_text.layers[0].query(where=\"CommunityName = '\" + str(community) + \"'\",out_fields='Description').df\n",
    "\n",
    "#Create airport listing table in panel\n",
    "arpt_base = gis.content.get(\"40601fd695c74a6d8a53303ece73ecd1\")\n",
    "arpt_data = access_lyr(arpt_base,'EntityName')\n",
    "if str(arpt_data) == 'Empty DataFrame\\nColumns: []\\nIndex: []':\n",
    "    print(\"There are no public use airports in \" + str(community))\n",
    "    panel_transport[\"content\"] = '<style type=\"text/css\">.dcra-blue {\\n     display: inline-block;\\n     background-color: #005e95;\\n     border-color: #005e95 !important;\\n     color: #fff !important;\\n     padding: 3px 8px;\\n     border-radius: 5px;\\n}\\n</style>\\n<style type=\"text/css\">.btn-orange {\\n    display: inline-block;\\n    background-color: #f0ad4e;\\n    border-color: #f0ad4e !important;\\n    color: #fff !important;\\n    padding: 0px 2px;\\n    border-radius: 12px;\\n}\\n</style>\\n<p><a class=\"dcra-blue\" data-storymaps=\"MJ-ACTION-1524784108786\" data-storymaps-type=\"navigate\">Back to Table of Contents</a></p>\\n\\n<p>&nbsp;</p>\\n\\n<p>' + access_text.Description[0] + '</p>\\n\\n<p>&nbsp;</p>\\n\\n<p>&nbsp;</p>\\n\\n<p>&nbsp;</p>\\n\\n<p>More detailed information about Transportation in Alaska can be found <a href=\"http://DCCED.maps.arcgis.com/apps/webappviewer/index.html?id=3de3ebccbb6b4ba8a9c64609e96199ba\" target=\"_blank\"><strong>here</strong></a>.&nbsp;</p>\\n'\n",
    "else:\n",
    "    def airport_lst(airports):\n",
    "        arpt_listing = [\"<table border = '1'><tr><th width='70%'>Airport</th><th width='30%'>Airport Code</th></tr><tbody>\"]\n",
    "        for a in airports.EntityName:\n",
    "            airport_data = arpt_base.layers[0].query(where=\"EntityName = '\" + str(a) + \"'\",out_fields='EntityName, AirportCode')\n",
    "            airport = airport_data.df.EntityName[0]\n",
    "            arpt_code = airport_data.df.AirportCode[0]\n",
    "            ma = getMapAction(airport_data.features[0], webmap, sp_ref=102006, lyrNdx=10, label_field='EntityName',label_prefix=\"\", add_popup=False)\n",
    "            panel_transport[\"contentActions\"].append(ma[\"map_action\"])\n",
    "            arpt_listing.append(\"<tr><td>\" + ma['content_link'] + \"</td><td>\" + str(arpt_code) + \"</td><td>\")\n",
    "        arpt_listing.append(\"</tbody></table>\")\n",
    "        return(' '.join(arpt_listing))\n",
    "    airport_lst(arpt_data)\n",
    "    \n",
    "    panel_transport[\"content\"] = '<style type=\"text/css\">.dcra-blue {\\n     display: inline-block;\\n     background-color: #005e95;\\n     border-color: #005e95 !important;\\n     color: #fff !important;\\n     padding: 3px 8px;\\n     border-radius: 5px;\\n}\\n</style>\\n<style type=\"text/css\">.btn-orange {\\n    display: inline-block;\\n    background-color: #f0ad4e;\\n    border-color: #f0ad4e !important;\\n    color: #fff !important;\\n    padding: 0px 2px;\\n    border-radius: 12px;\\n}\\n</style>\\n<p><a class=\"dcra-blue\" data-storymaps=\"MJ-ACTION-1524784108786\" data-storymaps-type=\"navigate\">Back to Table of Contents</a></p>\\n\\n<p>&nbsp;</p>\\n\\n<p>' + str(access_text.Description[0]) + '</p>\\n\\n<p>&nbsp;</p><p>Click on the icons in the map to see specific information about each airport or ferry terminal.</p>\\n\\n<p>&nbsp;</p>\\n\\n<p>' + str(airport_lst(arpt_data)) + '</p><p>&nbsp;</p>\\n\\n<p>More detailed information about Transportation in Alaska can be found <a href=\"http://DCCED.maps.arcgis.com/apps/webappviewer/index.html?id=3de3ebccbb6b4ba8a9c64609e96199ba\" target=\"_blank\"><strong>here</strong></a>.&nbsp;</p>\\n'\n",
    "    clonedStorymap.save()\n",
    "    print(\"Transportation table posted to panel.\")"
   ]
  },
  {
   "cell_type": "code",
   "execution_count": 19,
   "metadata": {},
   "outputs": [
    {
     "name": "stdout",
     "output_type": "stream",
     "text": [
      "Economic data posted to economy panel.\n"
     ]
    }
   ],
   "source": [
    "### ECONOMY PANEL ###\n",
    "\n",
    "#Employment rate from employment and wages data\n",
    "emp_wgs_base = gis.content.get(\"601a1796d41d485992a18e2974845532\").layers[0]\n",
    "emp_wgs_data = emp_wgs_base.query(where=\"(CommunityName = '\" + str(community) + \" city') AND DataYear = 2016\", out_fields=\"*\").df\n",
    "emp_rate = round(float(emp_wgs_data.ResidentsEmployed[0]/emp_wgs_data.ResidentsAge16AndOver * 100),1)\n",
    "emp_rate\n",
    "\n",
    "#Taxes data\n",
    "tax_base = gis.content.get(\"70a364eae3514531a280e4696b54c6e9\").layers[0]\n",
    "tax_data = tax_base.query(where=\"(CommunityName = '\" + str(community) +\"') AND RevenueYear = 2016\", out_fields = \"*\")\n",
    "sales_tax = tax_data.df.SalesTaxPercentage[0]\n",
    "prop_tax = tax_data.df.PropertyTaxMills[0]\n",
    "other_tax = tax_data.df.OtherTaxes[0]\n",
    "prop_tax_rev = tax_data.df.PropertyTaxRevenue[0]\n",
    "sales_tax_rev = tax_data.df.SalesTaxRevenue[0]\n",
    "total_tax_rev = tax_data.df.TotalTaxRevenue[0]\n",
    "tax_table = ['<table><tr><th width=\"70%\"></th><th width=\"30%\"></th></tr>',\n",
    "             '<tr><td>Property Tax Mills:</td><td>' + str(prop_tax) + '</td></tr>',\n",
    "            '<tr><td>Sales Tax Rate: </td><td>' + str(sales_tax) + '</td></tr>',\n",
    "            '<tr><td>Other Taxes: </td><td>' + str(sales_tax) + '</td></tr>',\n",
    "            '<tr><td>Total Tax Revenue: </td><td> $' + str(total_tax_rev) + '</td></tr>',\n",
    "            '<tr><td>Sales Tax Revenue: </td><td> $' + str(sales_tax_rev) + '</td></tr>']\n",
    "embed_tax_tbl = ' '.join(tax_table)\n",
    "\n",
    "#Income and poverty data\n",
    "#inc_pov_base = gis.content.get(\"\")\n",
    "\n",
    "panel_econ[\"content\"] = '<style type=\"text/css\">.dcra-blue {\\n     display: inline-block;\\n     background-color: #005e95;\\n     border-color: #005e95 !important;\\n     color: #fff !important;\\n     padding: 0px 4px;\\n     border-radius: 0px;\\n}\\n</style>\\n<p><a class=\"dcra-blue\" data-storymaps=\"MJ-ACTION-1524783785796\" data-storymaps-type=\"navigate\">Back to Table of Contents</a></p>\\n\\n<p>&nbsp;</p>\\n\\n<p><b><u>Employment Rate: </u></b>' + str(emp_rate) + '%</p><p>&nbsp;</p>\\n\\n<div><p><b><u>Taxes: </u></b> ' + str(embed_tax_tbl) + '</p></div><p>&nbsp;</p><p><b><u>Income and Poverty:</u></b></p>\\n\\n<p>More information can be found in the <a href=\"http://DCCED.maps.arcgis.com/apps/MapJournal/index.html?appid=bb631449256346db81bc026339f0e60c\" target=\"_blank\">Alaska Taxable.</a></p>\\n'\n",
    "\n",
    "clonedStorymap.save()\n",
    "print(\"Economic data posted to economy panel.\")"
   ]
  },
  {
   "cell_type": "code",
   "execution_count": 20,
   "metadata": {},
   "outputs": [
    {
     "name": "stdout",
     "output_type": "stream",
     "text": [
      "Creating Nome schools table...\n",
      "School table posted to the education panel.\n"
     ]
    }
   ],
   "source": [
    "###EDUCATION PANEL###\n",
    "\n",
    "#CUSTOM POPUP\n",
    "ak_schools = gis.content.get(\"1f8928a4bae646ef884be3b6a0b8bae8\")\n",
    "#If using layer published to portal...\n",
    "community_sch_lst = access_lyr(ak_schools,'EntityName,PhysicalAddress,PhysicalCity,PhysicalZip')\n",
    "#If using layer published to cloud...\n",
    "#community_sch_lst = ak_schools.layers[0].query(where=\"CommunityN = '\" + str(community) + \"'\", out_fields = 'EntityName,PhysicalAd,PhysicalCi,PhysicalZi').df\n",
    "output = str(ak_schools.layers[0].query(where=\"CommunityName = '\" + str(community) + \"'\",out_fields = \"EntityName\").df)\n",
    "if output == 'Empty DataFrame\\nColumns: []\\nIndex: []':\n",
    "    print(\"There are no schools in \" + str(community))\n",
    "    panel_edu[\"content\"] = '<p>&nbsp;</p>\\n\\n<p>\\n<style type=\"text/css\">.dcra-blue {\\n     display: inline-block;\\n     background-color: #005e95;\\n     border-color: #005e95 !important;\\n     color: #fff !important;\\n     padding: 3px 8px;\\n     border-radius: 5px;\\n</style>\\n</p>\\n<p><a class=\"dcra-blue\" data-storymaps=\"MJ-ACTION-1524785467480\" data-storymaps-type=\"navigate\">Back to Table of Contents</a><br>\\n<style type=\"text/css\">\\n</style>\\n</p>\\n\\n<p>&nbsp;</p>\\n\\n<p>There are no schools open in' + str(community) + '</p><p>&nbsp;</p>\\n\\n<p>For more information about Alaska schools and education, click <a href=\"http://DCCED.maps.arcgis.com/apps/webappviewer/index.html?id=cff461c2397d4c66ae2c28dbfb62319f\" target=\"_blank\">here</a>.</p>\\n'\n",
    "else:\n",
    "    print(\"Creating \" + str(community) + \" schools table...\")\n",
    "    schools = community_sch_lst.EntityName\n",
    "    def school_lst(entities):\n",
    "        school_list = [\"<table border = '1'><tr><th width='45%'>School</th><th width='45%'>Address</th><th width='10%'>Zip Code</th></tr><tbody>\"]\n",
    "        for e in entities:\n",
    "            #print(e)\n",
    "            #school_data = ak_schools.layers[0].query(where=\"EntityName = '\" + str(e) + \"'\",out_fields= 'EntityName,PhysicalAd,PhysicalCi,PhysicalZi')\n",
    "            school_data = ak_schools.layers[0].query(where=\"EntityName = '\" + str(e) + \"'\",out_fields='EntityName,PhysicalAddress,PhysicalCity,PhysicalZip')\n",
    "            address = school_data.df.PhysicalAddress[0]\n",
    "            city = school_data.df.PhysicalCity[0]\n",
    "            zipcode = school_data.df.PhysicalZip[0]\n",
    "            ma = getMapAction(school_data.features[0], webmap, lyrNdx=4, label_field=\"EntityName\", label_prefix=\"\", add_popup=True)\n",
    "            #print(ma)\n",
    "            #panel_edu[\"content\"] += ma['content_link']\n",
    "            panel_edu[\"contentActions\"].append(ma[\"map_action\"])\n",
    "            school_list.append(\"<tr><td>\" + ma['content_link'] + \"</td><td>\" + address + \"</td><td>\" + zipcode + '</td></tr>')\n",
    "        school_list.append(\"</tbody></table>\")\n",
    "        return(' '.join(school_list))\n",
    "    \n",
    "    school_lst(schools)\n",
    "    ###EDUCATION PANEL###\n",
    "    #Update panel schools listing\n",
    "    school_dist = access_lyr(ak_schools,'SchoolDistrict').SchoolDistrict[0]\n",
    "    panel_edu[\"content\"] =  '<p>&nbsp;</p>\\n\\n<p>\\n<style type=\"text/css\">.dcra-blue {\\n     display: inline-block;\\n     background-color: #005e95;\\n     border-color: #005e95 !important;\\n     color: #fff !important;\\n     padding: 3px 8px;\\n     border-radius: 5px;\\n</style>\\n</p>\\n<p><a class=\"dcra-blue\" data-storymaps=\"MJ-ACTION-1524785467480\" data-storymaps-type=\"navigate\">Back to Table of Contents</a><br>\\n<style type=\"text/css\">\\n</style>\\n</p>\\n\\n<p>&nbsp;</p>\\n\\n<p>' + str(community) + \" schools are part of \" + str(school_dist) + \". </p>\\n\\n<p>&nbsp;</p><p>\" + str(school_lst(schools)) + '</p><p>&nbsp;</p>\\n\\n<p>For more information about Alaska schools and education, click <a href=\"http://DCCED.maps.arcgis.com/apps/webappviewer/index.html?id=cff461c2397d4c66ae2c28dbfb62319f\" target=\"_blank\">here</a>.</p>\\n'\n",
    "    panel_edu[\"content\"]\n",
    "    clonedStorymap.save()\n",
    "    print(\"School table posted to the education panel.\")\n",
    "    "
   ]
  },
  {
   "cell_type": "code",
   "execution_count": 21,
   "metadata": {},
   "outputs": [],
   "source": [
    "### ANCSA PANEL ###\n",
    "\n",
    "extMain = panel_ANCSA[\"media\"][\"webmap\"][\"extent\"]\n",
    "extMain[\"xmin\"] = c_ext.xmin\n",
    "extMain[\"xmax\"] = c_ext.xmax\n",
    "extMain[\"ymin\"] = c_ext.ymin\n",
    "extMain[\"ymax\"] = c_ext.ymax\n",
    "\n",
    "def getPolyExtent(fromFeature):\n",
    "    g = Polygon(fromFeature.geometry).extent\n",
    "    bg = Geometry({\"xmin\": g[0], \"ymin\": g[1], \"xmax\": g[2], \"ymax\": g[3], \"spatialReference\": {\"wkid\": 102006}})\n",
    "    return bg\n",
    "\n",
    "def getPolyMapAction(fromFeature, forWebmap, lyrNdx=0, label_field=\"OBJECTID\", label_prefix=\"Feature Extent\", add_popup=False):\n",
    "    # TODO - make sure input parameters are valid, since we are just inserting them into the mapaction schema\n",
    "    \n",
    "    # pull out a value from the feature to display in our anchor tag\n",
    "    lbl_val = fromFeature.attributes[fromFeature.fields[0]]\n",
    "    if label_field in fromFeature.fields:\n",
    "        lbl_val = fromFeature.attributes[label_field]\n",
    "    \n",
    "    # format the label\n",
    "    lbl_frmtd = '{0}{1}'.format(label_prefix, lbl_val)\n",
    "    \n",
    "    # get the geometry extent\n",
    "    # TODO - Need to validate this or default to a valid extent\n",
    "    ext = getPolyExtent(fromFeature)\n",
    "    \n",
    "    # find the oid field\n",
    "    oid_field = [f for f in fromFeature.fields if f.lower() == 'objectid'][0]\n",
    "    if len(oid_field) <= 0 or oid_field is None:\n",
    "        print('objectid not in field list, disabling popup')\n",
    "        add_popup = False\n",
    "    \n",
    "    wm = WebMap(forWebmap)\n",
    "    layer = wm.layers[lyrNdx]\n",
    "    #spatialRef = FeatureLayer(layer.url).properties.sourceSpatialReference.wkid ## Updated 9/4 EZH\n",
    "    if add_popup and layer is None:\n",
    "        print('layer not found, disabling popup')\n",
    "        add_popup = False\n",
    "    \n",
    "    popup_def = None\n",
    "    if add_popup:\n",
    "        popup_def = {\n",
    "            \"layerId\": layer.id,\n",
    "            \"fieldName\": oid_field, # we should probably get this dynamically and not hard code\n",
    "            \"fieldValue\": fromFeature.attributes[oid_field], # same with this one\n",
    "            \"anchorPoint\": {\n",
    "                \"x\": Geometry(fromFeature.geometry).centroid[0],\n",
    "                \"y\": Geometry(fromFeature.geometry).centroid[1],\n",
    "                \"spatialReference\": {\n",
    "                    \"wkid\": 102006\n",
    "                }\n",
    "            }\n",
    "        }\n",
    "    \n",
    "    # create a unique id\n",
    "    # ts = int(round(time.time() * 1000)) this isn't precise enough, gets duplicated in loop\n",
    "    ts = str(uuid.uuid4())\n",
    "    #print('id : {0}'.format(ts))\n",
    "    \n",
    "    # insert values into our map action schema\n",
    "    ma = {\n",
    "        \"id\":\"MJ-ACTION-{0}\".format(ts),\n",
    "        \"type\": \"media\",\n",
    "        \"media\": {\n",
    "            \"type\":\"webmap\",\n",
    "            \"webmap\": {\n",
    "                \"id\":forWebmap.id,\n",
    "                \"extent\": {\n",
    "                    \"xmin\": ext.xmin,\n",
    "                    \"ymin\": ext.ymin,\n",
    "                    \"xmax\": ext.xmax,\n",
    "                    \"ymax\": ext.ymax,\n",
    "                    \"spatialReference\":{\n",
    "                        \"wkid\": 102006 ## Updated 9/4 EZH\n",
    "                    }\n",
    "                },\n",
    "                \"layers\": None,\n",
    "                \"popup\": popup_def,\n",
    "                \"overview\":{\n",
    "                    \"enable\": False,\n",
    "                    \"openByDefault\": False\n",
    "                },\n",
    "                \"legend\": {\n",
    "                    \"enable\": False,\n",
    "                    \"openByDefault\": False\n",
    "                },\n",
    "                \"geocoder\":{\n",
    "                    \"enable\": False\n",
    "                },\n",
    "                \"altText\": \"\"\n",
    "            }\n",
    "        }\n",
    "    }\n",
    "    \n",
    "    # create the html string\n",
    "    content_anchor = '<a data-storymaps=\"{0}\" data-storymaps-type=\"media\">{1}</a>'.format(ma['id'], lbl_frmtd)\n",
    "    \n",
    "    # hand back our results to whoever called this function\n",
    "    return {\"content_link\": content_anchor, \"map_action\": ma}"
   ]
  },
  {
   "cell_type": "code",
   "execution_count": 22,
   "metadata": {},
   "outputs": [
    {
     "name": "stdout",
     "output_type": "stream",
     "text": [
      "ANCSA popup object ID updated to object ID 274\n"
     ]
    },
    {
     "data": {
      "text/plain": [
       "True"
      ]
     },
     "execution_count": 22,
     "metadata": {},
     "output_type": "execute_result"
    }
   ],
   "source": [
    "### ANCSA PANEL ###\n",
    "\n",
    "plats_lyr = FeatureLayer('http://maps.commerce.alaska.gov/arcgis/rest/services/ANCSA/ANCSA_14c_Plats/MapServer/0')\n",
    "ANCSA_fts = plats_lyr.query(where=\"COMMUNITY_NAME = '\" + str(community) + \"'\", out_fields=\"*\")\n",
    "if str(ANCSA_fts.features) == '[]':\n",
    "    print(\"This is community is not included in the ANCSA 14(c)(3) plat inventory.\")\n",
    "    panel_ANCSA[\"media\"][\"webmap\"][\"popup\"] = 'null'\n",
    "else:\n",
    "    point_ft = Geometry(ANCSA_fts.features[0].geometry)\n",
    "    project = Point({\"x\":point_ft.x, \"y\": point_ft.y, \"spatialReference\": {\"wkid\":102006}}).project_as(102100)\n",
    "    ANCSA_oid = ANCSA_fts.df.OBJECTID[0]\n",
    "    panel_ANCSA[\"media\"][\"webmap\"][\"popup\"][\"fieldValue\"] = int(ANCSA_oid)\n",
    "    print(\"ANCSA popup object ID updated to object ID \" + str(ANCSA_oid))\n",
    "    panel_ANCSA[\"media\"][\"webmap\"][\"popup\"][\"anchorPoint\"][\"x\"] = project.x\n",
    "    panel_ANCSA[\"media\"][\"webmap\"][\"popup\"][\"anchorPoint\"][\"y\"] = project.y\n",
    "\n",
    "clonedStorymap.save()\n"
   ]
  },
  {
   "cell_type": "code",
   "execution_count": null,
   "metadata": {},
   "outputs": [],
   "source": []
  },
  {
   "cell_type": "code",
   "execution_count": 23,
   "metadata": {},
   "outputs": [
    {
     "name": "stdout",
     "output_type": "stream",
     "text": [
      "ANCSA map action added to panel.\n"
     ]
    }
   ],
   "source": [
    "### ANCSA PANEL ###\n",
    "apprx_rgn = ANCSA_rgn[:9]\n",
    "ANCSA_corp = FeatureLayer(wm_instory.layers[12].url).query(where=\"NAT_CORP LIKE '%\" + str(apprx_rgn) + \"%'\", out_fields=\"*\")\n",
    "ANCSA = ANCSA_corp.features[0]\n",
    "\n",
    "ANCSA_ma = getPolyMapAction(ANCSA, webmap, lyrNdx=12, label_field=\"NAT_CORP\", label_prefix=\" \", add_popup=False)\n",
    "panel_ANCSA[\"contentActions\"].append(ANCSA_ma[\"map_action\"])\n",
    "panel_ANCSA[\"content\"] = '<style type=\"text/css\">.dcra-blue {\\n     display: inline-block;\\n     background-color: #005e95;\\n     border-color: #005e95 !important;\\n     color: #fff !important;\\n     padding: 0px 4px;\\n     border-radius: 0px;\\n}\\n</style>\\n<p><a class=\"dcra-blue\" data-storymaps=\"MJ-ACTION-1524783785796\" data-storymaps-type=\"navigate\">Back to Table of Contents</a></p>\\n\\n<p>&nbsp;</p><p>&nbsp;</p><div><p> ANCSA Regional Corporation: ' + ANCSA_ma['content_link'] + '</p></div><p>&nbsp;</p><p>More information about ANCSA 14(c)3 Land Conveyances can be found <a href=\"http://dcced.maps.arcgis.com/apps/webappviewer/index.html?id=24427049328b40cdab001cae38883d7a\" target=\"_blank\">here.</a>&nbsp;</p>\\n'\n",
    "clonedStorymap.save()\n",
    "print(\"ANCSA map action added to panel.\")"
   ]
  },
  {
   "cell_type": "code",
   "execution_count": 24,
   "metadata": {},
   "outputs": [
    {
     "data": {
      "text/html": [
       "<div>\n",
       "<style scoped>\n",
       "    .dataframe tbody tr th:only-of-type {\n",
       "        vertical-align: middle;\n",
       "    }\n",
       "\n",
       "    .dataframe tbody tr th {\n",
       "        vertical-align: top;\n",
       "    }\n",
       "\n",
       "    .dataframe thead th {\n",
       "        text-align: right;\n",
       "    }\n",
       "</style>\n",
       "<table border=\"1\" class=\"dataframe\">\n",
       "  <thead>\n",
       "    <tr style=\"text-align: right;\">\n",
       "      <th></th>\n",
       "      <th>Address</th>\n",
       "      <th>City</th>\n",
       "      <th>Email</th>\n",
       "      <th>EntityName</th>\n",
       "      <th>Fax</th>\n",
       "      <th>OBJECTID</th>\n",
       "      <th>Phone</th>\n",
       "      <th>Website</th>\n",
       "      <th>Zip</th>\n",
       "      <th>SHAPE</th>\n",
       "    </tr>\n",
       "  </thead>\n",
       "  <tbody>\n",
       "    <tr>\n",
       "      <th>0</th>\n",
       "      <td>PO Box 281</td>\n",
       "      <td>Nome</td>\n",
       "      <td>bhammond@nomealaska.org</td>\n",
       "      <td>City of Nome</td>\n",
       "      <td>9074435345</td>\n",
       "      <td>94</td>\n",
       "      <td>9074436663</td>\n",
       "      <td>http://www.nomealaska.org/</td>\n",
       "      <td>99762</td>\n",
       "      <td>{'x': -18413196.6569, 'y': 9477390.954800002, ...</td>\n",
       "    </tr>\n",
       "  </tbody>\n",
       "</table>\n",
       "</div>"
      ],
      "text/plain": [
       "      Address  City                    Email    EntityName         Fax  \\\n",
       "0  PO Box 281  Nome  bhammond@nomealaska.org  City of Nome  9074435345   \n",
       "\n",
       "   OBJECTID       Phone                     Website    Zip  \\\n",
       "0        94  9074436663  http://www.nomealaska.org/  99762   \n",
       "\n",
       "                                               SHAPE  \n",
       "0  {'x': -18413196.6569, 'y': 9477390.954800002, ...  "
      ]
     },
     "execution_count": 24,
     "metadata": {},
     "output_type": "execute_result"
    }
   ],
   "source": [
    "###CONTACTS PANEL###\n",
    "#Find Municipality Contact Information\n",
    "contacts_lyr = gis.content.get(\"e8b073f033b74bebbaa365e6dc6b6713\")\n",
    "contacts_lyr\n",
    "contact_info = contacts_lyr.layers[0].query(where=\"City = '\" + str(community) + \"'\",out_fields='EntityName,Address,City,Zip,Phone,Fax,Website,Email')\n",
    "contact_info.df\n"
   ]
  },
  {
   "cell_type": "code",
   "execution_count": 25,
   "metadata": {},
   "outputs": [
    {
     "name": "stdout",
     "output_type": "stream",
     "text": [
      "PO Box 281 Nome 99762 907-443-6663 907-443-5345 http://www.nomealaska.org/ bhammond@nomealaska.org\n",
      "PO Box 281 Nome 99762 907-443-6663 907-443-5345 http://www.nomealaska.org/ bhammond@nomealaska.org\n"
     ]
    }
   ],
   "source": [
    "###CONTACTS PANEL###\n",
    "#Write municipality info to table\n",
    "output = str(contact_info.df)\n",
    "if output == 'Empty DataFrame\\nColumns: []\\nIndex: []':\n",
    "    print(str(community) + ' is not a municipality. No municipal contact info will be written to panel.')\n",
    "    panel_contacts[\"content\"] = '<style type=\"text/css\">.dcra-blue {\\n     display: inline-block;\\n     background-color: #005e95;\\n     border-color: #005e95 !important;\\n     color: #fff !important;\\n     padding: 0px 4px;\\n     border-radius: 0px;\\n}\\n</style>\\n<p><a class=\"dcra-blue\" data-storymaps=\"MJ-ACTION-1524783785796\" data-storymaps-type=\"navigate\">Back to Table of Contents</a></p>\\n\\n<p>&nbsp;</p>\\n\\n<p>To find all community contacts and to download mailing labels visit the <a href=\"http://dcced.maps.arcgis.com/apps/webappviewer/index.html?id=148ae1328f9549acb46cfa80366ed37e/data\" target=\"_blank\">Contacts Directory</a>.&nbsp;</p>\\n'\n",
    "else: \n",
    "    def muni_c_lst(info):\n",
    "        muni_contact = []\n",
    "        address = info.df.Address[0]\n",
    "        city = info.df.City[0]\n",
    "        zipcode = info.df.Zip[0]\n",
    "        phone1 = info.df.Phone[0]\n",
    "        phone = str(phone1[0:3] + '-' + phone1[3:6] + '-' + phone1[6:11])\n",
    "        fax1 = info.df.Fax[0]\n",
    "        fax = str(fax1[0:3] + '-' + fax1[3:6] + '-' + fax1[6:11])\n",
    "        website = info.df.Website[0]\n",
    "        email = info.df.Email[0]\n",
    "        print(address, city, zipcode, phone, fax, website, email)\n",
    "        muni_contact.append(\"<p style='text-align:left'><u><b>Municipality Contact Information:</b></u></p>\")\n",
    "        muni_contact.append(\"<p style='text-align:center'><b>\" + str(info.df.EntityName[0]) + '</b></p>')\n",
    "        muni_contact.append(\"<p style='text-align:center'>\" + str(address) + \", \" + str(city) + \", AK\" + \" \" + str(zipcode) + '<p>&nbsp;</p>\\n\\n')\n",
    "        muni_contact.append(\"<p style='text-align:center'>Phone Number: \" + str(phone) + '</p>')\n",
    "        muni_contact.append(\"<p style='text-align:center'>Fax Number: \" + str(fax) + '</p><p>&nbsp;</p>\\n\\n')\n",
    "        muni_contact.append(\"<p style='text-align:center'>Website: \" + str(website) + '</p>')\n",
    "        muni_contact.append(\"<p style='text-align:center'>\" + str(email) + '</p><p>&nbsp;</p>\\n\\n')\n",
    "        return(' '.join(muni_contact))\n",
    "\n",
    "    muni_c_lst(contact_info)\n",
    "    panel_contacts[\"content\"] = '<style type=\"text/css\">.dcra-blue {\\n     display: inline-block;\\n     background-color: #005e95;\\n     border-color: #005e95 !important;\\n     color: #fff !important;\\n     padding: 0px 4px;\\n     border-radius: 0px;\\n}\\n</style>\\n<p><a class=\"dcra-blue\" data-storymaps=\"MJ-ACTION-1524783785796\" data-storymaps-type=\"navigate\">Back to Table of Contents</a></p>\\n\\n<p>&nbsp;</p>\\n\\n<div>'+ str(muni_c_lst(contact_info)) + '</div>\\n\\n<p>&nbsp;</p>\\n\\n<p>To find all community contacts and to download mailing labels visit the <a href=\"http://dcced.maps.arcgis.com/apps/webappviewer/index.html?id=148ae1328f9549acb46cfa80366ed37e/data\" target=\"_blank\">Contacts Directory</a>.&nbsp;</p>\\n'\n",
    "    clonedStorymap.save()"
   ]
  },
  {
   "cell_type": "code",
   "execution_count": 26,
   "metadata": {},
   "outputs": [
    {
     "name": "stdout",
     "output_type": "stream",
     "text": [
      "Native Village of Council PO Box 2050 Nome 99762 (907) 443-7649 (907) 443-5965 http://www.kawerak.org tc.cou@kawerak.org\n",
      "PO Box 281 Nome 99762 907-443-6663 907-443-5345 http://www.nomealaska.org/ bhammond@nomealaska.org\n"
     ]
    }
   ],
   "source": [
    "### CONTACTS PANEL ####\n",
    "\n",
    "tribe_lyr = gis.content.get(\"c37a47a8196f409aa6cdcf2a2df097bc\")\n",
    "tribe_contact_info = tribe_lyr.layers[0].query(where=\"City = '\" + str(community) + \"'\", out_fields='EntityName, Address, City, Zip, Phone, Fax, Website, Email')\n",
    "tribe_output = str(tribe_contact_info.df)\n",
    "if tribe_output ==  'Empty DataFrame\\nColumns: []\\nIndex: []':\n",
    "    print(str(community) + ' is not served by a federally recognized tribe. No FRT data will be written to panel.')\n",
    "else:\n",
    "    def tribe_info(info):\n",
    "        tribe_contact = []\n",
    "        tribe = info.df.EntityName[0]\n",
    "        tribe_address = info.df.Address[0]\n",
    "        tribe_city = info.df.City[0]\n",
    "        tribe_zip = info.df.Zip[0]\n",
    "        tribe_phone = info.df.Phone[0]\n",
    "        tribe_fax = info.df.Fax[0]\n",
    "        tribe_web = info.df.Website[0]\n",
    "        tribe_email = info.df.Email[0]\n",
    "        print(tribe, tribe_address, tribe_city, tribe_zip, tribe_phone, tribe_fax, tribe_web, tribe_email)\n",
    "        tribe_contact.append(\"<p style='text-align:left'><u><b>Federally Recognized Tribe Contact Information:</b></u></p>\")\n",
    "        tribe_contact.append(\"<p style='text-align:center'><b>\" + str(info.df.EntityName[0]) + '</b></p>')\n",
    "        tribe_contact.append(\"<p style='text-align:center'>\" + str(tribe_address) + \", \" + str(tribe_city) + \", AK\" + \" \" + str(tribe_zip) + '<p>&nbsp;</p>\\n\\n')\n",
    "        tribe_contact.append(\"<p style='text-align:center'>Phone Number: \" + str(tribe_phone) + '</p>')\n",
    "        tribe_contact.append(\"<p style='text-align:center'>Fax Number: \" + str(tribe_fax) + '</p><p>&nbsp;</p>\\n\\n')\n",
    "        tribe_contact.append(\"<p style='text-align:center'>Website: \" + str(tribe_web) + '</p>')\n",
    "        tribe_contact.append(\"<p style='text-align:center'>\" + str(tribe_email) + '</p><p>&nbsp;</p>\\n\\n')\n",
    "        return(' '.join(tribe_contact))\n",
    "    embed_tribe = tribe_info(tribe_contact_info)\n",
    "    panel_contacts[\"content\"] = '<style type=\"text/css\">.dcra-blue {\\n     display: inline-block;\\n     background-color: #005e95;\\n     border-color: #005e95 !important;\\n     color: #fff !important;\\n     padding: 0px 4px;\\n     border-radius: 0px;\\n}\\n</style>\\n<p><a class=\"dcra-blue\" data-storymaps=\"MJ-ACTION-1524783785796\" data-storymaps-type=\"navigate\">Back to Table of Contents</a></p>\\n\\n<p>&nbsp;</p>\\n\\n<div>'+ str(muni_c_lst(contact_info)) + '</div>\\n\\n<p>&nbsp;</p>\\n\\n<div>' + str(embed_tribe) + '</div><p>To find all community contacts and to download mailing labels visit the <a href=\"http://dcced.maps.arcgis.com/apps/webappviewer/index.html?id=148ae1328f9549acb46cfa80366ed37e/data\" target=\"_blank\">Contacts Directory</a>.&nbsp;</p>\\n'\n",
    "    clonedStorymap.save()"
   ]
  },
  {
   "cell_type": "code",
   "execution_count": 27,
   "metadata": {},
   "outputs": [
    {
     "name": "stdout",
     "output_type": "stream",
     "text": [
      "Sitnasuak Native Corporation P.O. Box 905 Nome 99762 9073871200 9074433063 http://www.snc.org None\n",
      "PO Box 281 Nome 99762 907-443-6663 907-443-5345 http://www.nomealaska.org/ bhammond@nomealaska.org\n"
     ]
    }
   ],
   "source": [
    "### CONTACTS PANEL ###\n",
    "\n",
    "corp_lyr = gis.content.get(\"2c5868dcf56e4631a155c1a8985c9e26\")\n",
    "corp_contact_info = corp_lyr.layers[0].query(where=\"CommunityName = '\" + str(community) +\"'\", out_fields = 'EntityName, Address, City, State, Zip, Phone, Fax, Website, Email')\n",
    "corp_output = str(corp_contact_info.df)\n",
    "if corp_output ==  'Empty DataFrame\\nColumns: []\\nIndex: []':\n",
    "    print(str(community) + ' is not served by a federally recognized tribe. No Village Regional Corporation data will be written to panel.')\n",
    "else:\n",
    "    def corp_info(info):\n",
    "        corp_contact = []\n",
    "        corp = info.df.EntityName[0]\n",
    "        corp_address = info.df.Address[0]\n",
    "        corp_city = info.df.City[0]\n",
    "        corp_zip = info.df.Zip[0]\n",
    "        corp_phone = info.df.Phone[0]\n",
    "        corp_fax = info.df.Fax[0]\n",
    "        corp_web = info.df.Website[0]\n",
    "        corp_email = info.df.Email[0]\n",
    "        print(corp, corp_address, corp_city, corp_zip, corp_phone, corp_fax, corp_web, corp_email)\n",
    "        corp_contact.append(\"<p style='text-align:left'><u><b>Native Village Corporation Contact Information:</b></u></p>\")\n",
    "        corp_contact.append(\"<p style='text-align:center'><b>\" + str(info.df.EntityName[0]) + '</b></p>')\n",
    "        corp_contact.append(\"<p style='text-align:center'>\" + str(corp_address) + \", \" + str(corp_city) + \", AK\" + \" \" + str(corp_zip) + '<p>&nbsp;</p>\\n\\n')\n",
    "        corp_contact.append(\"<p style='text-align:center'>Phone Number: \" + str(corp_phone) + '</p>')\n",
    "        corp_contact.append(\"<p style='text-align:center'>Fax Number: \" + str(corp_fax) + '</p><p>&nbsp;</p>\\n\\n')\n",
    "        corp_contact.append(\"<p style='text-align:center'>Website: \" + str(corp_web) + '</p>')\n",
    "        corp_contact.append(\"<p style='text-align:center'>Email: \" + str(corp_email) + '</p><p>&nbsp;</p>\\n\\n')\n",
    "        return(' '.join(corp_contact))\n",
    "    embed_corp = corp_info(corp_contact_info)\n",
    "    panel_contacts[\"content\"] = '<style type=\"text/css\">.dcra-blue {\\n     display: inline-block;\\n     background-color: #005e95;\\n     border-color: #005e95 !important;\\n     color: #fff !important;\\n     padding: 0px 4px;\\n     border-radius: 0px;\\n}\\n</style>\\n<p><a class=\"dcra-blue\" data-storymaps=\"MJ-ACTION-1524783785796\" data-storymaps-type=\"navigate\">Back to Table of Contents</a></p>\\n\\n<p>&nbsp;</p>\\n\\n<div>'+ str(muni_c_lst(contact_info)) + '</div>\\n\\n<p>&nbsp;</p>\\n\\n<div>' + str(embed_tribe) + '</div><p>\\n\\n<p>&nbsp;</p>\\n\\n<div>' + str(embed_corp) + '</div><p>\\n\\n<p>&nbsp;</p>To find all community contacts and to download mailing labels visit the <a href=\"http://dcced.maps.arcgis.com/apps/webappviewer/index.html?id=148ae1328f9549acb46cfa80366ed37e/data\" target=\"_blank\">Contacts Directory</a>.&nbsp;</p>\\n'\n",
    "    clonedStorymap.save()"
   ]
  },
  {
   "cell_type": "code",
   "execution_count": null,
   "metadata": {},
   "outputs": [],
   "source": []
  }
 ],
 "metadata": {
  "kernelspec": {
   "display_name": "Python 3",
   "language": "python",
   "name": "python3"
  },
  "language_info": {
   "codemirror_mode": {
    "name": "ipython",
    "version": 3
   },
   "file_extension": ".py",
   "mimetype": "text/x-python",
   "name": "python",
   "nbconvert_exporter": "python",
   "pygments_lexer": "ipython3",
   "version": "3.6.5"
  }
 },
 "nbformat": 4,
 "nbformat_minor": 2
}
