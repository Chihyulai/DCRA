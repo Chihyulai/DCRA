{
 "cells": [
  {
   "cell_type": "code",
   "execution_count": 187,
   "metadata": {},
   "outputs": [
    {
     "name": "stdout",
     "output_type": "stream",
     "text": [
      "········\n"
     ]
    }
   ],
   "source": [
    "import arcgis\n",
    "from arcgis.gis import GIS\n",
    "from arcgis.apps import storymap\n",
    "from getpass import getpass\n",
    "from arcgis.features import FeatureLayer\n",
    "from arcgis.features import FeatureLayerCollection\n",
    "import pandas as pd\n",
    "import matplotlib.pyplot as plot\n",
    "from matplotlib.pyplot import figure\n",
    "import matplotlib.image as img\n",
    "import numpy as np\n",
    "\n",
    "# Create a connection to your portal for publishing (enter your ArcGIS Online \n",
    "#  password in the textbox that appears, then hit 'Enter' on your keyboard)\n",
    "gis = GIS(\"https://www.arcgis.com\", \"ezhatcher\", getpass())"
   ]
  },
  {
   "cell_type": "code",
   "execution_count": 188,
   "metadata": {},
   "outputs": [],
   "source": [
    "#Define the base template storymap using the item ID -- Hoonah Alaska\n",
    "seedappItem = gis.content.get(\"2a51cb9cc9d54b57a52c67d8efdb5eba\") #\"2a51cb9cc9d54b57a52c67d8efdb5eba\""
   ]
  },
  {
   "cell_type": "code",
   "execution_count": 189,
   "metadata": {},
   "outputs": [],
   "source": [
    "#Clone the storymap\n",
    "contentManager = arcgis.gis.ContentManager(gis)\n",
    "clones = contentManager.clone_items(items=[seedappItem],search_existing_items=False)\n",
    "clones\n",
    "clonedStorymap = storymap.JournalStoryMap(clones[0])"
   ]
  },
  {
   "cell_type": "code",
   "execution_count": 190,
   "metadata": {},
   "outputs": [],
   "source": [
    "#arcgis.geometry for polygon extents"
   ]
  },
  {
   "cell_type": "code",
   "execution_count": 191,
   "metadata": {},
   "outputs": [],
   "source": [
    "#Use the base feature class that has the listing of communities for which a storymap will be created-- currently, it's the \n",
    "#boundaries feature service, which also defines the map extent as the user scrolls through the panels\n",
    "community_base = gis.content.get(\"8499c3bc4ff141588f5c9ab1db99b0fb\")\n",
    "find_comm = community_base.layers[0].query(where=\"CommunityName IS NOT NULL\",out_fields=\"CommunityName\").df.CommunityName\n",
    "community_lst = []\n",
    "for c in find_comm:\n",
    "    community_lst.append(c)"
   ]
  },
  {
   "cell_type": "code",
   "execution_count": 192,
   "metadata": {},
   "outputs": [],
   "source": [
    "#Save the storymap clone using the new community name and information\n",
    "community = 'Allakaket'\n",
    "clonedStorymap.save(title=str(community) +\" Storymap Test\", description=\"Test cloning script result\", tags=\"Test,Storymap\")\n",
    "sections = clonedStorymap.properties[\"values\"][\"story\"][\"sections\"]"
   ]
  },
  {
   "cell_type": "code",
   "execution_count": 193,
   "metadata": {},
   "outputs": [],
   "source": [
    "#Define the function to access a field within a layer\n",
    "def access_lyr(content,out_fld):\n",
    "    base = content.layers\n",
    "    lyr = base[0]\n",
    "    topic_data = lyr.query(where=\"CommunityName = '\" + str(community) + \"'\",out_fields=out_fld)\n",
    "    return topic_data.df"
   ]
  },
  {
   "cell_type": "code",
   "execution_count": 194,
   "metadata": {
    "scrolled": true
   },
   "outputs": [
    {
     "name": "stdout",
     "output_type": "stream",
     "text": [
      "Picture found for Allakaket at https://dcced.maps.arcgis.com/sharing/rest/content/items/80bb4ec0c7274de980fab95240346ee4/data\n"
     ]
    }
   ],
   "source": [
    "#Access the URL for the main photo from the Photo Link feature class\n",
    "photo_base = gis.content.get(\"6d9d437bbe2d48bfa87b4d9fca41f80d\")\n",
    "find_photo = access_lyr(photo_base,'PhotoLink')\n",
    "photo_url = find_photo\n",
    "main_pic = photo_url.PhotoLink[0]\n",
    "if str(main_pic) == 'None':\n",
    "    print('There is no picture for ' + str(community))\n",
    "else:\n",
    "    print('Picture found for ' + str(community) + ' at ' + str(main_pic))"
   ]
  },
  {
   "cell_type": "code",
   "execution_count": 195,
   "metadata": {},
   "outputs": [
    {
     "data": {
      "text/plain": [
       "True"
      ]
     },
     "execution_count": 195,
     "metadata": {},
     "output_type": "execute_result"
    }
   ],
   "source": [
    "#Identify/define the storymap panels\n",
    "panel_toc = sections[0]\n",
    "panel_ch = sections[1]\n",
    "panel_demog = sections[2]\n",
    "panel_transport = sections[3]\n",
    "panel_edu = sections[4]\n",
    "panel_econ = sections[5]\n",
    "panel_util = sections[6]\n",
    "panel_ANCSA = sections[7]\n",
    "panel_contacts = sections[8]\n",
    "\n",
    "panel_list = []\n",
    "panel_list.append(panel_demog)\n",
    "panel_list.append(panel_transport)\n",
    "panel_list.append(panel_edu)\n",
    "panel_list.append(panel_econ)\n",
    "#panel_list.append(panel_util) #problem with bounding box...\n",
    "#panel_list.append(panel_ANCSA) #problem with bounding box... \n",
    "panel_list.append(panel_contacts)\n",
    "\n",
    "\n",
    "#Modify the main title and photo in the main Table of Contents panel\n",
    "panel_toc[\"title\"] = '<span style=\"font-size:40px\">' + str(community) + ', Alaska</span>'\n",
    "if str(main_pic) == 'None':\n",
    "    panel_toc[\"media\"][\"image\"][\"url\"] = \"http://dcced.maps.arcgis.com/sharing/rest/content/items/34bf2ca84faa4b258712ed7a5422d0d5/data\"\n",
    "else:\n",
    "    panel_toc[\"media\"][\"image\"][\"url\"] = main_pic\n",
    "clonedStorymap.save()"
   ]
  },
  {
   "cell_type": "code",
   "execution_count": 196,
   "metadata": {
    "scrolled": true
   },
   "outputs": [],
   "source": [
    "#Access the webmap and clone the webmap/update map filters\n",
    "current_webmap = gis.content.get(\"bdbb441b8b5d4ef2bc1a519c44e49c6b\")\n",
    "wm = arcgis.mapping.WebMap(webmapitem=current_webmap)\n",
    "wm_properties = {'title':'OpenData_Storymap_' + str(community),'snippet':'Test webmap clone','tags':['dcra','test']}\n",
    "wm.save(wm_properties,folder='Storymap Webmaps') \n",
    "#Find the new webmap and rename it\n",
    "new_map_search = gis.content.search('OpenData_Storymap_' + str(community), item_type=\"Web Map\")\n",
    "webmap = new_map_search[0]\n",
    "new_webmap = webmap.id\n",
    "#Define the webmap item to access and filter layers\n",
    "upd_webmap = gis.content.get(new_webmap)\n",
    "wm_instory = arcgis.mapping.WebMap(webmapitem=upd_webmap)\n"
   ]
  },
  {
   "cell_type": "code",
   "execution_count": 197,
   "metadata": {},
   "outputs": [
    {
     "data": {
      "text/plain": [
       "True"
      ]
     },
     "execution_count": 197,
     "metadata": {},
     "output_type": "execute_result"
    }
   ],
   "source": [
    "#UPDATE WEBMAP LAYER FILTERS\n",
    "#Taxes\n",
    "wm_instory.layers[0][\"layerDefinition\"][\"definitionExpression\"] = \"(CommunityName = '\" + str(community) +\"') AND (RevenueYear = 2016)\"\n",
    "\n",
    "#Employment and Wages\n",
    "wm_instory.layers[1][\"layerDefinition\"][\"definitionExpression\"] = \"CommunityName = '\" + str(community) + \"'\"\n",
    "\n",
    "#Income and Poverty\n",
    "wm_instory.layers[2][\"layerDefinition\"][\"definitionExpression\"] = \"CommunityName = '\" + str(community) + \"'\"\n",
    "\n",
    "#Municipality Contacts\n",
    "wm_instory.layers[3][\"layerDefinition\"][\"definitionExpression\"] = \"CommunityName = '\" + str(community) + \"'\"\n",
    "\n",
    "#School Enrollment\n",
    "wm_instory.layers[4][\"layerDefinition\"][\"definitionExpression\"] = \"CommunityName = '\" + str(community) + \"'\"\n",
    "\n",
    "#DCCED Certified Population\n",
    "wm_instory.layers[5][\"layerDefinition\"][\"definitionExpression\"] = \"CommunityName = '\" + str(community) + \"'\"\n",
    "\n",
    "#Ferries\n",
    "wm_instory.layers[6][\"layerDefinition\"][\"definitionExpression\"] = \"CommunityName = '\" + str(community) + \"'\"\n",
    "\n",
    "#Culture and History\n",
    "wm_instory.layers[7][\"layerDefinition\"][\"definitionExpression\"] = \"CommunityName = '\" + str(community) + \"'\"\n",
    "\n",
    "#Boro_REAAs\n",
    "#wm_instory.layers[8]\n",
    "\n",
    "#Alaska Airports\n",
    "wm_instory.layers[9][\"layerDefinition\"][\"definitionExpression\"] = \"CommunityName = '\" + str(community) + \"'\"\n",
    "\n",
    "#Federally Recognized Tribes Contacts\n",
    "wm_instory.layers[10][\"layers\"][0][\"layerDefinition\"][\"definitionExpression\"] = \"CommunityName = '\" + str(community) + \"'\"\n",
    "\n",
    "#ANCSA Status\n",
    "wm_instory.layers[11][\"layers\"][0][\"layerDefinition\"][\"definitionExpression\"] = \"CommunityName = '\" + str(community) + \"'\"\n",
    "\n",
    "#Census Population Group Layers\n",
    "wm_instory.layers[12][\"layers\"][0][\"layerDefinition\"][\"definitionExpression\"] = \"CommunityName = '\" + str(community) + \"'\"\n",
    "\n",
    "#Alaska Schools\n",
    "wm_instory.layers[13][\"layers\"][0][\"layerDefinition\"][\"definitionExpression\"] = \"CommunityName = '\" + str(community) + \"'\"\n",
    "\n",
    "#Alaska School Districts\n",
    "#wm_instory.layers[14]\n",
    "\n",
    "#Alaska Road System\n",
    "#wm_instory.layers[15]\n",
    "\n",
    "#Transportation Airport Hub Role\n",
    "#wm_instory.layers[16][\"layers\"][0][\"layerDefinition\"][\"definitionExpression\"] = \"CommunityName = '\" + str(community) + \"'\"\n",
    "\n",
    "wm_instory.update()\n",
    "\n",
    "#Set up filters in the web map to fit the community (Set this kind of thing up once layers are finalized)\n",
    "#def_expr = \"CommunityName = '\" + str(community) + \"'\"\n",
    "#def_expr2 = \"City = '\" + str(community) + \"'\"\n",
    "#conv2_lyrs = [9, 10, 12]\n",
    "#for i in range(7):\n",
    "#    wm_lyrs = wm.layers[i]\n",
    "#    wm_lyrs[\"layerDefinition\"][\"definitionExpression\"] = def_expr\n",
    "#wm.layers[8]['layerDefinition']['definitionExpression'] = def_expr2\n",
    "#for n in conv2_lyrs:\n",
    "#    wm_lyrs = wm.layers[n]\n",
    "#    wm_lyrs[\"layers\"][0][\"layerDefinition\"][\"definitionExpression\"] = def_expr\n",
    "#wm.update()\n"
   ]
  },
  {
   "cell_type": "code",
   "execution_count": 198,
   "metadata": {},
   "outputs": [],
   "source": [
    "#Set up zoom scale (x max and min, y max and min) for map actions\n",
    "try:\n",
    "    bound_expr = \"CommunityName LIKE '%\" + str(community) + \"%'\"\n",
    "    bounds_ft = gis.content.get(\"8499c3bc4ff141588f5c9ab1db99b0fb\").layers[0]\n",
    "    x_min = bounds_ft.query(where=bound_expr,out_fields='EXT_MIN_X').df.EXT_MIN_X[0]\n",
    "    x_max = bounds_ft.query(where=bound_expr,out_fields='EXT_MAX_X').df.EXT_MAX_X[0]\n",
    "    y_min = bounds_ft.query(where=bound_expr,out_fields='EXT_MIN_Y').df.EXT_MIN_Y[0]\n",
    "    y_max = bounds_ft.query(where=bound_expr,out_fields='EXT_MAX_Y').df.EXT_MAX_Y[0]\n",
    "except Exception as e:\n",
    "    print(\"Exception: \" + str(e))\n",
    "\n",
    "#Function to define the primary zoom scale of each panel based on the minimum bounding envelope feature service\n",
    "# item id = \"8499c3bc4ff141588f5c9ab1db99b0fb\" using previously defined zoom scale\n",
    "def main_extent(p):\n",
    "    p[\"media\"][\"webmap\"][\"id\"] = new_webmap\n",
    "    ext1 = p[\"media\"][\"webmap\"][\"extent\"]\n",
    "    ext1[\"xmin\"] = x_min\n",
    "    ext1[\"xmax\"] = x_max\n",
    "    ext1[\"ymin\"] = y_min\n",
    "    ext1[\"ymax\"] = y_max\n",
    "    clonedStorymap.save()"
   ]
  },
  {
   "cell_type": "code",
   "execution_count": 199,
   "metadata": {},
   "outputs": [],
   "source": [
    "#Update all of the panel webmaps using the new webmap ID\n",
    "for p in panel_list:\n",
    "    main_extent(p)"
   ]
  },
  {
   "cell_type": "code",
   "execution_count": 200,
   "metadata": {},
   "outputs": [],
   "source": [
    "#Adjust community point y-offset (main overview map in Culture History panel)\n",
    "#wm_instory.layers[5][\"layerDefinition\"][\"drawingInfo\"][\"renderer\"][\"symbol\"][\"yoffset\"] = 16"
   ]
  },
  {
   "cell_type": "code",
   "execution_count": 201,
   "metadata": {},
   "outputs": [],
   "source": [
    "#Access the culture and history from the culture/history feature class (IF THE PANEL ORDER CHANGES, MAKE SURE INDEX STILL APPLIES)\n",
    "panel_ch[\"media\"][\"webmap\"][\"id\"] = new_webmap\n",
    "ch_ft = gis.content.get(\"3f99cf21a0da42c4bf8b15632e958df9\")\n",
    "culture_lookup = access_lyr(ch_ft,'CommunityCulture')\n",
    "culture = culture_lookup.CommunityCulture[0]\n",
    "history_lookup = access_lyr(ch_ft,'CommunityHistory')\n",
    "history = history_lookup.CommunityHistory[0]"
   ]
  },
  {
   "cell_type": "code",
   "execution_count": 202,
   "metadata": {},
   "outputs": [
    {
     "data": {
      "text/plain": [
       "True"
      ]
     },
     "execution_count": 202,
     "metadata": {},
     "output_type": "execute_result"
    }
   ],
   "source": [
    "#Populate the panel with the new culture history info\n",
    "panel_ch[\"content\"] = '<style type=\"text/css\">.dcra-blue {\\n     display: inline-block;\\n     background-color: #005e95;\\n     border-color: #005e95 !important;\\n     color: #fff !important;\\n     padding: 0px 4px;\\n     border-radius: 0px;\\n}\\n</style>\\n<p><a class=\"dcra-blue\" data-storymaps=\"MJ-ACTION-1524783785796\" data-storymaps-type=\"navigate\">Back to Table of Contents</a></p>\\n\\n<p>&nbsp;<p>'+ history + '&nbsp;</p>\\n\\n<p>\\n\\n<p>&nbsp;<p>'+ culture + '&nbsp;</p>\\n'\n",
    "panel_ch[\"media\"][\"webmap\"][\"altText\"] = 'Map showing the location of ' + str(community) + ', Alaska in the context of the state and borough/REAA boundaries.'\n",
    "clonedStorymap.save()"
   ]
  },
  {
   "cell_type": "code",
   "execution_count": 203,
   "metadata": {},
   "outputs": [
    {
     "data": {
      "text/plain": [
       "True"
      ]
     },
     "execution_count": 203,
     "metadata": {},
     "output_type": "execute_result"
    }
   ],
   "source": [
    "#Demographics Panel Updates\n",
    "#Update the zoom extent for the demographics panel map action (tied to 'Historic Census' button)\n",
    "panel_demog[\"contentActions\"][1][\"media\"][\"webmap\"][\"id\"] = new_webmap\n",
    "panel_demog[\"media\"][\"webmap\"][\"id\"] = new_webmap\n",
    "census_lyr = gis.content.get(\"920dba8f13844c69a7589f7aaaadbcf4\")\n",
    "census_lyr.layers[0]\n",
    "census_data = census_lyr.layers[0].query(where=\"CommunityName = '\" + str(community) + \"'\",out_fields=('Census1880,Census1890,Census1900,Census1910,Census1920,Census1930,Census1940,Census1950,Census1960,Census1970,Census1980,Census1990,Census2000,Census2010'))\n",
    "point_geom = census_data.df.SHAPE\n",
    "point_x = point_geom[0][\"x\"]\n",
    "point_y = point_geom[0][\"y\"]\n",
    "\n",
    "panel_demog[\"media\"][\"webmap\"][\"altText\"] = 'Map showing aerial imagery of ' + str(community) + ', Alaska and a pop-up box displaying current and historic DCCED certified population counts from 2011 to present.'\n",
    "\n",
    "clonedStorymap.save()"
   ]
  },
  {
   "cell_type": "code",
   "execution_count": 204,
   "metadata": {},
   "outputs": [
    {
     "data": {
      "text/plain": [
       "True"
      ]
     },
     "execution_count": 204,
     "metadata": {},
     "output_type": "execute_result"
    }
   ],
   "source": [
    "###DEMOGRAPHICS PANEL###\n",
    "#Update popup extents\n",
    "panel_demog[\"media\"][\"webmap\"][\"popup\"][\"fieldName\"] = 'CommunityName'\n",
    "panel_demog[\"media\"][\"webmap\"][\"popup\"][\"fieldValue\"] = str(community)\n",
    "panel_demog[\"media\"][\"webmap\"][\"popup\"][\"anchorPoint\"][\"x\"] = point_x\n",
    "panel_demog[\"media\"][\"webmap\"][\"popup\"][\"anchorPoint\"][\"y\"] = point_y\n",
    "\n",
    "#Update the main demographics panel popup\n",
    "demog_histpopup = panel_demog[\"contentActions\"][1][\"media\"][\"webmap\"][\"popup\"]\n",
    "demog_histext = panel_demog[\"contentActions\"][1][\"media\"][\"webmap\"][\"extent\"]\n",
    "\n",
    "#Update historic census map action extent\n",
    "demog_histext[\"xmin\"] = x_min\n",
    "demog_histext[\"xmax\"] = x_max\n",
    "demog_histext[\"ymin\"] = y_min\n",
    "demog_histext[\"ymax\"] = y_max\n",
    "\n",
    "#Update historic census popup data and extent\n",
    "demog_histpopup[\"fieldName\"] = 'CommunityName'\n",
    "demog_histpopup[\"fieldValue\"] = str(community)\n",
    "demog_histpopup[\"x\"] = point_x\n",
    "demog_histpopup[\"y\"] = point_y\n",
    "demog_histpopup[\"anchorPoint\"][\"x\"] = point_x\n",
    "demog_histpopup[\"anchorPoint\"][\"y\"] = point_y\n",
    "clonedStorymap.save()"
   ]
  },
  {
   "cell_type": "code",
   "execution_count": 243,
   "metadata": {},
   "outputs": [
    {
     "data": {
      "image/png": "[encoded data removed]",
      "text/plain": [
       "<Figure size 432x288 with 1 Axes>"
      ]
     },
     "metadata": {},
     "output_type": "display_data"
    },
    {
     "name": "stdout",
     "output_type": "stream",
     "text": [
      "b'iVBORw0KGgoAAAANSUhEUgAAAbAAAAEgCAYAAADVKCZpAAAABHNCSVQICAgIfAhkiAAAAAlwSFlz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\\n'\n"
     ]
    },
    {
     "data": {
      "text/plain": [
       "True"
      ]
     },
     "execution_count": 243,
     "metadata": {},
     "output_type": "execute_result"
    }
   ],
   "source": [
    "###DEMOGRAPHICS PANEL###\n",
    "#Historical census plot for demographics panel\n",
    "import base64\n",
    "census_base = gis.content.get(\"3902789711f744f3b7f9cbd51dee6021\")\n",
    "pop_df = access_lyr(census_base,'CensusPopulation, CensusYear')\n",
    "y = pop_df.CensusPopulation\n",
    "x = pop_df.CensusYear\n",
    "\n",
    "fig = plot.figure()\n",
    "ax = plot.subplot(111)\n",
    "ax.plot(x, y, marker='.', label='Population Size 1880-Present')\n",
    "plot.xticks(rotation = 45)\n",
    "plot.title(str(community) + ' Historical Census Population Counts')\n",
    "plot.show()\n",
    "image = (str(community) + '_censusplot.png')\n",
    "fig.savefig(image)\n",
    "open_image = open(image, 'rb')\n",
    "image_read = open_image.read()\n",
    "image_64_encode = base64.encodebytes(image_read)\n",
    "print(str(image_64_encode))\n",
    "embed_plt = \"<div><img style='display:block;width:400px;height:325px;' src='data:<MIMETYPE>;base64,<BASE64_ENCODED_IMAGE><img src='data:image/png;base64,\" + str(image_64_encode) + \"'></div>\"\n",
    "# encode as base64 string to embed it\n",
    "\n",
    "panel_demog[\"content\"] = '<style type=\"text/css\">.dcra-blue {\\n     display: inline-block;\\n background-color: #005e95;\\n     border-color: #005e95 !important;\\n     color: #fff !important;\\n     padding: 0px 4px;\\n     border-radius: 0px;\\n}\\n</style>\\n<p><a class=\"dcra-blue\" data-storymaps=\"MJ-ACTION-1524783883308\" data-storymaps-type=\"navigate\">Back to Table of Contents</a></p>\\n\\n<p>&nbsp;</p>\\n\\n<p>Every June the Commissioner of the Department of Commerce Community Economic Development certifies community population figures. The most recent figures are displayed here.&nbsp;</p>\\n\\n<p>&nbsp;</p>\\n\\n<p><a class=\"btn-orange\" data-storymaps=\"MJ-ACTION-1532625427902\" data-storymaps-type=\"media\" xmlns=\"http://www.w3.org/1999/xhtml\">Historical Census</a>&nbsp;population for the community also provide a century\\'s worth of change in this community.&nbsp;</p>\\n\\n<p> ' + str(embed_plt) +'&nbsp;</p>\\n\\n<p>More information about demographics can be found <a href=\"http://DCCED.maps.arcgis.com/apps/webappviewer/index.html?id=577407acfbc6433389006d099cb25971\" target=\"_blank\">here.&nbsp;</a></p>\\n'\n",
    "\n",
    "clonedStorymap.save()"
   ]
  },
  {
   "cell_type": "code",
   "execution_count": 225,
   "metadata": {},
   "outputs": [
    {
     "name": "stdout",
     "output_type": "stream",
     "text": [
      "There are no public use airports in Allakaket\n"
     ]
    },
    {
     "data": {
      "text/plain": [
       "True"
      ]
     },
     "execution_count": 225,
     "metadata": {},
     "output_type": "execute_result"
    }
   ],
   "source": [
    "###TRANSPORTATION PANEL###\n",
    "#Update panel text using transportation overview feature class (item id = \"2076ce8b6744430880e1c8ab923cd720\")\n",
    "find_text = gis.content.get(\"2076ce8b6744430880e1c8ab923cd720\")\n",
    "access_text = find_text.layers[0].query(where=\"CommunityName = '\" + str(community) + \"'\",out_fields='Description').df\n",
    "\n",
    "#Create airport listing table in panel\n",
    "hub_role_base = gis.content.get(\"d373c8a5ff0c43cf9cb505c63e0c5f4d\")\n",
    "arpt_data = access_lyr(hub_role_base,'EntityName')\n",
    "#arpt_tbl = arpt_data.to_html(columns=[\"EntityName\", \"Hub\", \"Role\", \"AirportCode_1\"]).replace('EntityName', 'Airport')\n",
    "#tbl2 = arpt_tbl.replace('AirportCode_1', \"Airport Code\")\n",
    "#tbl_FINAL = tbl2.replace('<th>','<th bgcolor=\"5C96CA\">')\n",
    "if str(arpt_data == 'Empty DataFrame\\nColumns: []\\nIndex: []'):\n",
    "    print(\"There are no public use airports in \" + str(community))\n",
    "    panel_transport[\"content\"] = '<style type=\"text/css\">.dcra-blue {\\n     display: inline-block;\\n     background-color: #005e95;\\n     border-color: #005e95 !important;\\n     color: #fff !important;\\n     padding: 3px 8px;\\n     border-radius: 5px;\\n}\\n</style>\\n<style type=\"text/css\">.btn-orange {\\n    display: inline-block;\\n    background-color: #f0ad4e;\\n    border-color: #f0ad4e !important;\\n    color: #fff !important;\\n    padding: 0px 2px;\\n    border-radius: 12px;\\n}\\n</style>\\n<p><a class=\"dcra-blue\" data-storymaps=\"MJ-ACTION-1524784108786\" data-storymaps-type=\"navigate\">Back to Table of Contents</a></p>\\n\\n<p>&nbsp;</p>\\n\\n<p>' + access_text.Description[0] + '</p>\\n\\n<p>&nbsp;</p>\\n\\n<p>&nbsp;</p>\\n\\n<p>&nbsp;</p>\\n\\n<p>More detailed information about Transportation in Alaska can be found <a href=\"http://DCCED.maps.arcgis.com/apps/webappviewer/index.html?id=3de3ebccbb6b4ba8a9c64609e96199ba\" target=\"_blank\"><strong>here</strong></a>.&nbsp;</p>\\n'\n",
    "else:\n",
    "    def airport_lst(airports):\n",
    "        arpt_listing = [\"<table border = '1'><tr><th width='50%'>Airport</th><th width='15%'>Hub</th><th width='15%'>Role</th><th width='20%'>Airport Code</th></tr><tbody>\"]\n",
    "        for a in airports:\n",
    "            airport_data = hub_role_base.layers[0].query(where=\"EntityName = '\" + str(a) + \"'\",out_fields='EntityName, Hub, Role, AirportCode_1')\n",
    "            airport = airport_data.df.EntityName[0]\n",
    "            hub_item = airport_data.df.Hub[0]\n",
    "            role_item = airport_data.df.Role[0]\n",
    "            arpt_code = airport_data.df.AirportCode_1[0]\n",
    "            arpt_listing.append(\"<tr><td>\" + a + \"</td><td> \" + str(hub_item) + \"</td><td> \" + str(role_item) + \"</td><td>\" + str(arpt_code) + \"</td><td>\")\n",
    "        arpt_listing.append(\"</tbody></table>\")\n",
    "        return(' '.join(arpt_listing))\n",
    "    airport_lst(airports)\n",
    "    panel_transport[\"content\"] = '<style type=\"text/css\">.dcra-blue {\\n     display: inline-block;\\n     background-color: #005e95;\\n     border-color: #005e95 !important;\\n     color: #fff !important;\\n     padding: 3px 8px;\\n     border-radius: 5px;\\n}\\n</style>\\n<style type=\"text/css\">.btn-orange {\\n    display: inline-block;\\n    background-color: #f0ad4e;\\n    border-color: #f0ad4e !important;\\n    color: #fff !important;\\n    padding: 0px 2px;\\n    border-radius: 12px;\\n}\\n</style>\\n<p><a class=\"dcra-blue\" data-storymaps=\"MJ-ACTION-1524784108786\" data-storymaps-type=\"navigate\">Back to Table of Contents</a></p>\\n\\n<p>&nbsp;</p>\\n\\n<p>' + access_text.Description[0] + '</p>\\n\\n<p>&nbsp;</p><p>Click on the icons in the map to see specific information about each airport or ferry terminal.</p>\\n\\n<p>&nbsp;</p>\\n\\n<p>' + str(airport_lst(airports)) + '</p><p>&nbsp;</p>\\n\\n<p>More detailed information about Transportation in Alaska can be found <a href=\"http://DCCED.maps.arcgis.com/apps/webappviewer/index.html?id=3de3ebccbb6b4ba8a9c64609e96199ba\" target=\"_blank\"><strong>here</strong></a>.&nbsp;</p>\\n'\n",
    "clonedStorymap.save()"
   ]
  },
  {
   "cell_type": "code",
   "execution_count": 208,
   "metadata": {},
   "outputs": [
    {
     "name": "stdout",
     "output_type": "stream",
     "text": [
      "Allakaket School 3rd Street Complex Allakaket 99720\n"
     ]
    }
   ],
   "source": [
    "###EDUCATION PANEL###\n",
    "#Popups if we can iteratively create map actions per school in each community...\n",
    "#panel_edu[\"contentActions\"][1][\"media\"][\"webmap\"][\"id\"] = new_webmap\n",
    "#popup_ext = panel_edu[\"contentActions\"][1][\"media\"][\"webmap\"][\"extent\"]\n",
    "#popup_ext[\"xmin\"] = x_min\n",
    "#popup_ext[\"xmax\"] = x_max\n",
    "#popup_ext[\"ymin\"] = y_min\n",
    "#popup_ext[\"ymax\"] = y_max\n",
    "#clonedStorymap.save()\n",
    "\n",
    "#CUSTOM POPUP\n",
    "ak_schools = gis.content.get(\"1f8928a4bae646ef884be3b6a0b8bae8\")\n",
    "community_sch_lst = access_lyr(ak_schools,'EntityName,PhysicalAddress,PhysicalCity,PhysicalZip')\n",
    "output = str(ak_schools.layers[0].query(where=\"CommunityName = '\" + str(community) + \"'\",out_fields = \"EntityName\").df)\n",
    "if output == 'Empty DataFrame\\nColumns: []\\nIndex: []':\n",
    "    print(\"There are no schools in \" + str(community))\n",
    "    panel_edu[\"content\"] = '<p>&nbsp;</p>\\n\\n<p>\\n<style type=\"text/css\">.blue {\\n     display: inline-block;\\n     background-color: #3182bd;\\n     border-color: #3182bd !important;\\n     color: #fff !important;\\n     padding: 1px 3px;\\n     border-radius: 12px;\\n</style>\\n<style type=\"text/css\">.dcra-blue {\\n     display: inline-block;\\n     background-color: #005e95;\\n     border-color: #005e95 !important;\\n     color: #fff !important;\\n     padding: 3px 8px;\\n     border-radius: 5px;\\n</style>\\n</p>\\n<p><a class=\"dcra-blue\" data-storymaps=\"MJ-ACTION-1524785467480\" data-storymaps-type=\"navigate\">Back to Table of Contents</a><br>\\n<style type=\"text/css\">\\n</style>\\n</p>\\n\\n<p>&nbsp;</p>\\n\\n<p>There are no schools open in' + str(community) + '</p><p>&nbsp;</p>\\n\\n<p>For more information about Alaska schools and education, click <a href=\"http://DCCED.maps.arcgis.com/apps/webappviewer/index.html?id=cff461c2397d4c66ae2c28dbfb62319f\" target=\"_blank\">here</a>.</p>\\n'\n",
    "else:\n",
    "    schools = community_sch_lst.EntityName\n",
    "    def school_lst(entities):\n",
    "        school_list = [\"<table border = '1'><tr><th width='45%'>School</th><th width='45%'>Address</th><th width='10%'>Zip Code</th></tr><tbody>\"]\n",
    "        for e in entities:\n",
    "            school_data = ak_schools.layers[0].query(where=\"EntityName = '\" + str(e) + \"'\",out_fields='EntityName,PhysicalAddress,PhysicalCity,PhysicalZip')\n",
    "            address = school_data.df.PhysicalAddress[0]\n",
    "            city = school_data.df.PhysicalCity[0]\n",
    "            zipcode = school_data.df.PhysicalZip[0]\n",
    "            print(e, address, city, zipcode)\n",
    "            school_list.append(\"<tr><td>\" + str(e) + \"</td><td>\" + str(address) + \"</td><td>\" + str(zipcode) + '</td></tr>')\n",
    "        school_list.append(\"</tbody></table>\")\n",
    "        return(' '.join(school_list))\n",
    "\n",
    "    school_tbl = school_lst(schools)\n",
    "\n",
    "    ###EDUCATION PANEL###\n",
    "    #Update panel schools listing\n",
    "    sch_ref = panel_edu[\"contentActions\"][1][\"media\"][\"webmap\"][\"popup\"][\"layerId\"]\n",
    "    find_sch_lyr = gis.content.search(\"Alaska PK-12\", item_type = \"Map Service\")\n",
    "    schools = find_sch_lyr[0].layers[0].query(where=\"CommunityName = '\" + str(community) + \"'\",out_fields='EntityName')\n",
    "    school_dist = find_sch_lyr[0].layers[0].query(where=\"EntityName = '\" + str(schools.df.EntityName[0]) + \"'\", out_fields='SchoolDistrict').df.SchoolDistrict[0]\n",
    "\n",
    "    panel_edu[\"content\"] = '<p>\\n<style type=\"text/css\">.blue {\\n     display: inline-block;\\n     background-color: #3182bd;\\n     border-color: #3182bd !important;\\n     color: #fff !important;\\n     padding: 1px 3px;\\n     border-radius: 12px;\\n</style>\\n<style type=\"text/css\">.dcra-blue {\\n     display: inline-block;\\n     background-color: #005e95;\\n     border-color: #005e95 !important;\\n     color: #fff !important;\\n     padding: 3px 8px;\\n     border-radius: 5px;\\n</style>\\n</p>\\n \\n<p><a class=\"dcra-blue\" data-storymaps=\"MJ-ACTION-1524785467480\" data-storymaps-type=\"navigate\">Back to Table of Contents</a><br>\\n<style type=\"text/css\">\\n</style>\\n</p>\\n\\n<p>&nbsp;</p>\\n\\n<p>&nbsp;</p>\\n\\n<p>&nbsp;</p>\\n\\n<p>' + str(community) + ' schools are part of ' + str(school_dist) + '. </p>\\n\\n<ul>\\n\\t <p>&nbsp;</p>\\n\\n <p><div style=\"text-align: center,\">' + str(school_tbl) + '</p></div><p>&nbsp;</p>\\n\\n<p>Click each school in the map to see enrollment information from 2012 to present.</p><p>&nbsp;\\n\\n</p><p>For more information about Alaska schools and education, click <a href=\"http://DCCED.maps.arcgis.com/apps/webappviewer/index.html?id=cff461c2397d4c66ae2c28dbfb62319f\" target=\"_blank\">here</a>.</p>\\n'\n",
    "\n",
    "    clonedStorymap.save()\n",
    "    "
   ]
  },
  {
   "cell_type": "code",
   "execution_count": 209,
   "metadata": {},
   "outputs": [
    {
     "data": {
      "text/html": [
       "<div>\n",
       "<style scoped>\n",
       "    .dataframe tbody tr th:only-of-type {\n",
       "        vertical-align: middle;\n",
       "    }\n",
       "\n",
       "    .dataframe tbody tr th {\n",
       "        vertical-align: top;\n",
       "    }\n",
       "\n",
       "    .dataframe thead th {\n",
       "        text-align: right;\n",
       "    }\n",
       "</style>\n",
       "<table border=\"1\" class=\"dataframe\">\n",
       "  <thead>\n",
       "    <tr style=\"text-align: right;\">\n",
       "      <th></th>\n",
       "      <th>EntityName</th>\n",
       "      <th>OBJECTID</th>\n",
       "      <th>PhysicalAddress</th>\n",
       "      <th>PhysicalCity</th>\n",
       "      <th>PhysicalZip</th>\n",
       "      <th>SHAPE</th>\n",
       "    </tr>\n",
       "  </thead>\n",
       "  <tbody>\n",
       "    <tr>\n",
       "      <th>0</th>\n",
       "      <td>Allakaket School</td>\n",
       "      <td>412</td>\n",
       "      <td>3rd Street Complex</td>\n",
       "      <td>Allakaket</td>\n",
       "      <td>99720</td>\n",
       "      <td>{'x': -16992305.2163, 'y': 10032738.481299996,...</td>\n",
       "    </tr>\n",
       "  </tbody>\n",
       "</table>\n",
       "</div>"
      ],
      "text/plain": [
       "         EntityName  OBJECTID     PhysicalAddress PhysicalCity PhysicalZip  \\\n",
       "0  Allakaket School       412  3rd Street Complex    Allakaket       99720   \n",
       "\n",
       "                                               SHAPE  \n",
       "0  {'x': -16992305.2163, 'y': 10032738.481299996,...  "
      ]
     },
     "execution_count": 209,
     "metadata": {},
     "output_type": "execute_result"
    }
   ],
   "source": [
    "ak_schools = gis.content.get(\"1f8928a4bae646ef884be3b6a0b8bae8\")\n",
    "community_sch_lst = access_lyr(ak_schools,'EntityName,PhysicalAddress,PhysicalCity,PhysicalZip')\n",
    "schools = community_sch_lst.EntityName\n",
    "community_sch_lst"
   ]
  },
  {
   "cell_type": "code",
   "execution_count": 210,
   "metadata": {},
   "outputs": [],
   "source": [
    "panel_edu[\"contentActions\"][1][\"media\"][\"webmap\"][\"id\"] = new_webmap"
   ]
  },
  {
   "cell_type": "code",
   "execution_count": 211,
   "metadata": {},
   "outputs": [
    {
     "data": {
      "text/html": [
       "<div>\n",
       "<style scoped>\n",
       "    .dataframe tbody tr th:only-of-type {\n",
       "        vertical-align: middle;\n",
       "    }\n",
       "\n",
       "    .dataframe tbody tr th {\n",
       "        vertical-align: top;\n",
       "    }\n",
       "\n",
       "    .dataframe thead th {\n",
       "        text-align: right;\n",
       "    }\n",
       "</style>\n",
       "<table border=\"1\" class=\"dataframe\">\n",
       "  <thead>\n",
       "    <tr style=\"text-align: right;\">\n",
       "      <th></th>\n",
       "      <th>Address</th>\n",
       "      <th>City</th>\n",
       "      <th>Email</th>\n",
       "      <th>EntityName</th>\n",
       "      <th>Fax</th>\n",
       "      <th>OBJECTID</th>\n",
       "      <th>Phone</th>\n",
       "      <th>Website</th>\n",
       "      <th>Zip</th>\n",
       "      <th>SHAPE</th>\n",
       "    </tr>\n",
       "  </thead>\n",
       "  <tbody>\n",
       "    <tr>\n",
       "      <th>0</th>\n",
       "      <td>PO Box 30</td>\n",
       "      <td>Allakaket</td>\n",
       "      <td>aet99720@gmail.com</td>\n",
       "      <td>City of Allakaket</td>\n",
       "      <td>9079682241</td>\n",
       "      <td>13</td>\n",
       "      <td>9079682424</td>\n",
       "      <td>None</td>\n",
       "      <td>99720</td>\n",
       "      <td>{'x': -152.64948048199997, 'y': 66.56004842400...</td>\n",
       "    </tr>\n",
       "  </tbody>\n",
       "</table>\n",
       "</div>"
      ],
      "text/plain": [
       "     Address       City               Email         EntityName         Fax  \\\n",
       "0  PO Box 30  Allakaket  aet99720@gmail.com  City of Allakaket  9079682241   \n",
       "\n",
       "   OBJECTID       Phone Website    Zip  \\\n",
       "0        13  9079682424    None  99720   \n",
       "\n",
       "                                               SHAPE  \n",
       "0  {'x': -152.64948048199997, 'y': 66.56004842400...  "
      ]
     },
     "execution_count": 211,
     "metadata": {},
     "output_type": "execute_result"
    }
   ],
   "source": [
    "###CONTACTS PANEL###\n",
    "#Find Municipality Contact Information\n",
    "contacts_fl_id = gis.content.search(query=\"title:Municipality Contacts\", item_type=\"Feature Layer\")[0].id\n",
    "contacts_lyr = gis.content.get(contacts_fl_id)\n",
    "contact_info = contacts_lyr.layers[0].query(where=\"EntityName LIKE '%\" + str(community) + \"%'\",out_fields='EntityName,Address,City,Zip,Phone,Fax,Website,Email')\n",
    "contact_info.df\n"
   ]
  },
  {
   "cell_type": "code",
   "execution_count": 212,
   "metadata": {},
   "outputs": [
    {
     "name": "stdout",
     "output_type": "stream",
     "text": [
      "PO Box 30 Allakaket 99720 907-968-2424 907-968-2241 None aet99720@gmail.com\n",
      "PO Box 30 Allakaket 99720 907-968-2424 907-968-2241 None aet99720@gmail.com\n"
     ]
    }
   ],
   "source": [
    "###CONTACTS PANEL###\n",
    "#Write municipality info to table\n",
    "output = str(contact_info.df)\n",
    "if output == 'Empty DataFrame\\nColumns: []\\nIndex: []':\n",
    "    print(str(community) + ' is not a municipality. No municipal contact info will be written to panel.')\n",
    "    panel_contacts[\"content\"] = '<style type=\"text/css\">.dcra-blue {\\n     display: inline-block;\\n     background-color: #005e95;\\n     border-color: #005e95 !important;\\n     color: #fff !important;\\n     padding: 0px 4px;\\n     border-radius: 0px;\\n}\\n</style>\\n<p><a class=\"dcra-blue\" data-storymaps=\"MJ-ACTION-1524783785796\" data-storymaps-type=\"navigate\">Back to Table of Contents</a></p>\\n\\n<p>&nbsp;</p>\\n\\n<p>To find all community contacts and to download mailing labels visit the <a href=\"http://dcced.maps.arcgis.com/apps/webappviewer/index.html?id=148ae1328f9549acb46cfa80366ed37e/data\" target=\"_blank\">Contacts Directory</a>.&nbsp;</p>\\n'\n",
    "else: \n",
    "    def muni_c_lst(info):\n",
    "        muni_contact = []\n",
    "        address = info.df.Address[0]\n",
    "        city = info.df.City[0]\n",
    "        zipcode = info.df.Zip[0]\n",
    "        phone1 = info.df.Phone[0]\n",
    "        phone = str(phone1[0:3] + '-' + phone1[3:6] + '-' + phone1[6:11])\n",
    "        fax1 = info.df.Fax[0]\n",
    "        fax = str(fax1[0:3] + '-' + fax1[3:6] + '-' + fax1[6:11])\n",
    "        website = info.df.Website[0]\n",
    "        email = info.df.Email[0]\n",
    "        print(address, city, zipcode, phone, fax, website, email)\n",
    "        muni_contact.append(\"<p style='text-align:center'><b>\" + str(info.df.EntityName[0]) + '</b></p>')\n",
    "        muni_contact.append(\"<p style='text-align:center'>\" + str(address) + \", \" + str(city) + \", AK\" + \" \" + str(zipcode) + '<p>&nbsp;</p>\\n\\n')\n",
    "        muni_contact.append(\"<p style='text-align:center'>Phone Number: \" + str(phone) + '</p>')\n",
    "        muni_contact.append(\"<p style='text-align:center'>Fax Number: \" + str(fax) + '</p><p>&nbsp;</p>\\n\\n')\n",
    "        muni_contact.append(\"<p style='text-align:center'>Website: \" + str(website) + '</p>')\n",
    "        muni_contact.append(\"<p style='text-align:center'>\" + str(email) + '</p><p>&nbsp;</p>\\n\\n')\n",
    "        return(' '.join(muni_contact))\n",
    "\n",
    "    muni_c_lst(contact_info)\n",
    "    \n",
    "    panel_contacts[\"content\"] = '<style type=\"text/css\">.dcra-blue {\\n     display: inline-block;\\n     background-color: #005e95;\\n     border-color: #005e95 !important;\\n     color: #fff !important;\\n     padding: 0px 4px;\\n     border-radius: 0px;\\n}\\n</style>\\n<p><a class=\"dcra-blue\" data-storymaps=\"MJ-ACTION-1524783785796\" data-storymaps-type=\"navigate\">Back to Table of Contents</a></p>\\n\\n<p>&nbsp;</p>\\n\\n<div> '+ str(muni_c_lst(contact_info)) + '<p>To find all community contacts and to download mailing labels visit the <a href=\"http://dcced.maps.arcgis.com/apps/webappviewer/index.html?id=148ae1328f9549acb46cfa80366ed37e/data\" target=\"_blank\">Contacts Directory</a>.&nbsp;</p>\\n'\n",
    "    clonedStorymap.save()"
   ]
  },
  {
   "cell_type": "code",
   "execution_count": 213,
   "metadata": {},
   "outputs": [
    {
     "data": {
      "text/plain": [
       "{'title': '<span style=\"font-size:26px\">Demographics</span>',\n",
       " 'content': '<style type=\"text/css\">.dcra-blue {\\n     display: inline-block;\\n background-color: #005e95;\\n     border-color: #005e95 !important;\\n     color: #fff !important;\\n     padding: 0px 4px;\\n     border-radius: 0px;\\n}\\n</style>\\n<p><a class=\"dcra-blue\" data-storymaps=\"MJ-ACTION-1524783883308\" data-storymaps-type=\"navigate\">Back to Table of Contents</a></p>\\n\\n<p>&nbsp;</p>\\n\\n<p>Every June the Commissioner of the Department of Commerce Community Economic Development certifies community population figures. The most recent figures are displayed here.&nbsp;</p>\\n\\n<p>&nbsp;</p>\\n\\n<p><a class=\"btn-orange\" data-storymaps=\"MJ-ACTION-1532625427902\" data-storymaps-type=\"media\" xmlns=\"http://www.w3.org/1999/xhtml\">Historical Census</a>&nbsp;population for the community also provide a century\\'s worth of change in this community.&nbsp;</p>\\n\\n<p> <figure><img src=Allakaket_censusplot.png width=\\'300\\' height=\\'225\\'></figure>&nbsp;</p>\\n\\n<p>More information about demographics can be found <a href=\"http://DCCED.maps.arcgis.com/apps/webappviewer/index.html?id=577407acfbc6433389006d099cb25971\" target=\"_blank\">here.&nbsp;</a></p>\\n',\n",
       " 'contentActions': [{'id': 'MJ-ACTION-1524783883308',\n",
       "   'type': 'navigate',\n",
       "   'index': 0},\n",
       "  {'id': 'MJ-ACTION-1532625427902',\n",
       "   'type': 'media',\n",
       "   'media': {'type': 'webmap',\n",
       "    'webmap': {'id': 'f76ef2e9db12409cbc25adb4ce642daf',\n",
       "     'extent': {'xmin': -17001605.290142,\n",
       "      'ymin': 10021113.4302232,\n",
       "      'xmax': -16981302.5644298,\n",
       "      'ymax': 10038079.3939307,\n",
       "      'spatialReference': {'wkid': 102100}},\n",
       "     'layers': [{'id': 'CDO_Transportation_Roads_7584', 'visibility': False},\n",
       "      {'id': 'Alaska_School_Districts_7120', 'visibility': False},\n",
       "      {'id': 'ANCSA_Status_4468', 'visibility': False},\n",
       "      {'id': 'CDO_Contacts_Federally_Recognized_Tribes_3312',\n",
       "       'visibility': False},\n",
       "      {'id': 'Transportation_Airports_3035', 'visibility': False},\n",
       "      {'id': 'Boro_REAAs_4826', 'visibility': False},\n",
       "      {'id': 'General_CultureHistory_3094', 'visibility': False},\n",
       "      {'id': 'Transportation_Ferries_360', 'visibility': False},\n",
       "      {'id': 'Population_DCCED_View_821', 'visibility': False},\n",
       "      {'id': 'School_Enrollment_View_6882', 'visibility': False},\n",
       "      {'id': 'Contacts_Municipality_2178', 'visibility': False},\n",
       "      {'id': 'Economics_IncomePoverty_3930', 'visibility': False},\n",
       "      {'id': 'Economics_Employment_Wages_4882', 'visibility': False},\n",
       "      {'id': 'Economics_Taxes_768', 'visibility': False}],\n",
       "     'popup': {'layerId': 'Population_Census_CityCDPBorough_5921_0',\n",
       "      'fieldName': 'CommunityName',\n",
       "      'fieldValue': 'Allakaket',\n",
       "      'anchorPoint': {'x': 60175.66731538984,\n",
       "       'y': 1845345.7161511765,\n",
       "       'spatialReference': {'wkid': 102100}},\n",
       "      'x': 60175.66731538984,\n",
       "      'y': 1845345.7161511765},\n",
       "     'overview': {'enable': False, 'openByDefault': True},\n",
       "     'legend': {'enable': False, 'openByDefault': False},\n",
       "     'geocoder': {'enable': False},\n",
       "     'altText': 'Bar graph of historical census population counts from 1880 to present.'}}}],\n",
       " 'creaDate': 1534975927301,\n",
       " 'pubDate': 1534975927301,\n",
       " 'status': 'PUBLISHED',\n",
       " 'media': {'type': 'webmap',\n",
       "  'webmap': {'id': 'f76ef2e9db12409cbc25adb4ce642daf',\n",
       "   'extent': {'xmin': -17001605.290142,\n",
       "    'ymin': 10021113.4302232,\n",
       "    'xmax': -16981302.5644298,\n",
       "    'ymax': 10038079.3939307,\n",
       "    'spatialReference': {'wkid': 102100}},\n",
       "   'layers': [{'id': 'CDO_Transportation_Roads_7584', 'visibility': False},\n",
       "    {'id': 'Alaska_School_Districts_7120', 'visibility': False},\n",
       "    {'id': 'Population_Census_CityCDPBorough_5921', 'visibility': False},\n",
       "    {'id': 'ANCSA_Status_4468', 'visibility': False},\n",
       "    {'id': 'CDO_Contacts_Federally_Recognized_Tribes_3312',\n",
       "     'visibility': False},\n",
       "    {'id': 'Transportation_Airports_3035', 'visibility': False},\n",
       "    {'id': 'Boro_REAAs_4826', 'visibility': False},\n",
       "    {'id': 'General_CultureHistory_3094', 'visibility': False},\n",
       "    {'id': 'Transportation_Ferries_360', 'visibility': False},\n",
       "    {'id': 'School_Enrollment_View_6882', 'visibility': False},\n",
       "    {'id': 'Contacts_Municipality_2178', 'visibility': False},\n",
       "    {'id': 'Economics_IncomePoverty_3930', 'visibility': False},\n",
       "    {'id': 'Economics_Employment_Wages_4882', 'visibility': False},\n",
       "    {'id': 'Economics_Taxes_768', 'visibility': False}],\n",
       "   'popup': {'layerId': 'Population_DCCED_View_821',\n",
       "    'fieldName': 'CommunityName',\n",
       "    'fieldValue': 'Allakaket',\n",
       "    'anchorPoint': {'x': 60175.66731538984,\n",
       "     'y': 1845345.7161511765,\n",
       "     'spatialReference': {'wkid': 102100}}},\n",
       "   'overview': {'enable': False, 'openByDefault': True},\n",
       "   'legend': {'enable': True, 'openByDefault': False},\n",
       "   'geocoder': {'enable': False},\n",
       "   'altText': 'Map showing aerial imagery of Allakaket, Alaska and a pop-up box displaying current and historic DCCED certified population counts from 2011 to present.'}}}"
      ]
     },
     "execution_count": 213,
     "metadata": {},
     "output_type": "execute_result"
    }
   ],
   "source": [
    "panel_demog"
   ]
  },
  {
   "cell_type": "code",
   "execution_count": null,
   "metadata": {},
   "outputs": [],
   "source": []
  }
 ],
 "metadata": {
  "kernelspec": {
   "display_name": "Python 3",
   "language": "python",
   "name": "python3"
  },
  "language_info": {
   "codemirror_mode": {
    "name": "ipython",
    "version": 3
   },
   "file_extension": ".py",
   "mimetype": "text/x-python",
   "name": "python",
   "nbconvert_exporter": "python",
   "pygments_lexer": "ipython3",
   "version": "3.6.5"
  }
 },
 "nbformat": 4,
 "nbformat_minor": 2
}
