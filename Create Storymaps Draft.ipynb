{
 "cells": [
  {
   "cell_type": "code",
   "execution_count": 435,
   "metadata": {},
   "outputs": [],
   "source": [
    "import arcgis\n",
    "from arcgis.apps import storymap\n",
    "from arcgis.features import FeatureLayerCollection"
   ]
  },
  {
   "cell_type": "code",
   "execution_count": 436,
   "metadata": {},
   "outputs": [
    {
     "name": "stdout",
     "output_type": "stream",
     "text": [
      "········\n"
     ]
    }
   ],
   "source": [
    "import arcgis\n",
    "from arcgis.gis import GIS\n",
    "from arcgis.apps import storymap\n",
    "from getpass import getpass\n",
    "from arcgis.features import FeatureLayer\n",
    "\n",
    "# Create a connection to your portal for publishing (enter your ArcGIS Online \n",
    "#  password in the textbox that appears, then hit 'Enter' on your keyboard)\n",
    "gis = GIS(\"https://www.arcgis.com\", \"ezhatcher\", getpass())"
   ]
  },
  {
   "cell_type": "code",
   "execution_count": 437,
   "metadata": {},
   "outputs": [],
   "source": [
    "seedappItem = gis.content.get(\"2a51cb9cc9d54b57a52c67d8efdb5eba\") #Hoonah Alaska Template App"
   ]
  },
  {
   "cell_type": "code",
   "execution_count": 438,
   "metadata": {},
   "outputs": [],
   "source": [
    "contentManager = arcgis.gis.ContentManager(gis)\n",
    "clones = contentManager.clone_items(items=[seedappItem],search_existing_items=False)\n",
    "clones\n",
    "clonedStorymap = storymap.JournalStoryMap(clones[0])"
   ]
  },
  {
   "cell_type": "code",
   "execution_count": 439,
   "metadata": {},
   "outputs": [],
   "source": [
    "community = 'Angoon'\n",
    "clonedStorymap.save(title=str(community) +\" Storymap Test\", description=\"Test cloning script result\", tags=\"Test,Storymap\")\n",
    "sections = clonedStorymap.properties[\"values\"][\"story\"][\"sections\"]"
   ]
  },
  {
   "cell_type": "code",
   "execution_count": 440,
   "metadata": {},
   "outputs": [],
   "source": [
    "def access_lyr(content,out_fld):\n",
    "    base = content.layers\n",
    "    lyr = base[0]\n",
    "    topic_data = lyr.query(where=\"CommunityName = '\" + str(community) + \"'\",out_fields=out_fld)\n",
    "    return topic_data"
   ]
  },
  {
   "cell_type": "code",
   "execution_count": 441,
   "metadata": {
    "scrolled": true
   },
   "outputs": [],
   "source": [
    "#Access the URL for the main photo from the Photo Link feature class\n",
    "photo_base = gis.content.get(\"6d9d437bbe2d48bfa87b4d9fca41f80d\")\n",
    "find_photo = access_lyr(photo_base,'PhotoLink')\n",
    "photo_url = find_photo.df\n",
    "main_pic = photo_url.PhotoLink[0]"
   ]
  },
  {
   "cell_type": "code",
   "execution_count": 442,
   "metadata": {},
   "outputs": [
    {
     "data": {
      "text/plain": [
       "True"
      ]
     },
     "execution_count": 442,
     "metadata": {},
     "output_type": "execute_result"
    }
   ],
   "source": [
    "#Identify the panels\n",
    "panel_toc = sections[0]\n",
    "panel_ch = sections[1]\n",
    "panel_demog = sections[2]\n",
    "panel_transport = sections[3]\n",
    "panel_edu = sections[4]\n",
    "panel_econ = sections[5]\n",
    "panel_util = sections[6]\n",
    "panel_ANCSA = sections[7]\n",
    "panel_contacts = sections[8]\n",
    "\n",
    "panel_list = [panel_ch, panel_demog, panel_transport, panel_edu, panel_econ, panel_util, panel_ANCSA, panel_contacts]\n",
    "\n",
    "\n",
    "#Modify the main title and photo in the main Table of Contents panel\n",
    "panel_toc[\"title\"] = '<span style=\"font-size:40px\">' + str(community) + ', Alaska</span>'\n",
    "panel_toc[\"media\"][\"image\"][\"url\"] = main_pic\n",
    "clonedStorymap.save()"
   ]
  },
  {
   "cell_type": "code",
   "execution_count": 443,
   "metadata": {},
   "outputs": [],
   "source": [
    "#Set up zoom scale (x max and min, y max and min) for map actions\n",
    "bound_expr = \"NAME = '\" + str(community) + \"'\"\n",
    "bounds_ft = gis.content.get(\"8499c3bc4ff141588f5c9ab1db99b0fb\").layers[0]\n",
    "x_min = bounds_ft.query(where=bound_expr,out_fields='EXT_MIN_X').df.EXT_MIN_X[0]\n",
    "x_max = bounds_ft.query(where=bound_expr,out_fields='EXT_MAX_X').df.EXT_MAX_X[0]\n",
    "y_min = bounds_ft.query(where=bound_expr,out_fields='EXT_MIN_Y').df.EXT_MIN_Y[0]\n",
    "y_max = bounds_ft.query(where=bound_expr,out_fields='EXT_MAX_Y').df.EXT_MAX_Y[0]\n",
    "\n",
    "#Function to define the primary zoom scale of each panel based on the minimum bounding envelope feature service\n",
    "# item id = \"8499c3bc4ff141588f5c9ab1db99b0fb\" using previously defined zoom scale\n",
    "def main_extent(p):\n",
    "    ext1 = p[\"media\"][\"webmap\"][\"extent\"]\n",
    "    ext1[\"xmin\"] = x_min\n",
    "    ext1[\"xmax\"] = x_max\n",
    "    ext1[\"ymin\"] = y_min\n",
    "    ext1[\"ymax\"] = y_max\n",
    "    clonedStorymap.save()"
   ]
  },
  {
   "cell_type": "code",
   "execution_count": 444,
   "metadata": {
    "scrolled": true
   },
   "outputs": [
    {
     "data": {
      "text/html": [
       "<div class=\"item_container\" style=\"height: auto; overflow: hidden; border: 1px solid #cfcfcf; border-radius: 2px; background: #f6fafa; line-height: 1.21429em; padding: 10px;\">\n",
       "                    <div class=\"item_left\" style=\"width: 210px; float: left;\">\n",
       "                       <a href='https://DCCED.maps.arcgis.com/home/item.html?id=e4a53a010003406b8073dee6c2e65c60' target='_blank'>\n",
       "                        <img src='http://static.arcgis.com/images/desktopapp.png' class=\"itemThumbnail\">\n",
       "                       </a>\n",
       "                    </div>\n",
       "\n",
       "                    <div class=\"item_right\"     style=\"float: none; width: auto; overflow: hidden;\">\n",
       "                        <a href='https://DCCED.maps.arcgis.com/home/item.html?id=e4a53a010003406b8073dee6c2e65c60' target='_blank'><b>OpenData_Storymap_Angoon</b>\n",
       "                        </a>\n",
       "                        <br/>Test webmap clone<img src='https://DCCED.maps.arcgis.com/home/js/jsapi/esri/css/images/item_type_icons/maps16.png' style=\"vertical-align:middle;\">Web Map by ezhatcher\n",
       "                        <br/>Last Modified: August 08, 2018\n",
       "                        <br/>0 comments, 0 views\n",
       "                    </div>\n",
       "                </div>\n",
       "                "
      ],
      "text/plain": [
       "<Item title:\"OpenData_Storymap_Angoon\" type:Web Map owner:ezhatcher>"
      ]
     },
     "execution_count": 444,
     "metadata": {},
     "output_type": "execute_result"
    }
   ],
   "source": [
    "#Use the demographics panel to access the webmap and clone the webmap/update map filters\n",
    "panel_demog = sections[2]\n",
    "current_webmap = gis.content.get(panel_demog[\"contentActions\"][1][\"media\"][\"webmap\"][\"id\"])\n",
    "wm = arcgis.mapping.WebMap(webmapitem=current_webmap)\n",
    "\n",
    "#Set up filters in the web map to fit the community (IF LAYERS ARE ADDED OR REMOVED, UPDATE THIS CELL)\n",
    "def_expr = \"CommunityName = '\" + str(community) + \"'\"\n",
    "def_expr2 = \"City = '\" + str(community) + \"'\"\n",
    "conv2_lyrs = [9, 10, 12]\n",
    "for i in range(7):\n",
    "    wm_lyrs = wm.layers[i]\n",
    "    wm_lyrs[\"layerDefinition\"][\"definitionExpression\"] = def_expr\n",
    "panel_wm.layers[8]['layerDefinition']['definitionExpression'] = def_expr2\n",
    "for n in conv2_lyrs:\n",
    "    wm_lyrs = wm.layers[n]\n",
    "    wm_lyrs[\"layers\"][0][\"layerDefinition\"][\"definitionExpression\"] = def_expr\n",
    "wm.update()\n",
    "\n",
    "wm_properties = {'title':'OpenData_Storymap_' + str(community),'snippet':'Test webmap clone','tags':['dcra','test']}\n",
    "wm.save(wm_properties,folder='Storymap Webmaps') "
   ]
  },
  {
   "cell_type": "code",
   "execution_count": 445,
   "metadata": {},
   "outputs": [],
   "source": [
    "#Change the webmap in the demographics panel\n",
    "new_map_search = gis.content.search('OpenData_Storymap_' + str(community), item_type=\"Web Map\")\n",
    "webmap = new_map_search[0]\n",
    "new_webmap = webmap.id\n",
    "#Define the webmap item to access and filter layers\n",
    "upd_webmap = gis.content.get(new_webmap)\n",
    "panel_wm = arcgis.mapping.WebMap(webmapitem=upd_webmap)"
   ]
  },
  {
   "cell_type": "code",
   "execution_count": 446,
   "metadata": {},
   "outputs": [
    {
     "data": {
      "text/plain": [
       "True"
      ]
     },
     "execution_count": 446,
     "metadata": {},
     "output_type": "execute_result"
    }
   ],
   "source": [
    "#Update all of the panel webmaps using the new webmap ID\n",
    "panel_demog[\"contentActions\"][1][\"media\"][\"webmap\"][\"id\"] = new_webmap\n",
    "clonedStorymap.save()"
   ]
  },
  {
   "cell_type": "code",
   "execution_count": 447,
   "metadata": {},
   "outputs": [
    {
     "data": {
      "text/plain": [
       "True"
      ]
     },
     "execution_count": 447,
     "metadata": {},
     "output_type": "execute_result"
    }
   ],
   "source": [
    "#Adjust community point y-offset (main overview map after the TOC panel)\n",
    "panel_wm.layers[6][\"layerDefinition\"][\"drawingInfo\"][\"renderer\"][\"symbol\"][\"yoffset\"] = 16\n",
    "panel_wm.update()"
   ]
  },
  {
   "cell_type": "code",
   "execution_count": 449,
   "metadata": {},
   "outputs": [],
   "source": [
    "#Access the culture and history from the culture/history feature class (IF THE PANEL ORDER CHANGES, MAKE SURE INDEX STILL APPLIES)\n",
    "panel_ch = sections[1]\n",
    "ch_ft = gis.content.get(\"3f99cf21a0da42c4bf8b15632e958df9\")\n",
    "culture_lookup = access_lyr(ch_ft,'CommunityCulture')\n",
    "culture = culture_lookup.df.CommunityCulture[0]\n",
    "history_lookup = access_lyr(ch_ft,'CommunityHistory')\n",
    "history = history_lookup.df.CommunityHistory[0]"
   ]
  },
  {
   "cell_type": "code",
   "execution_count": 450,
   "metadata": {},
   "outputs": [
    {
     "data": {
      "text/plain": [
       "True"
      ]
     },
     "execution_count": 450,
     "metadata": {},
     "output_type": "execute_result"
    }
   ],
   "source": [
    "#Populate the panel with the new culture history info\n",
    "panel_ch[\"content\"] = '<style type=\"text/css\">.dcra-blue {\\n     display: inline-block;\\n     background-color: #005e95;\\n     border-color: #005e95 !important;\\n     color: #fff !important;\\n     padding: 0px 4px;\\n     border-radius: 0px;\\n}\\n</style>\\n<p><a class=\"dcra-blue\" data-storymaps=\"MJ-ACTION-1524783785796\" data-storymaps-type=\"navigate\">Back to Table of Contents</a></p>\\n\\n<p>&nbsp;<p>'+ history + '&nbsp;</p>\\n\\n<p>\\n\\n<p>&nbsp;<p>'+ culture + '&nbsp;</p>\\n'\n",
    "panel_ch[\"media\"][\"webmap\"][\"id\"] = new_webmap\n",
    "clonedStorymap.save()"
   ]
  },
  {
   "cell_type": "code",
   "execution_count": 451,
   "metadata": {},
   "outputs": [],
   "source": [
    "#Demographics Panel Updates\n",
    "#Update the zoom extent for the demographics panel map action (tied to 'Historic Census' button)\n",
    "panel_demog[\"media\"][\"webmap\"][\"id\"] = new_webmap\n",
    "lyr_inmap = panel_demog[\"media\"][\"webmap\"][\"popup\"][\"layerId\"]\n",
    "lyr_search = gis.content.search(lyr_inmap[:-4], item_type=\"Feature Service\")\n",
    "DCCED_lyr = gis.content.get(lyr_search[0].id)\n",
    "DCCED_oid = DCCED_lyr.layers[0].query(where=\"CommunityName = '\" + str(community) + \"'\",out_fields='CommunityName')\n",
    "DCCED_oid.df.ESRI_OID[0]\n",
    "DCCED_geom = DCCED_oid.df.SHAPE\n",
    "DCCED_x = DCCED_geom[0][\"x\"]\n",
    "DCCED_y = DCCED_geom[0][\"y\"]\n",
    "community_pop = DCCED_oid.df.CommunityName[0]"
   ]
  },
  {
   "cell_type": "code",
   "execution_count": 452,
   "metadata": {},
   "outputs": [
    {
     "data": {
      "text/plain": [
       "True"
      ]
     },
     "execution_count": 452,
     "metadata": {},
     "output_type": "execute_result"
    }
   ],
   "source": [
    "###DEMOGRAPHICS PANEL###\n",
    "#Update map and popup extents\n",
    "demog_mainpopup = panel_demog[\"media\"][\"webmap\"][\"popup\"]\n",
    "demog_mainpopup[\"fieldName\"] = 'CommunityName'\n",
    "demog_mainpopup[\"fieldValue\"] = str(community_pop)\n",
    "demog_mainpopup[\"anchorPoint\"][\"x\"] = DCCED_x\n",
    "demog_mainpopup[\"anchorPoint\"][\"y\"] = DCCED_y\n",
    "\n",
    "main_extent(panel_demog)\n",
    "\n",
    "#Update the main demographics panel popup\n",
    "demog_histpopup = panel_demog[\"contentActions\"][1][\"media\"][\"webmap\"][\"popup\"]\n",
    "demog_histext = panel_demog[\"contentActions\"][1][\"media\"][\"webmap\"][\"extent\"]\n",
    "\n",
    "#Update historic census map action extent\n",
    "demog_histext[\"xmin\"] = x_min\n",
    "demog_histext[\"xmax\"] = x_max\n",
    "demog_histext[\"ymin\"] = y_min\n",
    "demog_histext[\"ymax\"] = y_max\n",
    "\n",
    "#Update historic census popup data and extent\n",
    "demog_histpopup[\"fieldName\"] = 'CommunityName'\n",
    "demog_histpopup[\"fieldValue\"] = str(community_pop)\n",
    "demog_histpopup[\"x\"] = DCCED_x\n",
    "demog_histpopup[\"y\"] = DCCED_y\n",
    "demog_histpopup[\"anchorPoint\"][\"x\"] = DCCED_x\n",
    "demog_histpopup[\"anchorPoint\"][\"y\"] = DCCED_y\n",
    "clonedStorymap.save()"
   ]
  },
  {
   "cell_type": "code",
   "execution_count": 453,
   "metadata": {},
   "outputs": [
    {
     "data": {
      "text/plain": [
       "True"
      ]
     },
     "execution_count": 453,
     "metadata": {},
     "output_type": "execute_result"
    }
   ],
   "source": [
    "###TRANSPORTATION PANEL###\n",
    "#Update main map extent\n",
    "main_extent(panel_transport)\n",
    "\n",
    "\n",
    "#Popup extents...\n",
    "#panel_transport[\"contentActions\"][1][\"media\"][\"webmap\"][\"extent\"][\"xmin\"] = x_min\n",
    "#panel_transport[\"contentActions\"][1][\"media\"][\"webmap\"][\"extent\"][\"xmax\"] = x_max\n",
    "#panel_transport[\"contentActions\"][1][\"media\"][\"webmap\"][\"extent\"][\"ymin\"] = y_min\n",
    "#panel_transport[\"contentActions\"][1][\"media\"][\"webmap\"][\"extent\"][\"ymax\"] = y_max\n",
    "clonedStorymap.save()"
   ]
  },
  {
   "cell_type": "code",
   "execution_count": 454,
   "metadata": {},
   "outputs": [
    {
     "data": {
      "text/plain": [
       "True"
      ]
     },
     "execution_count": 454,
     "metadata": {},
     "output_type": "execute_result"
    }
   ],
   "source": [
    "#TRANSPORTATION PANEL#\n",
    "#Update panel text using transportation overview feature class (item id = \"2076ce8b6744430880e1c8ab923cd720\")\n",
    "find_text = gis.content.get(\"2076ce8b6744430880e1c8ab923cd720\")\n",
    "access_text = find_text.layers[0].query(where=\"CommunityName = '\" + str(community) + \"'\",out_fields='Description').df\n",
    "panel_transport[\"content\"] = '<style type=\"text/css\">.dcra-blue {\\n     display: inline-block;\\n     background-color: #005e95;\\n     border-color: #005e95 !important;\\n     color: #fff !important;\\n     padding: 3px 8px;\\n     border-radius: 5px;\\n}\\n</style>\\n<style type=\"text/css\">.btn-orange {\\n    display: inline-block;\\n    background-color: #f0ad4e;\\n    border-color: #f0ad4e !important;\\n    color: #fff !important;\\n    padding: 0px 2px;\\n    border-radius: 12px;\\n}\\n</style>\\n<p><a class=\"dcra-blue\" data-storymaps=\"MJ-ACTION-1524784108786\" data-storymaps-type=\"navigate\">Back to Table of Contents</a></p>\\n\\n<p>&nbsp;</p>\\n\\n<p>' + access_text.Description[0] + '</p>\\n\\n<p>&nbsp;</p>\\n\\n<p>More detailed information about Transportation in Alaska can be found <a href=\"http://DCCED.maps.arcgis.com/apps/webappviewer/index.html?id=3de3ebccbb6b4ba8a9c64609e96199ba\" target=\"_blank\"><strong>here</strong></a>.&nbsp;</p>\\n'\n",
    "clonedStorymap.save()"
   ]
  },
  {
   "cell_type": "code",
   "execution_count": 455,
   "metadata": {},
   "outputs": [
    {
     "data": {
      "text/plain": [
       "True"
      ]
     },
     "execution_count": 455,
     "metadata": {},
     "output_type": "execute_result"
    }
   ],
   "source": [
    "###EDUCATION PANEL###\n",
    "#Add community webmap to panel\n",
    "panel_edu[\"media\"][\"webmap\"][\"id\"] = new_webmap\n",
    "\n",
    "#Update extent\n",
    "main_extent(panel_edu)\n",
    "\n",
    "\n",
    "\n",
    "#Popups if we can iteratively create map actions per school in each community...\n",
    "#panel_edu[\"contentActions\"][1][\"media\"][\"webmap\"][\"id\"] = new_webmap\n",
    "#popup_ext = panel_edu[\"contentActions\"][1][\"media\"][\"webmap\"][\"extent\"]\n",
    "#popup_ext[\"xmin\"] = x_min\n",
    "#popup_ext[\"xmax\"] = x_max\n",
    "#popup_ext[\"ymin\"] = y_min\n",
    "#popup_ext[\"ymax\"] = y_max\n",
    "clonedStorymap.save()"
   ]
  },
  {
   "cell_type": "code",
   "execution_count": 456,
   "metadata": {},
   "outputs": [],
   "source": [
    "###EDUCATION PANEL###\n",
    "#Update panel schools listing\n",
    "sch_ref = panel_edu[\"contentActions\"][1][\"media\"][\"webmap\"][\"popup\"][\"layerId\"]\n",
    "find_sch_lyr = gis.content.search(\"Alaska PK-12\", item_type = \"Map Service\")\n",
    "schools = find_sch_lyr[0].layers[0].query(where=\"CommunityName = '\" + str(community) + \"'\",out_fields='EntityName')\n",
    "school_dist = find_sch_lyr[0].layers[0].query(where=\"EntityName = '\" + str(schools.df.EntityName[0]) + \"'\", out_fields='SchoolDistrict').df.SchoolDistrict[0]\n",
    "school_lst = []\n",
    "for school in schools.df.EntityName:\n",
    "    school_lst.append(school)\n",
    "\n",
    "## NEXT, FIGURE OUT HOW TO ITERATIVELY CREATE MAP ACTIONS FOR EACH SCHOOL"
   ]
  },
  {
   "cell_type": "code",
   "execution_count": 457,
   "metadata": {},
   "outputs": [
    {
     "data": {
      "text/plain": [
       "True"
      ]
     },
     "execution_count": 457,
     "metadata": {},
     "output_type": "execute_result"
    }
   ],
   "source": [
    "panel_edu[\"content\"] = '<p>&nbsp;</p>\\n\\n<p>\\n<style type=\"text/css\">.blue {\\n     display: inline-block;\\n     background-color: #3182bd;\\n     border-color: #3182bd !important;\\n     color: #fff !important;\\n     padding: 1px 3px;\\n     border-radius: 12px;\\n</style>\\n<style type=\"text/css\">.dcra-blue {\\n     display: inline-block;\\n     background-color: #005e95;\\n     border-color: #005e95 !important;\\n     color: #fff !important;\\n     padding: 3px 8px;\\n     border-radius: 5px;\\n</style>\\n</p>\\n<style type=\"text/css\">.btn-orange {\\n    display: inline-block;\\n    background-color: #f0ad4e;\\n    border-color: #f0ad4e !important;\\n    color: #fff !important;\\n    padding: 0px 2px;\\n    border-radius: 12px;\\n}\\n</style>\\n<p><a class=\"dcra-blue\" data-storymaps=\"MJ-ACTION-1524785467480\" data-storymaps-type=\"navigate\">Back to Table of Contents</a><br>\\n<style type=\"text/css\">\\n</style>\\n</p>\\n\\n<p>&nbsp;</p>\\n\\n<p>&nbsp;</p>\\n\\n<p>&nbsp;</p>\\n\\n<p>' + str(community) + ' schools are part of ' + str(school_dist) + '. </p>\\n\\n<ul>\\n\\t'\n",
    "\n",
    "clonedStorymap.save()"
   ]
  },
  {
   "cell_type": "code",
   "execution_count": 458,
   "metadata": {},
   "outputs": [
    {
     "data": {
      "text/plain": [
       "True"
      ]
     },
     "execution_count": 458,
     "metadata": {},
     "output_type": "execute_result"
    }
   ],
   "source": [
    "###ECONOMICS PANEL###\n",
    "#Update map extent\n",
    "main_extent(panel_econ)\n",
    "\n",
    "clonedStorymap.save()"
   ]
  },
  {
   "cell_type": "code",
   "execution_count": null,
   "metadata": {},
   "outputs": [],
   "source": []
  }
 ],
 "metadata": {
  "kernelspec": {
   "display_name": "Python 3",
   "language": "python",
   "name": "python3"
  },
  "language_info": {
   "codemirror_mode": {
    "name": "ipython",
    "version": 3
   },
   "file_extension": ".py",
   "mimetype": "text/x-python",
   "name": "python",
   "nbconvert_exporter": "python",
   "pygments_lexer": "ipython3",
   "version": "3.6.5"
  }
 },
 "nbformat": 4,
 "nbformat_minor": 2
}
