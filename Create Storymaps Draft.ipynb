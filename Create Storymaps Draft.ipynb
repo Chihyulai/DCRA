{
 "cells": [
  {
   "cell_type": "code",
   "execution_count": 1,
   "metadata": {},
   "outputs": [
    {
     "name": "stdout",
     "output_type": "stream",
     "text": [
      "········\n"
     ]
    }
   ],
   "source": [
    "import arcgis\n",
    "from arcgis.gis import GIS\n",
    "from arcgis.apps import storymap\n",
    "from getpass import getpass\n",
    "from arcgis.features import FeatureLayer\n",
    "from arcgis.features import FeatureLayerCollection\n",
    "import pandas as pd\n",
    "import matplotlib.pyplot as plot\n",
    "from matplotlib.pyplot import figure\n",
    "import matplotlib.image as img\n",
    "import numpy as np\n",
    "\n",
    "# Create a connection to your portal for publishing (enter your ArcGIS Online \n",
    "#  password in the textbox that appears, then hit 'Enter' on your keyboard)\n",
    "gis = GIS(\"https://www.arcgis.com\", \"ezhatcher\", getpass())"
   ]
  },
  {
   "cell_type": "code",
   "execution_count": 2,
   "metadata": {},
   "outputs": [],
   "source": [
    "#Define the base template storymap using the item ID -- Hoonah Alaska\n",
    "seedappItem = gis.content.get(\"2a51cb9cc9d54b57a52c67d8efdb5eba\") #\"2a51cb9cc9d54b57a52c67d8efdb5eba\""
   ]
  },
  {
   "cell_type": "code",
   "execution_count": 3,
   "metadata": {},
   "outputs": [],
   "source": [
    "#Clone the storymap\n",
    "contentManager = arcgis.gis.ContentManager(gis)\n",
    "clones = contentManager.clone_items(items=[seedappItem],search_existing_items=False)\n",
    "clones\n",
    "clonedStorymap = storymap.JournalStoryMap(clones[0])"
   ]
  },
  {
   "cell_type": "code",
   "execution_count": 4,
   "metadata": {},
   "outputs": [],
   "source": [
    "#arcgis.geometry for polygon extents"
   ]
  },
  {
   "cell_type": "code",
   "execution_count": 5,
   "metadata": {},
   "outputs": [],
   "source": [
    "#Use the base feature class that has the listing of communities for which a storymap will be created-- currently, it's the \n",
    "#boundaries feature service, which also defines the map extent as the user scrolls through the panels\n",
    "community_base = gis.content.get(\"8499c3bc4ff141588f5c9ab1db99b0fb\")\n",
    "find_comm = community_base.layers[0].query(where=\"CommunityName IS NOT NULL\",out_fields=\"CommunityName\").df.CommunityName\n",
    "community_lst = []\n",
    "for c in find_comm:\n",
    "    community_lst.append(c)"
   ]
  },
  {
   "cell_type": "code",
   "execution_count": 6,
   "metadata": {},
   "outputs": [],
   "source": [
    "#Save the storymap clone using the new community name and information\n",
    "community = 'Bethel'\n",
    "clonedStorymap.save(title=str(community) +\" Storymap Test\", description=\"Test cloning script result\", tags=\"Test,Storymap\")\n",
    "sections = clonedStorymap.properties[\"values\"][\"story\"][\"sections\"]"
   ]
  },
  {
   "cell_type": "code",
   "execution_count": 7,
   "metadata": {},
   "outputs": [],
   "source": [
    "#Define the function to access a field within a layer\n",
    "def access_lyr(content,out_fld):\n",
    "    base = content.layers\n",
    "    lyr = base[0]\n",
    "    topic_data = lyr.query(where=\"CommunityName = '\" + str(community) + \"'\",out_fields=out_fld)\n",
    "    return topic_data.df"
   ]
  },
  {
   "cell_type": "code",
   "execution_count": 8,
   "metadata": {
    "scrolled": true
   },
   "outputs": [
    {
     "name": "stdout",
     "output_type": "stream",
     "text": [
      "Picture found for Bethel at https://dcced.maps.arcgis.com/sharing/rest/content/items/06813f2b04cd4da9af2c1872006df064/data\n"
     ]
    }
   ],
   "source": [
    "#Access the URL for the main photo from the Photo Link feature class\n",
    "photo_base = gis.content.get(\"6d9d437bbe2d48bfa87b4d9fca41f80d\")\n",
    "find_photo = access_lyr(photo_base,'PhotoLink')\n",
    "photo_url = find_photo\n",
    "main_pic = photo_url.PhotoLink[0]\n",
    "if str(main_pic) == 'None':\n",
    "    print('There is no picture for ' + str(community))\n",
    "else:\n",
    "    print('Picture found for ' + str(community) + ' at ' + str(main_pic))"
   ]
  },
  {
   "cell_type": "code",
   "execution_count": 9,
   "metadata": {},
   "outputs": [
    {
     "data": {
      "text/plain": [
       "True"
      ]
     },
     "execution_count": 9,
     "metadata": {},
     "output_type": "execute_result"
    }
   ],
   "source": [
    "#Identify/define the storymap panels\n",
    "panel_toc = sections[0]\n",
    "panel_ch = sections[1]\n",
    "panel_demog = sections[2]\n",
    "panel_transport = sections[3]\n",
    "panel_edu = sections[4]\n",
    "panel_econ = sections[5]\n",
    "panel_util = sections[6]\n",
    "panel_ANCSA = sections[7]\n",
    "panel_contacts = sections[8]\n",
    "\n",
    "panel_list = []\n",
    "panel_list.append(panel_demog)\n",
    "panel_list.append(panel_transport)\n",
    "panel_list.append(panel_edu)\n",
    "panel_list.append(panel_econ)\n",
    "#panel_list.append(panel_util) #problem with bounding box...\n",
    "#panel_list.append(panel_ANCSA) #problem with bounding box... \n",
    "panel_list.append(panel_contacts)\n",
    "\n",
    "\n",
    "#Modify the main title and photo in the main Table of Contents panel\n",
    "panel_toc[\"title\"] = '<span style=\"font-size:40px\">' + str(community) + ', Alaska</span>'\n",
    "if str(main_pic) == 'None':\n",
    "    panel_toc[\"media\"][\"image\"][\"url\"] = \"http://dcced.maps.arcgis.com/sharing/rest/content/items/34bf2ca84faa4b258712ed7a5422d0d5/data\"\n",
    "else:\n",
    "    panel_toc[\"media\"][\"image\"][\"url\"] = main_pic\n",
    "clonedStorymap.save()"
   ]
  },
  {
   "cell_type": "code",
   "execution_count": 10,
   "metadata": {
    "scrolled": true
   },
   "outputs": [],
   "source": [
    "#Access the webmap and clone the webmap/update map filters\n",
    "current_webmap = gis.content.get(\"bdbb441b8b5d4ef2bc1a519c44e49c6b\")\n",
    "wm = arcgis.mapping.WebMap(webmapitem=current_webmap)\n",
    "wm_properties = {'title':'OpenData_Storymap_' + str(community),'snippet':'Test webmap clone','tags':['dcra','test']}\n",
    "wm.save(wm_properties,folder='Storymap Webmaps') \n",
    "#Find the new webmap and rename it\n",
    "new_map_search = gis.content.search('OpenData_Storymap_' + str(community), item_type=\"Web Map\")\n",
    "webmap = new_map_search[0]\n",
    "new_webmap = webmap.id\n",
    "#Define the webmap item to access and filter layers\n",
    "upd_webmap = gis.content.get(new_webmap)\n",
    "wm_instory = arcgis.mapping.WebMap(webmapitem=upd_webmap)\n"
   ]
  },
  {
   "cell_type": "code",
   "execution_count": 11,
   "metadata": {},
   "outputs": [
    {
     "data": {
      "text/plain": [
       "True"
      ]
     },
     "execution_count": 11,
     "metadata": {},
     "output_type": "execute_result"
    }
   ],
   "source": [
    "#UPDATE WEBMAP LAYER FILTERS\n",
    "#Taxes\n",
    "wm_instory.layers[0][\"layerDefinition\"][\"definitionExpression\"] = \"(CommunityName = '\" + str(community) +\"') AND (RevenueYear = 2016)\"\n",
    "\n",
    "#Employment and Wages\n",
    "wm_instory.layers[1][\"layerDefinition\"][\"definitionExpression\"] = \"CommunityName = '\" + str(community) + \"'\"\n",
    "\n",
    "#Income and Poverty\n",
    "wm_instory.layers[2][\"layerDefinition\"][\"definitionExpression\"] = \"CommunityName = '\" + str(community) + \"'\"\n",
    "\n",
    "#Municipality Contacts\n",
    "wm_instory.layers[3][\"layerDefinition\"][\"definitionExpression\"] = \"CommunityName = '\" + str(community) + \"'\"\n",
    "\n",
    "#School Enrollment\n",
    "wm_instory.layers[4][\"layerDefinition\"][\"definitionExpression\"] = \"CommunityName = '\" + str(community) + \"'\"\n",
    "\n",
    "#DCCED Certified Population\n",
    "wm_instory.layers[5][\"layerDefinition\"][\"definitionExpression\"] = \"CommunityName = '\" + str(community) + \"'\"\n",
    "\n",
    "#Ferries\n",
    "wm_instory.layers[6][\"layerDefinition\"][\"definitionExpression\"] = \"CommunityName = '\" + str(community) + \"'\"\n",
    "\n",
    "#Culture and History\n",
    "wm_instory.layers[7][\"layerDefinition\"][\"definitionExpression\"] = \"CommunityName = '\" + str(community) + \"'\"\n",
    "\n",
    "#Boro_REAAs\n",
    "#wm_instory.layers[8]\n",
    "\n",
    "#Alaska Airports\n",
    "wm_instory.layers[9][\"layerDefinition\"][\"definitionExpression\"] = \"CommunityName = '\" + str(community) + \"'\"\n",
    "\n",
    "#Federally Recognized Tribes Contacts\n",
    "wm_instory.layers[10][\"layers\"][0][\"layerDefinition\"][\"definitionExpression\"] = \"CommunityName = '\" + str(community) + \"'\"\n",
    "\n",
    "#ANCSA Status\n",
    "wm_instory.layers[11][\"layers\"][0][\"layerDefinition\"][\"definitionExpression\"] = \"CommunityName = '\" + str(community) + \"'\"\n",
    "\n",
    "#Census Population Group Layers\n",
    "wm_instory.layers[12][\"layers\"][0][\"layerDefinition\"][\"definitionExpression\"] = \"CommunityName = '\" + str(community) + \"'\"\n",
    "\n",
    "#Alaska Schools\n",
    "wm_instory.layers[13][\"layers\"][0][\"layerDefinition\"][\"definitionExpression\"] = \"CommunityName = '\" + str(community) + \"'\"\n",
    "\n",
    "#Alaska School Districts\n",
    "#wm_instory.layers[14]\n",
    "\n",
    "#Alaska Road System\n",
    "#wm_instory.layers[15]\n",
    "\n",
    "#Transportation Airport Hub Role\n",
    "#wm_instory.layers[16][\"layers\"][0][\"layerDefinition\"][\"definitionExpression\"] = \"CommunityName = '\" + str(community) + \"'\"\n",
    "\n",
    "wm_instory.update()\n",
    "\n",
    "#Set up filters in the web map to fit the community (Set this kind of thing up once layers are finalized)\n",
    "#def_expr = \"CommunityName = '\" + str(community) + \"'\"\n",
    "#def_expr2 = \"City = '\" + str(community) + \"'\"\n",
    "#conv2_lyrs = [9, 10, 12]\n",
    "#for i in range(7):\n",
    "#    wm_lyrs = wm.layers[i]\n",
    "#    wm_lyrs[\"layerDefinition\"][\"definitionExpression\"] = def_expr\n",
    "#wm.layers[8]['layerDefinition']['definitionExpression'] = def_expr2\n",
    "#for n in conv2_lyrs:\n",
    "#    wm_lyrs = wm.layers[n]\n",
    "#    wm_lyrs[\"layers\"][0][\"layerDefinition\"][\"definitionExpression\"] = def_expr\n",
    "#wm.update()\n"
   ]
  },
  {
   "cell_type": "code",
   "execution_count": 12,
   "metadata": {},
   "outputs": [],
   "source": [
    "#Set up zoom scale (x max and min, y max and min) for map actions\n",
    "try:\n",
    "    bound_expr = \"CommunityName LIKE '%\" + str(community) + \"%'\"\n",
    "    bounds_ft = gis.content.get(\"8499c3bc4ff141588f5c9ab1db99b0fb\").layers[0]\n",
    "    x_min = bounds_ft.query(where=bound_expr,out_fields='EXT_MIN_X').df.EXT_MIN_X[0]\n",
    "    x_max = bounds_ft.query(where=bound_expr,out_fields='EXT_MAX_X').df.EXT_MAX_X[0]\n",
    "    y_min = bounds_ft.query(where=bound_expr,out_fields='EXT_MIN_Y').df.EXT_MIN_Y[0]\n",
    "    y_max = bounds_ft.query(where=bound_expr,out_fields='EXT_MAX_Y').df.EXT_MAX_Y[0]\n",
    "except Exception as e:\n",
    "    print(\"Exception: \" + str(e))\n",
    "\n",
    "#Function to define the primary zoom scale of each panel based on the minimum bounding envelope feature service\n",
    "# item id = \"8499c3bc4ff141588f5c9ab1db99b0fb\" using previously defined zoom scale\n",
    "def main_extent(p):\n",
    "    p[\"media\"][\"webmap\"][\"id\"] = new_webmap\n",
    "    ext1 = p[\"media\"][\"webmap\"][\"extent\"]\n",
    "    ext1[\"xmin\"] = x_min\n",
    "    ext1[\"xmax\"] = x_max\n",
    "    ext1[\"ymin\"] = y_min\n",
    "    ext1[\"ymax\"] = y_max\n",
    "    clonedStorymap.save()"
   ]
  },
  {
   "cell_type": "code",
   "execution_count": 13,
   "metadata": {},
   "outputs": [],
   "source": [
    "#Update all of the panel webmaps using the new webmap ID\n",
    "for p in panel_list:\n",
    "    main_extent(p)"
   ]
  },
  {
   "cell_type": "code",
   "execution_count": 14,
   "metadata": {},
   "outputs": [],
   "source": [
    "#Adjust community point y-offset (main overview map in Culture History panel)\n",
    "#wm_instory.layers[5][\"layerDefinition\"][\"drawingInfo\"][\"renderer\"][\"symbol\"][\"yoffset\"] = 16"
   ]
  },
  {
   "cell_type": "code",
   "execution_count": 15,
   "metadata": {},
   "outputs": [],
   "source": [
    "#Access the culture and history from the culture/history feature class (IF THE PANEL ORDER CHANGES, MAKE SURE INDEX STILL APPLIES)\n",
    "panel_ch[\"media\"][\"webmap\"][\"id\"] = new_webmap\n",
    "ch_ft = gis.content.get(\"3f99cf21a0da42c4bf8b15632e958df9\")\n",
    "culture_lookup = access_lyr(ch_ft,'CommunityCulture')\n",
    "culture = culture_lookup.CommunityCulture[0]\n",
    "history_lookup = access_lyr(ch_ft,'CommunityHistory')\n",
    "history = history_lookup.CommunityHistory[0]"
   ]
  },
  {
   "cell_type": "code",
   "execution_count": 16,
   "metadata": {},
   "outputs": [
    {
     "data": {
      "text/plain": [
       "True"
      ]
     },
     "execution_count": 16,
     "metadata": {},
     "output_type": "execute_result"
    }
   ],
   "source": [
    "#Populate the panel with the new culture history info\n",
    "panel_ch[\"content\"] = '<style type=\"text/css\">.dcra-blue {\\n     display: inline-block;\\n     background-color: #005e95;\\n     border-color: #005e95 !important;\\n     color: #fff !important;\\n     padding: 0px 4px;\\n     border-radius: 0px;\\n}\\n</style>\\n<p><a class=\"dcra-blue\" data-storymaps=\"MJ-ACTION-1524783785796\" data-storymaps-type=\"navigate\">Back to Table of Contents</a></p>\\n\\n<p>&nbsp;<p>'+ history + '&nbsp;</p>\\n\\n<p>\\n\\n<p>&nbsp;<p>'+ culture + '&nbsp;</p>\\n'\n",
    "panel_ch[\"media\"][\"webmap\"][\"altText\"] = 'Map showing the location of ' + str(community) + ', Alaska in the context of the state and borough/REAA boundaries.'\n",
    "clonedStorymap.save()"
   ]
  },
  {
   "cell_type": "code",
   "execution_count": 17,
   "metadata": {},
   "outputs": [
    {
     "data": {
      "text/plain": [
       "True"
      ]
     },
     "execution_count": 17,
     "metadata": {},
     "output_type": "execute_result"
    }
   ],
   "source": [
    "#Demographics Panel Updates\n",
    "#Update the zoom extent for the demographics panel map action (tied to 'Historic Census' button)\n",
    "panel_demog[\"contentActions\"][1][\"media\"][\"webmap\"][\"id\"] = new_webmap\n",
    "panel_demog[\"media\"][\"webmap\"][\"id\"] = new_webmap\n",
    "census_lyr = gis.content.get(\"920dba8f13844c69a7589f7aaaadbcf4\")\n",
    "census_lyr.layers[0]\n",
    "census_data = census_lyr.layers[0].query(where=\"CommunityName = '\" + str(community) + \"'\",out_fields=('Census1880,Census1890,Census1900,Census1910,Census1920,Census1930,Census1940,Census1950,Census1960,Census1970,Census1980,Census1990,Census2000,Census2010'))\n",
    "point_geom = census_data.df.SHAPE\n",
    "point_x = point_geom[0][\"x\"]\n",
    "point_y = point_geom[0][\"y\"]\n",
    "\n",
    "panel_demog[\"media\"][\"webmap\"][\"altText\"] = 'Map showing aerial imagery of ' + str(community) + ', Alaska and a pop-up box displaying current and historic DCCED certified population counts from 2011 to present.'\n",
    "\n",
    "clonedStorymap.save()"
   ]
  },
  {
   "cell_type": "code",
   "execution_count": 18,
   "metadata": {},
   "outputs": [
    {
     "data": {
      "text/plain": [
       "True"
      ]
     },
     "execution_count": 18,
     "metadata": {},
     "output_type": "execute_result"
    }
   ],
   "source": [
    "###DEMOGRAPHICS PANEL###\n",
    "#Update popup extents\n",
    "panel_demog[\"media\"][\"webmap\"][\"popup\"][\"fieldName\"] = 'CommunityName'\n",
    "panel_demog[\"media\"][\"webmap\"][\"popup\"][\"fieldValue\"] = str(community)\n",
    "panel_demog[\"media\"][\"webmap\"][\"popup\"][\"anchorPoint\"][\"x\"] = point_x\n",
    "panel_demog[\"media\"][\"webmap\"][\"popup\"][\"anchorPoint\"][\"y\"] = point_y\n",
    "\n",
    "#Update the main demographics panel popup\n",
    "demog_histpopup = panel_demog[\"contentActions\"][1][\"media\"][\"webmap\"][\"popup\"]\n",
    "demog_histext = panel_demog[\"contentActions\"][1][\"media\"][\"webmap\"][\"extent\"]\n",
    "\n",
    "#Update historic census map action extent\n",
    "demog_histext[\"xmin\"] = x_min\n",
    "demog_histext[\"xmax\"] = x_max\n",
    "demog_histext[\"ymin\"] = y_min\n",
    "demog_histext[\"ymax\"] = y_max\n",
    "\n",
    "#Update historic census popup data and extent\n",
    "demog_histpopup[\"fieldName\"] = 'CommunityName'\n",
    "demog_histpopup[\"fieldValue\"] = str(community)\n",
    "demog_histpopup[\"x\"] = point_x\n",
    "demog_histpopup[\"y\"] = point_y\n",
    "demog_histpopup[\"anchorPoint\"][\"x\"] = point_x\n",
    "demog_histpopup[\"anchorPoint\"][\"y\"] = point_y\n",
    "clonedStorymap.save()"
   ]
  },
  {
   "cell_type": "code",
   "execution_count": 22,
   "metadata": {},
   "outputs": [
    {
     "ename": "ModuleNotFoundError",
     "evalue": "No module named 'PIL'",
     "output_type": "error",
     "traceback": [
      "\u001b[1;31m---------------------------------------------------------------------------\u001b[0m",
      "\u001b[1;31mModuleNotFoundError\u001b[0m                       Traceback (most recent call last)",
      "\u001b[1;32m<ipython-input-22-34b793ae6319>\u001b[0m in \u001b[0;36m<module>\u001b[1;34m()\u001b[0m\n\u001b[0;32m      2\u001b[0m \u001b[1;31m#Historical census plot for demographics panel\u001b[0m\u001b[1;33m\u001b[0m\u001b[1;33m\u001b[0m\u001b[0m\n\u001b[0;32m      3\u001b[0m \u001b[1;32mimport\u001b[0m \u001b[0mbase64\u001b[0m\u001b[1;33m\u001b[0m\u001b[0m\n\u001b[1;32m----> 4\u001b[1;33m \u001b[1;32mimport\u001b[0m \u001b[0mPIL\u001b[0m\u001b[1;33m\u001b[0m\u001b[0m\n\u001b[0m\u001b[0;32m      5\u001b[0m \u001b[0mcensus_base\u001b[0m \u001b[1;33m=\u001b[0m \u001b[0mgis\u001b[0m\u001b[1;33m.\u001b[0m\u001b[0mcontent\u001b[0m\u001b[1;33m.\u001b[0m\u001b[0mget\u001b[0m\u001b[1;33m(\u001b[0m\u001b[1;34m\"3902789711f744f3b7f9cbd51dee6021\"\u001b[0m\u001b[1;33m)\u001b[0m\u001b[1;33m\u001b[0m\u001b[0m\n\u001b[0;32m      6\u001b[0m \u001b[0mpop_df\u001b[0m \u001b[1;33m=\u001b[0m \u001b[0maccess_lyr\u001b[0m\u001b[1;33m(\u001b[0m\u001b[0mcensus_base\u001b[0m\u001b[1;33m,\u001b[0m\u001b[1;34m'CensusPopulation, CensusYear'\u001b[0m\u001b[1;33m)\u001b[0m\u001b[1;33m\u001b[0m\u001b[0m\n",
      "\u001b[1;31mModuleNotFoundError\u001b[0m: No module named 'PIL'"
     ]
    }
   ],
   "source": [
    "###DEMOGRAPHICS PANEL###\n",
    "#Historical census plot for demographics panel\n",
    "import base64\n",
    "census_base = gis.content.get(\"3902789711f744f3b7f9cbd51dee6021\")\n",
    "pop_df = access_lyr(census_base,'CensusPopulation, CensusYear')\n",
    "y = pop_df.CensusPopulation\n",
    "x = pop_df.CensusYear\n",
    "\n",
    "fig = plot.figure()\n",
    "ax = plot.subplot(111)\n",
    "ax.plot(x, y, marker='.', label='Population Size 1880-Present')\n",
    "plot.xticks(rotation = 45)\n",
    "plot.title(str(community) + ' Historical Census Population Counts')\n",
    "plot.show()\n",
    "image = (str(community) + '_censusplot.png')\n",
    "fig.savefig(image)\n",
    "open_image = open(image, 'rb')\n",
    "image_read = open_image.read()\n",
    "image_64_encode = base64.b64encode(image_read)\n",
    "print(str(image_64_encode))\n",
    "embed_plt = \"<div><img style='display:block;width:400px;height:325px;' src='data:<MIMETYPE>;base64,<BASE64_ENCODED_IMAGE><img src='data:image/png;base64,\" + str(image_64_encode) + \"'></div>\"\n",
    "# encode as base64 string to embed it\n",
    "\n",
    "panel_demog[\"content\"] = '<style type=\"text/css\">.dcra-blue {\\n     display: inline-block;\\n background-color: #005e95;\\n     border-color: #005e95 !important;\\n     color: #fff !important;\\n     padding: 0px 4px;\\n     border-radius: 0px;\\n}\\n</style>\\n<p><a class=\"dcra-blue\" data-storymaps=\"MJ-ACTION-1524783883308\" data-storymaps-type=\"navigate\">Back to Table of Contents</a></p>\\n\\n<p>&nbsp;</p>\\n\\n<p>Every June the Commissioner of the Department of Commerce Community Economic Development certifies community population figures. The most recent figures are displayed here.&nbsp;</p>\\n\\n<p>&nbsp;</p>\\n\\n<p><a class=\"btn-orange\" data-storymaps=\"MJ-ACTION-1532625427902\" data-storymaps-type=\"media\" xmlns=\"http://www.w3.org/1999/xhtml\">Historical Census</a>&nbsp;population for the community also provide a century\\'s worth of change in this community.&nbsp;</p>\\n\\n<p> ' + str(embed_plt) +'&nbsp;</p>\\n\\n<p>More information about demographics can be found <a href=\"http://DCCED.maps.arcgis.com/apps/webappviewer/index.html?id=577407acfbc6433389006d099cb25971\" target=\"_blank\">here.&nbsp;</a></p>\\n'\n",
    "\n",
    "clonedStorymap.save()"
   ]
  },
  {
   "cell_type": "code",
   "execution_count": 20,
   "metadata": {},
   "outputs": [
    {
     "ename": "TypeError",
     "evalue": "object of type 'bool' has no len()",
     "output_type": "error",
     "traceback": [
      "\u001b[1;31m---------------------------------------------------------------------------\u001b[0m",
      "\u001b[1;31mTypeError\u001b[0m                                 Traceback (most recent call last)",
      "\u001b[1;32m<ipython-input-20-f7fbda0aca63>\u001b[0m in \u001b[0;36m<module>\u001b[1;34m()\u001b[0m\n\u001b[0;32m     10\u001b[0m \u001b[1;31m#tbl2 = arpt_tbl.replace('AirportCode_1', \"Airport Code\")\u001b[0m\u001b[1;33m\u001b[0m\u001b[1;33m\u001b[0m\u001b[0m\n\u001b[0;32m     11\u001b[0m \u001b[1;31m#tbl_FINAL = tbl2.replace('<th>','<th bgcolor=\"5C96CA\">')\u001b[0m\u001b[1;33m\u001b[0m\u001b[1;33m\u001b[0m\u001b[0m\n\u001b[1;32m---> 12\u001b[1;33m \u001b[1;32mif\u001b[0m \u001b[0mstr\u001b[0m\u001b[1;33m(\u001b[0m\u001b[0marpt_data\u001b[0m \u001b[1;33m==\u001b[0m \u001b[1;34m'Empty DataFrame\\nColumns: []\\nIndex: []'\u001b[0m\u001b[1;33m)\u001b[0m\u001b[1;33m:\u001b[0m\u001b[1;33m\u001b[0m\u001b[0m\n\u001b[0m\u001b[0;32m     13\u001b[0m     \u001b[0mprint\u001b[0m\u001b[1;33m(\u001b[0m\u001b[1;34m\"There are no public use airports in \"\u001b[0m \u001b[1;33m+\u001b[0m \u001b[0mstr\u001b[0m\u001b[1;33m(\u001b[0m\u001b[0mcommunity\u001b[0m\u001b[1;33m)\u001b[0m\u001b[1;33m)\u001b[0m\u001b[1;33m\u001b[0m\u001b[0m\n\u001b[0;32m     14\u001b[0m     \u001b[0mpanel_transport\u001b[0m\u001b[1;33m[\u001b[0m\u001b[1;34m\"content\"\u001b[0m\u001b[1;33m]\u001b[0m \u001b[1;33m=\u001b[0m \u001b[1;34m'<style type=\"text/css\">.dcra-blue {\\n     display: inline-block;\\n     background-color: #005e95;\\n     border-color: #005e95 !important;\\n     color: #fff !important;\\n     padding: 3px 8px;\\n     border-radius: 5px;\\n}\\n</style>\\n<style type=\"text/css\">.btn-orange {\\n    display: inline-block;\\n    background-color: #f0ad4e;\\n    border-color: #f0ad4e !important;\\n    color: #fff !important;\\n    padding: 0px 2px;\\n    border-radius: 12px;\\n}\\n</style>\\n<p><a class=\"dcra-blue\" data-storymaps=\"MJ-ACTION-1524784108786\" data-storymaps-type=\"navigate\">Back to Table of Contents</a></p>\\n\\n<p>&nbsp;</p>\\n\\n<p>'\u001b[0m \u001b[1;33m+\u001b[0m \u001b[0maccess_text\u001b[0m\u001b[1;33m.\u001b[0m\u001b[0mDescription\u001b[0m\u001b[1;33m[\u001b[0m\u001b[1;36m0\u001b[0m\u001b[1;33m]\u001b[0m \u001b[1;33m+\u001b[0m \u001b[1;34m'</p>\\n\\n<p>&nbsp;</p>\\n\\n<p>&nbsp;</p>\\n\\n<p>&nbsp;</p>\\n\\n<p>More detailed information about Transportation in Alaska can be found <a href=\"http://DCCED.maps.arcgis.com/apps/webappviewer/index.html?id=3de3ebccbb6b4ba8a9c64609e96199ba\" target=\"_blank\"><strong>here</strong></a>.&nbsp;</p>\\n'\u001b[0m\u001b[1;33m\u001b[0m\u001b[0m\n",
      "\u001b[1;32m~\\AppData\\Local\\ESRI\\conda\\envs\\new-env-python\\lib\\site-packages\\pandas\\core\\ops.py\u001b[0m in \u001b[0;36mf\u001b[1;34m(self, other)\u001b[0m\n\u001b[0;32m   1333\u001b[0m             res = self._combine_const(other, func,\n\u001b[0;32m   1334\u001b[0m                                       \u001b[0merrors\u001b[0m\u001b[1;33m=\u001b[0m\u001b[1;34m'ignore'\u001b[0m\u001b[1;33m,\u001b[0m\u001b[1;33m\u001b[0m\u001b[0m\n\u001b[1;32m-> 1335\u001b[1;33m                                       try_cast=False)\n\u001b[0m\u001b[0;32m   1336\u001b[0m             \u001b[1;32mreturn\u001b[0m \u001b[0mres\u001b[0m\u001b[1;33m.\u001b[0m\u001b[0mfillna\u001b[0m\u001b[1;33m(\u001b[0m\u001b[1;32mTrue\u001b[0m\u001b[1;33m)\u001b[0m\u001b[1;33m.\u001b[0m\u001b[0mastype\u001b[0m\u001b[1;33m(\u001b[0m\u001b[0mbool\u001b[0m\u001b[1;33m)\u001b[0m\u001b[1;33m\u001b[0m\u001b[0m\n\u001b[0;32m   1337\u001b[0m \u001b[1;33m\u001b[0m\u001b[0m\n",
      "\u001b[1;32m~\\AppData\\Local\\ESRI\\conda\\envs\\new-env-python\\lib\\site-packages\\pandas\\core\\frame.py\u001b[0m in \u001b[0;36m_combine_const\u001b[1;34m(self, other, func, errors, try_cast)\u001b[0m\n\u001b[0;32m   3986\u001b[0m                                    \u001b[0merrors\u001b[0m\u001b[1;33m=\u001b[0m\u001b[0merrors\u001b[0m\u001b[1;33m,\u001b[0m\u001b[1;33m\u001b[0m\u001b[0m\n\u001b[0;32m   3987\u001b[0m                                    try_cast=try_cast)\n\u001b[1;32m-> 3988\u001b[1;33m         \u001b[1;32mreturn\u001b[0m \u001b[0mself\u001b[0m\u001b[1;33m.\u001b[0m\u001b[0m_constructor\u001b[0m\u001b[1;33m(\u001b[0m\u001b[0mnew_data\u001b[0m\u001b[1;33m)\u001b[0m\u001b[1;33m\u001b[0m\u001b[0m\n\u001b[0m\u001b[0;32m   3989\u001b[0m \u001b[1;33m\u001b[0m\u001b[0m\n\u001b[0;32m   3990\u001b[0m     \u001b[1;32mdef\u001b[0m \u001b[0m_compare_frame_evaluate\u001b[0m\u001b[1;33m(\u001b[0m\u001b[0mself\u001b[0m\u001b[1;33m,\u001b[0m \u001b[0mother\u001b[0m\u001b[1;33m,\u001b[0m \u001b[0mfunc\u001b[0m\u001b[1;33m,\u001b[0m \u001b[0mstr_rep\u001b[0m\u001b[1;33m,\u001b[0m \u001b[0mtry_cast\u001b[0m\u001b[1;33m=\u001b[0m\u001b[1;32mTrue\u001b[0m\u001b[1;33m)\u001b[0m\u001b[1;33m:\u001b[0m\u001b[1;33m\u001b[0m\u001b[0m\n",
      "\u001b[1;32m~\\AppData\\Local\\ESRI\\conda\\envs\\new-env-python\\lib\\site-packages\\arcgis\\features\\_data\\geodataset\\geodataframe.py\u001b[0m in \u001b[0;36m__init__\u001b[1;34m(self, *args, **kwargs)\u001b[0m\n\u001b[0;32m    240\u001b[0m             \u001b[1;32mif\u001b[0m \u001b[0misinstance\u001b[0m\u001b[1;33m(\u001b[0m\u001b[0mself\u001b[0m\u001b[1;33m[\u001b[0m\u001b[1;34m'SHAPE'\u001b[0m\u001b[1;33m]\u001b[0m\u001b[1;33m,\u001b[0m \u001b[1;33m(\u001b[0m\u001b[0mGeoSeries\u001b[0m\u001b[1;33m,\u001b[0m \u001b[0mpd\u001b[0m\u001b[1;33m.\u001b[0m\u001b[0mSeries\u001b[0m\u001b[1;33m)\u001b[0m\u001b[1;33m)\u001b[0m\u001b[1;33m:\u001b[0m\u001b[1;33m\u001b[0m\u001b[0m\n\u001b[0;32m    241\u001b[0m                 \u001b[1;32mif\u001b[0m \u001b[0mall\u001b[0m\u001b[1;33m(\u001b[0m\u001b[0misinstance\u001b[0m\u001b[1;33m(\u001b[0m\u001b[0mx\u001b[0m\u001b[1;33m,\u001b[0m \u001b[0m_types\u001b[0m\u001b[1;33m.\u001b[0m\u001b[0mGeometry\u001b[0m\u001b[1;33m)\u001b[0m \u001b[1;32mfor\u001b[0m \u001b[0mx\u001b[0m \u001b[1;32min\u001b[0m \u001b[0mself\u001b[0m\u001b[1;33m[\u001b[0m\u001b[0mself\u001b[0m\u001b[1;33m.\u001b[0m\u001b[0m_geometry_column_name\u001b[0m\u001b[1;33m]\u001b[0m\u001b[1;33m)\u001b[0m \u001b[1;33m==\u001b[0m \u001b[1;32mFalse\u001b[0m\u001b[1;33m:\u001b[0m\u001b[1;33m\u001b[0m\u001b[0m\n\u001b[1;32m--> 242\u001b[1;33m                     \u001b[0mgeometry\u001b[0m \u001b[1;33m=\u001b[0m \u001b[1;33m[\u001b[0m\u001b[0m_types\u001b[0m\u001b[1;33m.\u001b[0m\u001b[0mGeometry\u001b[0m\u001b[1;33m(\u001b[0m\u001b[0mg\u001b[0m\u001b[1;33m)\u001b[0m \u001b[1;32mfor\u001b[0m \u001b[0mg\u001b[0m \u001b[1;32min\u001b[0m \u001b[0mself\u001b[0m\u001b[1;33m[\u001b[0m\u001b[1;34m'SHAPE'\u001b[0m\u001b[1;33m]\u001b[0m\u001b[1;33m.\u001b[0m\u001b[0mtolist\u001b[0m\u001b[1;33m(\u001b[0m\u001b[1;33m)\u001b[0m\u001b[1;33m]\u001b[0m\u001b[1;33m\u001b[0m\u001b[0m\n\u001b[0m\u001b[0;32m    243\u001b[0m                     \u001b[1;32mdel\u001b[0m \u001b[0mself\u001b[0m\u001b[1;33m[\u001b[0m\u001b[1;34m'SHAPE'\u001b[0m\u001b[1;33m]\u001b[0m\u001b[1;33m\u001b[0m\u001b[0m\n\u001b[0;32m    244\u001b[0m                     \u001b[0mself\u001b[0m\u001b[1;33m.\u001b[0m\u001b[0mset_geometry\u001b[0m\u001b[1;33m(\u001b[0m\u001b[0mgeometry\u001b[0m\u001b[1;33m,\u001b[0m \u001b[0minplace\u001b[0m\u001b[1;33m=\u001b[0m\u001b[1;32mTrue\u001b[0m\u001b[1;33m)\u001b[0m\u001b[1;33m\u001b[0m\u001b[0m\n",
      "\u001b[1;32m~\\AppData\\Local\\ESRI\\conda\\envs\\new-env-python\\lib\\site-packages\\arcgis\\features\\_data\\geodataset\\geodataframe.py\u001b[0m in \u001b[0;36m<listcomp>\u001b[1;34m(.0)\u001b[0m\n\u001b[0;32m    240\u001b[0m             \u001b[1;32mif\u001b[0m \u001b[0misinstance\u001b[0m\u001b[1;33m(\u001b[0m\u001b[0mself\u001b[0m\u001b[1;33m[\u001b[0m\u001b[1;34m'SHAPE'\u001b[0m\u001b[1;33m]\u001b[0m\u001b[1;33m,\u001b[0m \u001b[1;33m(\u001b[0m\u001b[0mGeoSeries\u001b[0m\u001b[1;33m,\u001b[0m \u001b[0mpd\u001b[0m\u001b[1;33m.\u001b[0m\u001b[0mSeries\u001b[0m\u001b[1;33m)\u001b[0m\u001b[1;33m)\u001b[0m\u001b[1;33m:\u001b[0m\u001b[1;33m\u001b[0m\u001b[0m\n\u001b[0;32m    241\u001b[0m                 \u001b[1;32mif\u001b[0m \u001b[0mall\u001b[0m\u001b[1;33m(\u001b[0m\u001b[0misinstance\u001b[0m\u001b[1;33m(\u001b[0m\u001b[0mx\u001b[0m\u001b[1;33m,\u001b[0m \u001b[0m_types\u001b[0m\u001b[1;33m.\u001b[0m\u001b[0mGeometry\u001b[0m\u001b[1;33m)\u001b[0m \u001b[1;32mfor\u001b[0m \u001b[0mx\u001b[0m \u001b[1;32min\u001b[0m \u001b[0mself\u001b[0m\u001b[1;33m[\u001b[0m\u001b[0mself\u001b[0m\u001b[1;33m.\u001b[0m\u001b[0m_geometry_column_name\u001b[0m\u001b[1;33m]\u001b[0m\u001b[1;33m)\u001b[0m \u001b[1;33m==\u001b[0m \u001b[1;32mFalse\u001b[0m\u001b[1;33m:\u001b[0m\u001b[1;33m\u001b[0m\u001b[0m\n\u001b[1;32m--> 242\u001b[1;33m                     \u001b[0mgeometry\u001b[0m \u001b[1;33m=\u001b[0m \u001b[1;33m[\u001b[0m\u001b[0m_types\u001b[0m\u001b[1;33m.\u001b[0m\u001b[0mGeometry\u001b[0m\u001b[1;33m(\u001b[0m\u001b[0mg\u001b[0m\u001b[1;33m)\u001b[0m \u001b[1;32mfor\u001b[0m \u001b[0mg\u001b[0m \u001b[1;32min\u001b[0m \u001b[0mself\u001b[0m\u001b[1;33m[\u001b[0m\u001b[1;34m'SHAPE'\u001b[0m\u001b[1;33m]\u001b[0m\u001b[1;33m.\u001b[0m\u001b[0mtolist\u001b[0m\u001b[1;33m(\u001b[0m\u001b[1;33m)\u001b[0m\u001b[1;33m]\u001b[0m\u001b[1;33m\u001b[0m\u001b[0m\n\u001b[0m\u001b[0;32m    243\u001b[0m                     \u001b[1;32mdel\u001b[0m \u001b[0mself\u001b[0m\u001b[1;33m[\u001b[0m\u001b[1;34m'SHAPE'\u001b[0m\u001b[1;33m]\u001b[0m\u001b[1;33m\u001b[0m\u001b[0m\n\u001b[0;32m    244\u001b[0m                     \u001b[0mself\u001b[0m\u001b[1;33m.\u001b[0m\u001b[0mset_geometry\u001b[0m\u001b[1;33m(\u001b[0m\u001b[0mgeometry\u001b[0m\u001b[1;33m,\u001b[0m \u001b[0minplace\u001b[0m\u001b[1;33m=\u001b[0m\u001b[1;32mTrue\u001b[0m\u001b[1;33m)\u001b[0m\u001b[1;33m\u001b[0m\u001b[0m\n",
      "\u001b[1;32m~\\AppData\\Local\\ESRI\\conda\\envs\\new-env-python\\lib\\site-packages\\arcgis\\geometry\\_types.py\u001b[0m in \u001b[0;36m__call__\u001b[1;34m(cls, iterable, **kwargs)\u001b[0m\n\u001b[0;32m    165\u001b[0m                                           spatial_reference=sr))\n\u001b[0;32m    166\u001b[0m         \u001b[1;32mif\u001b[0m \u001b[0mcls\u001b[0m \u001b[1;32mis\u001b[0m \u001b[0mGeometry\u001b[0m\u001b[1;33m:\u001b[0m\u001b[1;33m\u001b[0m\u001b[0m\n\u001b[1;32m--> 167\u001b[1;33m             \u001b[1;32mif\u001b[0m \u001b[0mlen\u001b[0m\u001b[1;33m(\u001b[0m\u001b[0miterable\u001b[0m\u001b[1;33m)\u001b[0m \u001b[1;33m>\u001b[0m \u001b[1;36m0\u001b[0m\u001b[1;33m:\u001b[0m\u001b[1;33m\u001b[0m\u001b[0m\n\u001b[0m\u001b[0;32m    168\u001b[0m                 \u001b[1;32mif\u001b[0m \u001b[0misinstance\u001b[0m\u001b[1;33m(\u001b[0m\u001b[0miterable\u001b[0m\u001b[1;33m,\u001b[0m \u001b[0mdict\u001b[0m\u001b[1;33m)\u001b[0m\u001b[1;33m:\u001b[0m\u001b[1;33m\u001b[0m\u001b[0m\n\u001b[0;32m    169\u001b[0m                     \u001b[1;32mif\u001b[0m \u001b[1;34m'x'\u001b[0m \u001b[1;32min\u001b[0m \u001b[0miterable\u001b[0m \u001b[1;32mand\u001b[0m\u001b[0;31m \u001b[0m\u001b[0;31m\\\u001b[0m\u001b[1;33m\u001b[0m\u001b[0m\n",
      "\u001b[1;31mTypeError\u001b[0m: object of type 'bool' has no len()"
     ]
    }
   ],
   "source": [
    "###TRANSPORTATION PANEL###\n",
    "#Update panel text using transportation overview feature class (item id = \"2076ce8b6744430880e1c8ab923cd720\")\n",
    "find_text = gis.content.get(\"2076ce8b6744430880e1c8ab923cd720\")\n",
    "access_text = find_text.layers[0].query(where=\"CommunityName = '\" + str(community) + \"'\",out_fields='Description').df\n",
    "\n",
    "#Create airport listing table in panel\n",
    "hub_role_base = gis.content.get(\"d373c8a5ff0c43cf9cb505c63e0c5f4d\")\n",
    "arpt_data = access_lyr(hub_role_base,'EntityName')\n",
    "#arpt_tbl = arpt_data.to_html(columns=[\"EntityName\", \"Hub\", \"Role\", \"AirportCode_1\"]).replace('EntityName', 'Airport')\n",
    "#tbl2 = arpt_tbl.replace('AirportCode_1', \"Airport Code\")\n",
    "#tbl_FINAL = tbl2.replace('<th>','<th bgcolor=\"5C96CA\">')\n",
    "if str(arpt_data == 'Empty DataFrame\\nColumns: []\\nIndex: []'):\n",
    "    print(\"There are no public use airports in \" + str(community))\n",
    "    panel_transport[\"content\"] = '<style type=\"text/css\">.dcra-blue {\\n     display: inline-block;\\n     background-color: #005e95;\\n     border-color: #005e95 !important;\\n     color: #fff !important;\\n     padding: 3px 8px;\\n     border-radius: 5px;\\n}\\n</style>\\n<style type=\"text/css\">.btn-orange {\\n    display: inline-block;\\n    background-color: #f0ad4e;\\n    border-color: #f0ad4e !important;\\n    color: #fff !important;\\n    padding: 0px 2px;\\n    border-radius: 12px;\\n}\\n</style>\\n<p><a class=\"dcra-blue\" data-storymaps=\"MJ-ACTION-1524784108786\" data-storymaps-type=\"navigate\">Back to Table of Contents</a></p>\\n\\n<p>&nbsp;</p>\\n\\n<p>' + access_text.Description[0] + '</p>\\n\\n<p>&nbsp;</p>\\n\\n<p>&nbsp;</p>\\n\\n<p>&nbsp;</p>\\n\\n<p>More detailed information about Transportation in Alaska can be found <a href=\"http://DCCED.maps.arcgis.com/apps/webappviewer/index.html?id=3de3ebccbb6b4ba8a9c64609e96199ba\" target=\"_blank\"><strong>here</strong></a>.&nbsp;</p>\\n'\n",
    "else:\n",
    "    def airport_lst(airports):\n",
    "        arpt_listing = [\"<table border = '1'><tr><th width='50%'>Airport</th><th width='15%'>Hub</th><th width='15%'>Role</th><th width='20%'>Airport Code</th></tr><tbody>\"]\n",
    "        for a in airports:\n",
    "            airport_data = hub_role_base.layers[0].query(where=\"EntityName = '\" + str(a) + \"'\",out_fields='EntityName, Hub, Role, AirportCode_1')\n",
    "            airport = airport_data.df.EntityName[0]\n",
    "            hub_item = airport_data.df.Hub[0]\n",
    "            role_item = airport_data.df.Role[0]\n",
    "            arpt_code = airport_data.df.AirportCode_1[0]\n",
    "            arpt_listing.append(\"<tr><td>\" + a + \"</td><td> \" + str(hub_item) + \"</td><td> \" + str(role_item) + \"</td><td>\" + str(arpt_code) + \"</td><td>\")\n",
    "        arpt_listing.append(\"</tbody></table>\")\n",
    "        return(' '.join(arpt_listing))\n",
    "    airport_lst(airports)\n",
    "    panel_transport[\"content\"] = '<style type=\"text/css\">.dcra-blue {\\n     display: inline-block;\\n     background-color: #005e95;\\n     border-color: #005e95 !important;\\n     color: #fff !important;\\n     padding: 3px 8px;\\n     border-radius: 5px;\\n}\\n</style>\\n<style type=\"text/css\">.btn-orange {\\n    display: inline-block;\\n    background-color: #f0ad4e;\\n    border-color: #f0ad4e !important;\\n    color: #fff !important;\\n    padding: 0px 2px;\\n    border-radius: 12px;\\n}\\n</style>\\n<p><a class=\"dcra-blue\" data-storymaps=\"MJ-ACTION-1524784108786\" data-storymaps-type=\"navigate\">Back to Table of Contents</a></p>\\n\\n<p>&nbsp;</p>\\n\\n<p>' + access_text.Description[0] + '</p>\\n\\n<p>&nbsp;</p><p>Click on the icons in the map to see specific information about each airport or ferry terminal.</p>\\n\\n<p>&nbsp;</p>\\n\\n<p>' + str(airport_lst(airports)) + '</p><p>&nbsp;</p>\\n\\n<p>More detailed information about Transportation in Alaska can be found <a href=\"http://DCCED.maps.arcgis.com/apps/webappviewer/index.html?id=3de3ebccbb6b4ba8a9c64609e96199ba\" target=\"_blank\"><strong>here</strong></a>.&nbsp;</p>\\n'\n",
    "clonedStorymap.save()"
   ]
  },
  {
   "cell_type": "code",
   "execution_count": null,
   "metadata": {},
   "outputs": [],
   "source": [
    "###EDUCATION PANEL###\n",
    "#Popups if we can iteratively create map actions per school in each community...\n",
    "#panel_edu[\"contentActions\"][1][\"media\"][\"webmap\"][\"id\"] = new_webmap\n",
    "#popup_ext = panel_edu[\"contentActions\"][1][\"media\"][\"webmap\"][\"extent\"]\n",
    "#popup_ext[\"xmin\"] = x_min\n",
    "#popup_ext[\"xmax\"] = x_max\n",
    "#popup_ext[\"ymin\"] = y_min\n",
    "#popup_ext[\"ymax\"] = y_max\n",
    "#clonedStorymap.save()\n",
    "\n",
    "#CUSTOM POPUP\n",
    "ak_schools = gis.content.get(\"1f8928a4bae646ef884be3b6a0b8bae8\")\n",
    "community_sch_lst = access_lyr(ak_schools,'EntityName,PhysicalAddress,PhysicalCity,PhysicalZip')\n",
    "output = str(ak_schools.layers[0].query(where=\"CommunityName = '\" + str(community) + \"'\",out_fields = \"EntityName\").df)\n",
    "if output == 'Empty DataFrame\\nColumns: []\\nIndex: []':\n",
    "    print(\"There are no schools in \" + str(community))\n",
    "    panel_edu[\"content\"] = '<p>&nbsp;</p>\\n\\n<p>\\n<style type=\"text/css\">.blue {\\n     display: inline-block;\\n     background-color: #3182bd;\\n     border-color: #3182bd !important;\\n     color: #fff !important;\\n     padding: 1px 3px;\\n     border-radius: 12px;\\n</style>\\n<style type=\"text/css\">.dcra-blue {\\n     display: inline-block;\\n     background-color: #005e95;\\n     border-color: #005e95 !important;\\n     color: #fff !important;\\n     padding: 3px 8px;\\n     border-radius: 5px;\\n</style>\\n</p>\\n<p><a class=\"dcra-blue\" data-storymaps=\"MJ-ACTION-1524785467480\" data-storymaps-type=\"navigate\">Back to Table of Contents</a><br>\\n<style type=\"text/css\">\\n</style>\\n</p>\\n\\n<p>&nbsp;</p>\\n\\n<p>There are no schools open in' + str(community) + '</p><p>&nbsp;</p>\\n\\n<p>For more information about Alaska schools and education, click <a href=\"http://DCCED.maps.arcgis.com/apps/webappviewer/index.html?id=cff461c2397d4c66ae2c28dbfb62319f\" target=\"_blank\">here</a>.</p>\\n'\n",
    "else:\n",
    "    schools = community_sch_lst.EntityName\n",
    "    def school_lst(entities):\n",
    "        school_list = [\"<table border = '1'><tr><th width='45%'>School</th><th width='45%'>Address</th><th width='10%'>Zip Code</th></tr><tbody>\"]\n",
    "        for e in entities:\n",
    "            school_data = ak_schools.layers[0].query(where=\"EntityName = '\" + str(e) + \"'\",out_fields='EntityName,PhysicalAddress,PhysicalCity,PhysicalZip')\n",
    "            address = school_data.df.PhysicalAddress[0]\n",
    "            city = school_data.df.PhysicalCity[0]\n",
    "            zipcode = school_data.df.PhysicalZip[0]\n",
    "            print(e, address, city, zipcode)\n",
    "            school_list.append(\"<tr><td>\" + str(e) + \"</td><td>\" + str(address) + \"</td><td>\" + str(zipcode) + '</td></tr>')\n",
    "        school_list.append(\"</tbody></table>\")\n",
    "        return(' '.join(school_list))\n",
    "\n",
    "    school_tbl = school_lst(schools)\n",
    "\n",
    "    ###EDUCATION PANEL###\n",
    "    #Update panel schools listing\n",
    "    sch_ref = panel_edu[\"contentActions\"][1][\"media\"][\"webmap\"][\"popup\"][\"layerId\"]\n",
    "    find_sch_lyr = gis.content.search(\"Alaska PK-12\", item_type = \"Map Service\")\n",
    "    schools = find_sch_lyr[0].layers[0].query(where=\"CommunityName = '\" + str(community) + \"'\",out_fields='EntityName')\n",
    "    school_dist = find_sch_lyr[0].layers[0].query(where=\"EntityName = '\" + str(schools.df.EntityName[0]) + \"'\", out_fields='SchoolDistrict').df.SchoolDistrict[0]\n",
    "\n",
    "    panel_edu[\"content\"] = '<p>\\n<style type=\"text/css\">.blue {\\n     display: inline-block;\\n     background-color: #3182bd;\\n     border-color: #3182bd !important;\\n     color: #fff !important;\\n     padding: 1px 3px;\\n     border-radius: 12px;\\n</style>\\n<style type=\"text/css\">.dcra-blue {\\n     display: inline-block;\\n     background-color: #005e95;\\n     border-color: #005e95 !important;\\n     color: #fff !important;\\n     padding: 3px 8px;\\n     border-radius: 5px;\\n</style>\\n</p>\\n \\n<p><a class=\"dcra-blue\" data-storymaps=\"MJ-ACTION-1524785467480\" data-storymaps-type=\"navigate\">Back to Table of Contents</a><br>\\n<style type=\"text/css\">\\n</style>\\n</p>\\n\\n<p>&nbsp;</p>\\n\\n<p>&nbsp;</p>\\n\\n<p>&nbsp;</p>\\n\\n<p>' + str(community) + ' schools are part of ' + str(school_dist) + '. </p>\\n\\n<ul>\\n\\t <p>&nbsp;</p>\\n\\n <p><div style=\"text-align: center,\">' + str(school_tbl) + '</p></div><p>&nbsp;</p>\\n\\n<p>Click each school in the map to see enrollment information from 2012 to present.</p><p>&nbsp;\\n\\n</p><p>For more information about Alaska schools and education, click <a href=\"http://DCCED.maps.arcgis.com/apps/webappviewer/index.html?id=cff461c2397d4c66ae2c28dbfb62319f\" target=\"_blank\">here</a>.</p>\\n'\n",
    "\n",
    "    clonedStorymap.save()\n",
    "    "
   ]
  },
  {
   "cell_type": "code",
   "execution_count": null,
   "metadata": {},
   "outputs": [],
   "source": [
    "ak_schools = gis.content.get(\"1f8928a4bae646ef884be3b6a0b8bae8\")\n",
    "community_sch_lst = access_lyr(ak_schools,'EntityName,PhysicalAddress,PhysicalCity,PhysicalZip')\n",
    "schools = community_sch_lst.EntityName\n",
    "community_sch_lst"
   ]
  },
  {
   "cell_type": "code",
   "execution_count": null,
   "metadata": {},
   "outputs": [],
   "source": [
    "panel_edu[\"contentActions\"][1][\"media\"][\"webmap\"][\"id\"] = new_webmap"
   ]
  },
  {
   "cell_type": "code",
   "execution_count": null,
   "metadata": {},
   "outputs": [],
   "source": [
    "###CONTACTS PANEL###\n",
    "#Find Municipality Contact Information\n",
    "contacts_fl_id = gis.content.search(query=\"title:Municipality Contacts\", item_type=\"Feature Layer\")[0].id\n",
    "contacts_lyr = gis.content.get(contacts_fl_id)\n",
    "contact_info = contacts_lyr.layers[0].query(where=\"EntityName LIKE '%\" + str(community) + \"%'\",out_fields='EntityName,Address,City,Zip,Phone,Fax,Website,Email')\n",
    "contact_info.df\n"
   ]
  },
  {
   "cell_type": "code",
   "execution_count": null,
   "metadata": {},
   "outputs": [],
   "source": [
    "###CONTACTS PANEL###\n",
    "#Write municipality info to table\n",
    "output = str(contact_info.df)\n",
    "if output == 'Empty DataFrame\\nColumns: []\\nIndex: []':\n",
    "    print(str(community) + ' is not a municipality. No municipal contact info will be written to panel.')\n",
    "    panel_contacts[\"content\"] = '<style type=\"text/css\">.dcra-blue {\\n     display: inline-block;\\n     background-color: #005e95;\\n     border-color: #005e95 !important;\\n     color: #fff !important;\\n     padding: 0px 4px;\\n     border-radius: 0px;\\n}\\n</style>\\n<p><a class=\"dcra-blue\" data-storymaps=\"MJ-ACTION-1524783785796\" data-storymaps-type=\"navigate\">Back to Table of Contents</a></p>\\n\\n<p>&nbsp;</p>\\n\\n<p>To find all community contacts and to download mailing labels visit the <a href=\"http://dcced.maps.arcgis.com/apps/webappviewer/index.html?id=148ae1328f9549acb46cfa80366ed37e/data\" target=\"_blank\">Contacts Directory</a>.&nbsp;</p>\\n'\n",
    "else: \n",
    "    def muni_c_lst(info):\n",
    "        muni_contact = []\n",
    "        address = info.df.Address[0]\n",
    "        city = info.df.City[0]\n",
    "        zipcode = info.df.Zip[0]\n",
    "        phone1 = info.df.Phone[0]\n",
    "        phone = str(phone1[0:3] + '-' + phone1[3:6] + '-' + phone1[6:11])\n",
    "        fax1 = info.df.Fax[0]\n",
    "        fax = str(fax1[0:3] + '-' + fax1[3:6] + '-' + fax1[6:11])\n",
    "        website = info.df.Website[0]\n",
    "        email = info.df.Email[0]\n",
    "        print(address, city, zipcode, phone, fax, website, email)\n",
    "        muni_contact.append(\"<p style='text-align:center'><b>\" + str(info.df.EntityName[0]) + '</b></p>')\n",
    "        muni_contact.append(\"<p style='text-align:center'>\" + str(address) + \", \" + str(city) + \", AK\" + \" \" + str(zipcode) + '<p>&nbsp;</p>\\n\\n')\n",
    "        muni_contact.append(\"<p style='text-align:center'>Phone Number: \" + str(phone) + '</p>')\n",
    "        muni_contact.append(\"<p style='text-align:center'>Fax Number: \" + str(fax) + '</p><p>&nbsp;</p>\\n\\n')\n",
    "        muni_contact.append(\"<p style='text-align:center'>Website: \" + str(website) + '</p>')\n",
    "        muni_contact.append(\"<p style='text-align:center'>\" + str(email) + '</p><p>&nbsp;</p>\\n\\n')\n",
    "        return(' '.join(muni_contact))\n",
    "\n",
    "    muni_c_lst(contact_info)\n",
    "    \n",
    "    panel_contacts[\"content\"] = '<style type=\"text/css\">.dcra-blue {\\n     display: inline-block;\\n     background-color: #005e95;\\n     border-color: #005e95 !important;\\n     color: #fff !important;\\n     padding: 0px 4px;\\n     border-radius: 0px;\\n}\\n</style>\\n<p><a class=\"dcra-blue\" data-storymaps=\"MJ-ACTION-1524783785796\" data-storymaps-type=\"navigate\">Back to Table of Contents</a></p>\\n\\n<p>&nbsp;</p>\\n\\n<div> '+ str(muni_c_lst(contact_info)) + '<p>To find all community contacts and to download mailing labels visit the <a href=\"http://dcced.maps.arcgis.com/apps/webappviewer/index.html?id=148ae1328f9549acb46cfa80366ed37e/data\" target=\"_blank\">Contacts Directory</a>.&nbsp;</p>\\n'\n",
    "    clonedStorymap.save()"
   ]
  },
  {
   "cell_type": "code",
   "execution_count": null,
   "metadata": {},
   "outputs": [],
   "source": [
    "panel_demog"
   ]
  },
  {
   "cell_type": "code",
   "execution_count": null,
   "metadata": {},
   "outputs": [],
   "source": []
  }
 ],
 "metadata": {
  "kernelspec": {
   "display_name": "Python 3",
   "language": "python",
   "name": "python3"
  },
  "language_info": {
   "codemirror_mode": {
    "name": "ipython",
    "version": 3
   },
   "file_extension": ".py",
   "mimetype": "text/x-python",
   "name": "python",
   "nbconvert_exporter": "python",
   "pygments_lexer": "ipython3",
   "version": "3.6.5"
  }
 },
 "nbformat": 4,
 "nbformat_minor": 2
}
